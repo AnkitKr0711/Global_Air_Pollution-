{
 "cells": [
  {
   "cell_type": "markdown",
   "id": "5045aa35",
   "metadata": {},
   "source": [
    "# Python Assessment on Lec 2"
   ]
  },
  {
   "cell_type": "markdown",
   "id": "7c11333e",
   "metadata": {},
   "source": [
    "\n",
    "* 2\tList operation\n"
   ]
  },
  {
   "cell_type": "markdown",
   "id": "2c439dd1",
   "metadata": {},
   "source": [
    "##  1 create a list containing numbers form 1 to 5?"
   ]
  },
  {
   "cell_type": "code",
   "execution_count": 5,
   "id": "1bfb55ce",
   "metadata": {},
   "outputs": [
    {
     "data": {
      "text/plain": [
       "[1, 2, 3, 4, 5]"
      ]
     },
     "execution_count": 5,
     "metadata": {},
     "output_type": "execute_result"
    }
   ],
   "source": [
    "li1=[1,2,3,4,5]\n",
    "li1"
   ]
  },
  {
   "cell_type": "markdown",
   "id": "5c005050",
   "metadata": {},
   "source": [
    "List are used to store multiple items in a single variable. it can store mutiple datatype to declaring we use [] square bracket. list accept dublicate and can be mutable/changeable"
   ]
  },
  {
   "cell_type": "markdown",
   "id": "348c8ae2",
   "metadata": {},
   "source": [
    "### 2. check if a list is having element 'a' in it?"
   ]
  },
  {
   "cell_type": "code",
   "execution_count": 3,
   "id": "eb365238",
   "metadata": {
    "ExecuteTime": {
     "end_time": "2022-01-15T08:01:02.936549Z",
     "start_time": "2022-01-15T08:01:02.926460Z"
    }
   },
   "outputs": [
    {
     "data": {
      "text/plain": [
       "True"
      ]
     },
     "execution_count": 3,
     "metadata": {},
     "output_type": "execute_result"
    }
   ],
   "source": [
    "li = [1,2,3,'a','b','c']\n",
    "'a' in li"
   ]
  },
  {
   "cell_type": "markdown",
   "id": "06ad8163",
   "metadata": {},
   "source": [
    "The in keyword is used to check if a value is present in a sequence (list, range, string etc.)."
   ]
  },
  {
   "cell_type": "markdown",
   "id": "cf039638",
   "metadata": {},
   "source": [
    "### 2.1 .Is a list mutable?\n"
   ]
  },
  {
   "cell_type": "code",
   "execution_count": 6,
   "id": "10bdf261",
   "metadata": {
    "ExecuteTime": {
     "end_time": "2022-01-15T08:01:02.936549Z",
     "start_time": "2022-01-15T08:01:02.926460Z"
    }
   },
   "outputs": [
    {
     "name": "stdout",
     "output_type": "stream",
     "text": [
      "2714286772480 : [1]\n",
      "2714286772480 : [1, 5, 6, 7]\n"
     ]
    }
   ],
   "source": [
    "#run the following code to see the id of the list and answer whether the list is mutable or not?\n",
    "x = [1]\n",
    "print(id(x),':',x)\n",
    "x.append(5)\n",
    "x.extend([6,7])\n",
    "print(id(x),':',x)\n",
    "# yes list is mutable you can see that changes in elements in a LIST do not change the LIST id"
   ]
  },
  {
   "cell_type": "markdown",
   "id": "e9383b05",
   "metadata": {},
   "source": [
    "### 3. Print list in reverse order\n",
    "* Hint use slicing"
   ]
  },
  {
   "cell_type": "markdown",
   "id": "b10f67d6",
   "metadata": {},
   "source": [
    "List is reverse by slice[::-1], there are other way to reverse by usinge reverse() function"
   ]
  },
  {
   "cell_type": "code",
   "execution_count": 7,
   "id": "1d33c852",
   "metadata": {
    "ExecuteTime": {
     "end_time": "2022-01-14T04:58:45.198090Z",
     "start_time": "2022-01-14T04:58:45.190084Z"
    }
   },
   "outputs": [
    {
     "data": {
      "text/plain": [
       "[6, 5, 4, 3, 2, 1]"
      ]
     },
     "execution_count": 7,
     "metadata": {},
     "output_type": "execute_result"
    }
   ],
   "source": [
    "list1 = [1,2,3,4,5,6]\n",
    "list1[::-1]"
   ]
  },
  {
   "cell_type": "markdown",
   "id": "3469fb37",
   "metadata": {},
   "source": [
    "### 4. Perform following operations on list1\n",
    "* Maximum\n",
    "* Minimum value\n",
    "* Sum of all elements in list\n"
   ]
  },
  {
   "cell_type": "code",
   "execution_count": 12,
   "id": "9cfedf80",
   "metadata": {
    "ExecuteTime": {
     "end_time": "2022-01-14T13:18:17.558779Z",
     "start_time": "2022-01-14T13:18:17.550779Z"
    }
   },
   "outputs": [
    {
     "name": "stdout",
     "output_type": "stream",
     "text": [
      "7\n",
      "1\n",
      "34\n"
     ]
    }
   ],
   "source": [
    "list1 = [1,2,3,4,5,6,6,7]\n",
    "print(max(list1))\n",
    "print(min(list1))\n",
    "print(sum(list1))"
   ]
  },
  {
   "cell_type": "markdown",
   "id": "7f2cd158",
   "metadata": {},
   "source": [
    "### 5. Read user name(string) as input and print it in Reverse order\n",
    "* eg: input - PREPLEAF\n",
    "* o/p - FAELPERP"
   ]
  },
  {
   "cell_type": "markdown",
   "id": "f146eef4",
   "metadata": {},
   "source": [
    "reversing order of string by slicing "
   ]
  },
  {
   "cell_type": "code",
   "execution_count": 17,
   "id": "f0f1328f",
   "metadata": {
    "ExecuteTime": {
     "end_time": "2022-01-14T13:17:05.001541Z",
     "start_time": "2022-01-14T13:17:04.985536Z"
    }
   },
   "outputs": [
    {
     "data": {
      "text/plain": [
       "'FAELPERP'"
      ]
     },
     "execution_count": 17,
     "metadata": {},
     "output_type": "execute_result"
    }
   ],
   "source": [
    "str1=\"PREPLEAF\"\n",
    "str1=str1[::-1]\n",
    "str1"
   ]
  },
  {
   "cell_type": "markdown",
   "id": "ae8fd17a",
   "metadata": {},
   "source": [
    "### 6.  Sort the l1 in ascending order and descending order\n",
    "* hint : use **Sort**\n",
    "### eg:\n",
    "#### Input: [2,58,697,10,245,3,5,589,25]\n",
    "#### Output [2, 3, 5, 10, 25, 58, 245, 589, 697]       and       [697, 589, 245, 58, 25, 10, 5, 3, 2]"
   ]
  },
  {
   "cell_type": "code",
   "execution_count": 29,
   "id": "1b528097",
   "metadata": {
    "ExecuteTime": {
     "end_time": "2022-01-14T13:23:15.708530Z",
     "start_time": "2022-01-14T13:23:15.692529Z"
    }
   },
   "outputs": [
    {
     "name": "stdout",
     "output_type": "stream",
     "text": [
      "[2, 3, 5, 10, 25, 58, 245, 589, 697]\n",
      "[697, 589, 245, 58, 25, 10, 5, 3, 2]\n"
     ]
    }
   ],
   "source": [
    "li2=[2,58,697,10,245,3,5,589,25]\n",
    "li2.sort()\n",
    "print(li2)\n",
    "li2.sort(reverse=True)\n",
    "print(li2)"
   ]
  },
  {
   "cell_type": "markdown",
   "id": "53ff93a9",
   "metadata": {},
   "source": [
    "sorting can be done by nested loop and using if statement\n",
    "for(i = 0; i<5; i++) {\n",
    "   for(j = i+1; j<5; j++)\n",
    "   {\n",
    "      if(a[j] < a[i]) {\n",
    "         temp = a[i];\n",
    "         a[i] = a[j];\n",
    "         a[j] = temp;"
   ]
  },
  {
   "cell_type": "markdown",
   "id": "4d3b83b8",
   "metadata": {},
   "source": [
    "### 7. Take a string as input from user and sort string in alphabetic order\n",
    "\n",
    "#### eg: Input  -  \"amit\"\n",
    "#### Output :  ['a', 'i', 'm', 't']"
   ]
  },
  {
   "cell_type": "code",
   "execution_count": 3,
   "id": "9ee990cd",
   "metadata": {
    "ExecuteTime": {
     "end_time": "2022-01-15T08:01:02.936549Z",
     "start_time": "2022-01-15T08:01:02.926460Z"
    }
   },
   "outputs": [
    {
     "name": "stdout",
     "output_type": "stream",
     "text": [
      "['a', 'm', 'i', 't']\n"
     ]
    }
   ],
   "source": [
    "str2=\"amit\"\n",
    "print(list(str2))"
   ]
  },
  {
   "cell_type": "markdown",
   "id": "705f3e27",
   "metadata": {},
   "source": [
    "### 8. create 2  lists with integers and do following operations\n",
    "* list1 + list2\n",
    "* list1 - list2\n",
    "\n",
    "#### eg: Input  list1 = [1,2,3,4,5,6]     list2 = [2,5,7,8,9,11]\n",
    "#### Output  list1 + list2  = [1, 2, 3, 4, 5, 6, 2, 5, 7, 8, 9, 11]\n",
    "#### list1 - list2 = [1,3,7,8,9,11]"
   ]
  },
  {
   "cell_type": "code",
   "execution_count": 4,
   "id": "5bac26ef",
   "metadata": {},
   "outputs": [
    {
     "name": "stdout",
     "output_type": "stream",
     "text": [
      "[1, 2, 3, 4, 5, 6, 2, 5, 7, 8, 9, 11]\n",
      "[1, 3, 4, 6, 8, 9, 11, 7]\n"
     ]
    }
   ],
   "source": [
    "list1 = [1,2,3,4,5,6]\n",
    "list2 = [2,5,7,8,9,11]\n",
    "NewList = list1+list2\n",
    "print(NewList)\n",
    "Newlist1=list(list(set(list1)-set(list2))+list(set(list2)-set(list1)))\n",
    "print(Newlist1)"
   ]
  },
  {
   "cell_type": "markdown",
   "id": "ac1f136e",
   "metadata": {},
   "source": [
    "### 9. Append list1 to list2 and print list2"
   ]
  },
  {
   "cell_type": "code",
   "execution_count": 45,
   "id": "a4c5ea13",
   "metadata": {
    "ExecuteTime": {
     "end_time": "2022-01-15T08:01:02.936549Z",
     "start_time": "2022-01-15T08:01:02.926460Z"
    }
   },
   "outputs": [
    {
     "data": {
      "text/plain": [
       "[2, 5, 7, 8, 9, 11, [1, 2, 3, 4, 5, 6]]"
      ]
     },
     "execution_count": 45,
     "metadata": {},
     "output_type": "execute_result"
    }
   ],
   "source": [
    "list1 = [1,2,3,4,5,6]\n",
    "list2 = [2,5,7,8,9,11]\n",
    "list2.append(list1)\n",
    "list2"
   ]
  },
  {
   "cell_type": "markdown",
   "id": "001f3db2",
   "metadata": {},
   "source": [
    "The append() list method add the given list or array to the current list. it will simple add whole lits without iterable"
   ]
  },
  {
   "cell_type": "markdown",
   "id": "e2405d74",
   "metadata": {},
   "source": [
    "### 11. Extend list1 with list2?"
   ]
  },
  {
   "cell_type": "code",
   "execution_count": 5,
   "id": "8dac942f",
   "metadata": {
    "ExecuteTime": {
     "end_time": "2022-01-15T08:01:02.936549Z",
     "start_time": "2022-01-15T08:01:02.926460Z"
    }
   },
   "outputs": [
    {
     "data": {
      "text/plain": [
       "[1, 2, 3, 4, 5, 6, 2, 5, 7, 8, 9, 11]"
      ]
     },
     "execution_count": 5,
     "metadata": {},
     "output_type": "execute_result"
    }
   ],
   "source": [
    "list1 = [1,2,3,4,5,6]\n",
    "list2 = [2,5,7,8,9,11]\n",
    "list1.extend(list2)\n",
    "list1"
   ]
  },
  {
   "cell_type": "markdown",
   "id": "184ce55a",
   "metadata": {},
   "source": [
    "The extend() list method adds the elements from the given iterable like list or array to the current list. it will extract one by one element from list and make new list"
   ]
  },
  {
   "cell_type": "markdown",
   "id": "21dad9b9",
   "metadata": {},
   "source": [
    "### 11. Concate 2 strings using '+' "
   ]
  },
  {
   "cell_type": "code",
   "execution_count": 47,
   "id": "5e9c1321",
   "metadata": {
    "ExecuteTime": {
     "end_time": "2022-01-15T08:01:02.936549Z",
     "start_time": "2022-01-15T08:01:02.926460Z"
    }
   },
   "outputs": [
    {
     "name": "stdout",
     "output_type": "stream",
     "text": [
      "prepleaf\n"
     ]
    }
   ],
   "source": [
    "str1='prep'\n",
    "str2='leaf'\n",
    "print(str1 + str2)"
   ]
  },
  {
   "cell_type": "markdown",
   "id": "ea3fcf80",
   "metadata": {},
   "source": [
    "### 12. Print last character in a string"
   ]
  },
  {
   "cell_type": "code",
   "execution_count": 11,
   "id": "0b1e41da",
   "metadata": {
    "ExecuteTime": {
     "end_time": "2022-01-15T08:00:46.806304Z",
     "start_time": "2022-01-15T08:00:46.787230Z"
    }
   },
   "outputs": [
    {
     "data": {
      "text/plain": [
       "'F'"
      ]
     },
     "execution_count": 11,
     "metadata": {},
     "output_type": "execute_result"
    }
   ],
   "source": [
    "str1 = \"PREPLEAF\"\n",
    "str1[-1:]"
   ]
  },
  {
   "cell_type": "markdown",
   "id": "ce3e2b65",
   "metadata": {},
   "source": [
    "# bonus"
   ]
  },
  {
   "cell_type": "markdown",
   "id": "c495dd7b",
   "metadata": {},
   "source": [
    "### Do python lists store values or pointers?"
   ]
  },
  {
   "cell_type": "code",
   "execution_count": 12,
   "id": "dbabbab3",
   "metadata": {},
   "outputs": [
    {
     "name": "stdout",
     "output_type": "stream",
     "text": [
      "2807240157488\n",
      "2807240157520\n",
      "2807321379008\n",
      "2807240157488\n",
      "2807240157520\n"
     ]
    }
   ],
   "source": [
    "print( id(1) ) #=> 4438537632\n",
    "print( id(2) ) #=> 4438537664\n",
    "a = [1,2,3]\n",
    "print( id(a) ) #=> 4579953480\n",
    "print( id(a[0]) ) #=> 4438537632\n",
    "print( id(a[1]) ) #=> 4438537664"
   ]
  },
  {
   "cell_type": "markdown",
   "id": "02a45bb4",
   "metadata": {},
   "source": [
    "Python lists don’t store values themselves. They store pointers to values stored elsewhere in memory. This allows lists to be mutable."
   ]
  },
  {
   "cell_type": "code",
   "execution_count": null,
   "id": "b90324b9",
   "metadata": {},
   "outputs": [],
   "source": [
    "# Python list store pointer/address of next value in the series. and refering the address compiler can access the value present at that address"
   ]
  }
 ],
 "metadata": {
  "hide_input": false,
  "kernelspec": {
   "display_name": "Python 3 (ipykernel)",
   "language": "python",
   "name": "python3"
  },
  "language_info": {
   "codemirror_mode": {
    "name": "ipython",
    "version": 3
   },
   "file_extension": ".py",
   "mimetype": "text/x-python",
   "name": "python",
   "nbconvert_exporter": "python",
   "pygments_lexer": "ipython3",
   "version": "3.9.7"
  },
  "toc": {
   "base_numbering": 1,
   "nav_menu": {},
   "number_sections": true,
   "sideBar": true,
   "skip_h1_title": false,
   "title_cell": "Table of Contents",
   "title_sidebar": "Contents",
   "toc_cell": false,
   "toc_position": {
    "height": "calc(100% - 180px)",
    "left": "10px",
    "top": "150px",
    "width": "164.991px"
   },
   "toc_section_display": true,
   "toc_window_display": true
  }
 },
 "nbformat": 4,
 "nbformat_minor": 5
}
