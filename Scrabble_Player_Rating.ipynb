{
 "cells": [
  {
   "cell_type": "code",
   "execution_count": 1,
   "id": "220e5682",
   "metadata": {},
   "outputs": [],
   "source": [
    "import pandas as pd\n",
    "import numpy as np\n",
    "from matplotlib import pyplot as plt\n",
    "import seaborn as sns\n",
    "import scipy.stats as stats"
   ]
  },
  {
   "cell_type": "code",
   "execution_count": 2,
   "id": "ec1851d0",
   "metadata": {
    "scrolled": true
   },
   "outputs": [],
   "source": [
    "#train = pd.read_csv('C:/Users/ankro/OneDrive/Desktop/player_train.csv') #original table\n",
    "#test = pd.read_csv('C:/Users/ankro/OneDrive/Desktop/player_test.csv')  # original table\n",
    "turns = pd.read_csv('C:/Users/ankro/OneDrive/Desktop/player_turns.csv') # original table\n",
    "train = pd.read_csv('C:/Users/ankro/OneDrive/Desktop/strain.csv') # modify table from sql\n",
    "test = pd.read_csv('C:/Users/ankro/OneDrive/Desktop/stest.csv') # modify table from sql \n",
    "game = pd.read_csv('C:/Users/ankro/OneDrive/Desktop/player_games.csv') #original table\n",
    "# turns = pd.read_csv('C:/Users/ankro/OneDrive/Desktop/turns.csv') # modify table from sql "
   ]
  },
  {
   "cell_type": "code",
   "execution_count": 3,
   "id": "cac8da2a",
   "metadata": {},
   "outputs": [],
   "source": [
    "pd.set_option('display.max_columns',None)\n",
    "pd.set_option('display.max_rows',30)"
   ]
  },
  {
   "cell_type": "markdown",
   "id": "ae66c1a2",
   "metadata": {},
   "source": [
    "# Exploratory  Data Analysis"
   ]
  },
  {
   "cell_type": "code",
   "execution_count": 4,
   "id": "ebb5ac76",
   "metadata": {},
   "outputs": [
    {
     "data": {
      "text/html": [
       "<div>\n",
       "<style scoped>\n",
       "    .dataframe tbody tr th:only-of-type {\n",
       "        vertical-align: middle;\n",
       "    }\n",
       "\n",
       "    .dataframe tbody tr th {\n",
       "        vertical-align: top;\n",
       "    }\n",
       "\n",
       "    .dataframe thead th {\n",
       "        text-align: right;\n",
       "    }\n",
       "</style>\n",
       "<table border=\"1\" class=\"dataframe\">\n",
       "  <thead>\n",
       "    <tr style=\"text-align: right;\">\n",
       "      <th></th>\n",
       "      <th>game_id</th>\n",
       "      <th>Bot_name</th>\n",
       "      <th>Bot_score</th>\n",
       "      <th>Bot_rating</th>\n",
       "      <th>player_name</th>\n",
       "      <th>player_score</th>\n",
       "      <th>player_rating</th>\n",
       "    </tr>\n",
       "  </thead>\n",
       "  <tbody>\n",
       "    <tr>\n",
       "      <th>0</th>\n",
       "      <td>1</td>\n",
       "      <td>BetterBot</td>\n",
       "      <td>335</td>\n",
       "      <td>1637</td>\n",
       "      <td>stevy</td>\n",
       "      <td>429.0</td>\n",
       "      <td>1500</td>\n",
       "    </tr>\n",
       "    <tr>\n",
       "      <th>1</th>\n",
       "      <td>3</td>\n",
       "      <td>BetterBot</td>\n",
       "      <td>318</td>\n",
       "      <td>2071</td>\n",
       "      <td>davidavid</td>\n",
       "      <td>440.0</td>\n",
       "      <td>1811</td>\n",
       "    </tr>\n",
       "    <tr>\n",
       "      <th>2</th>\n",
       "      <td>4</td>\n",
       "      <td>BetterBot</td>\n",
       "      <td>478</td>\n",
       "      <td>1936</td>\n",
       "      <td>Inandoutworker</td>\n",
       "      <td>119.0</td>\n",
       "      <td>1473</td>\n",
       "    </tr>\n",
       "    <tr>\n",
       "      <th>3</th>\n",
       "      <td>5</td>\n",
       "      <td>STEEBot</td>\n",
       "      <td>427</td>\n",
       "      <td>1844</td>\n",
       "      <td>stevy</td>\n",
       "      <td>325.0</td>\n",
       "      <td>1500</td>\n",
       "    </tr>\n",
       "    <tr>\n",
       "      <th>4</th>\n",
       "      <td>6</td>\n",
       "      <td>STEEBot</td>\n",
       "      <td>427</td>\n",
       "      <td>2143</td>\n",
       "      <td>HivinD</td>\n",
       "      <td>378.0</td>\n",
       "      <td>2029</td>\n",
       "    </tr>\n",
       "  </tbody>\n",
       "</table>\n",
       "</div>"
      ],
      "text/plain": [
       "   game_id   Bot_name  Bot_score  Bot_rating     player_name  player_score  \\\n",
       "0        1  BetterBot        335        1637           stevy         429.0   \n",
       "1        3  BetterBot        318        2071       davidavid         440.0   \n",
       "2        4  BetterBot        478        1936  Inandoutworker         119.0   \n",
       "3        5    STEEBot        427        1844           stevy         325.0   \n",
       "4        6    STEEBot        427        2143          HivinD         378.0   \n",
       "\n",
       "   player_rating  \n",
       "0           1500  \n",
       "1           1811  \n",
       "2           1473  \n",
       "3           1500  \n",
       "4           2029  "
      ]
     },
     "execution_count": 4,
     "metadata": {},
     "output_type": "execute_result"
    }
   ],
   "source": [
    "train.head(5) #turns.sample(10) #game.tail(10)"
   ]
  },
  {
   "cell_type": "code",
   "execution_count": 5,
   "id": "6c02f590",
   "metadata": {},
   "outputs": [
    {
     "name": "stdout",
     "output_type": "stream",
     "text": [
      "<class 'pandas.core.frame.DataFrame'>\n",
      "RangeIndex: 50420 entries, 0 to 50419\n",
      "Data columns (total 7 columns):\n",
      " #   Column         Non-Null Count  Dtype  \n",
      "---  ------         --------------  -----  \n",
      " 0   game_id        50420 non-null  int64  \n",
      " 1   Bot_name       50420 non-null  object \n",
      " 2   Bot_score      50420 non-null  int64  \n",
      " 3   Bot_rating     50420 non-null  int64  \n",
      " 4   player_name    50420 non-null  object \n",
      " 5   player_score   50419 non-null  float64\n",
      " 6   player_rating  50420 non-null  int64  \n",
      "dtypes: float64(1), int64(4), object(2)\n",
      "memory usage: 2.7+ MB\n"
     ]
    }
   ],
   "source": [
    "train.info()"
   ]
  },
  {
   "cell_type": "code",
   "execution_count": 6,
   "id": "9489565a",
   "metadata": {},
   "outputs": [
    {
     "data": {
      "text/html": [
       "<div>\n",
       "<style scoped>\n",
       "    .dataframe tbody tr th:only-of-type {\n",
       "        vertical-align: middle;\n",
       "    }\n",
       "\n",
       "    .dataframe tbody tr th {\n",
       "        vertical-align: top;\n",
       "    }\n",
       "\n",
       "    .dataframe thead th {\n",
       "        text-align: right;\n",
       "    }\n",
       "</style>\n",
       "<table border=\"1\" class=\"dataframe\">\n",
       "  <thead>\n",
       "    <tr style=\"text-align: right;\">\n",
       "      <th></th>\n",
       "      <th>game_id</th>\n",
       "      <th>Bot_score</th>\n",
       "      <th>Bot_rating</th>\n",
       "      <th>player_score</th>\n",
       "      <th>player_rating</th>\n",
       "    </tr>\n",
       "  </thead>\n",
       "  <tbody>\n",
       "    <tr>\n",
       "      <th>count</th>\n",
       "      <td>50420.000000</td>\n",
       "      <td>50420.000000</td>\n",
       "      <td>50420.000000</td>\n",
       "      <td>50419.000000</td>\n",
       "      <td>50420.000000</td>\n",
       "    </tr>\n",
       "    <tr>\n",
       "      <th>mean</th>\n",
       "      <td>36365.899147</td>\n",
       "      <td>421.957438</td>\n",
       "      <td>1960.810809</td>\n",
       "      <td>376.101589</td>\n",
       "      <td>1790.409163</td>\n",
       "    </tr>\n",
       "    <tr>\n",
       "      <th>std</th>\n",
       "      <td>21019.501457</td>\n",
       "      <td>70.475216</td>\n",
       "      <td>200.434698</td>\n",
       "      <td>72.746498</td>\n",
       "      <td>229.722334</td>\n",
       "    </tr>\n",
       "    <tr>\n",
       "      <th>min</th>\n",
       "      <td>1.000000</td>\n",
       "      <td>162.000000</td>\n",
       "      <td>1349.000000</td>\n",
       "      <td>0.000000</td>\n",
       "      <td>1033.000000</td>\n",
       "    </tr>\n",
       "    <tr>\n",
       "      <th>25%</th>\n",
       "      <td>18141.250000</td>\n",
       "      <td>373.000000</td>\n",
       "      <td>1827.000000</td>\n",
       "      <td>331.000000</td>\n",
       "      <td>1582.000000</td>\n",
       "    </tr>\n",
       "    <tr>\n",
       "      <th>50%</th>\n",
       "      <td>36337.500000</td>\n",
       "      <td>417.000000</td>\n",
       "      <td>1991.000000</td>\n",
       "      <td>378.000000</td>\n",
       "      <td>1818.000000</td>\n",
       "    </tr>\n",
       "    <tr>\n",
       "      <th>75%</th>\n",
       "      <td>54622.250000</td>\n",
       "      <td>465.000000</td>\n",
       "      <td>2124.000000</td>\n",
       "      <td>423.000000</td>\n",
       "      <td>1982.000000</td>\n",
       "    </tr>\n",
       "    <tr>\n",
       "      <th>max</th>\n",
       "      <td>72773.000000</td>\n",
       "      <td>1132.000000</td>\n",
       "      <td>2377.000000</td>\n",
       "      <td>707.000000</td>\n",
       "      <td>2510.000000</td>\n",
       "    </tr>\n",
       "  </tbody>\n",
       "</table>\n",
       "</div>"
      ],
      "text/plain": [
       "            game_id     Bot_score    Bot_rating  player_score  player_rating\n",
       "count  50420.000000  50420.000000  50420.000000  50419.000000   50420.000000\n",
       "mean   36365.899147    421.957438   1960.810809    376.101589    1790.409163\n",
       "std    21019.501457     70.475216    200.434698     72.746498     229.722334\n",
       "min        1.000000    162.000000   1349.000000      0.000000    1033.000000\n",
       "25%    18141.250000    373.000000   1827.000000    331.000000    1582.000000\n",
       "50%    36337.500000    417.000000   1991.000000    378.000000    1818.000000\n",
       "75%    54622.250000    465.000000   2124.000000    423.000000    1982.000000\n",
       "max    72773.000000   1132.000000   2377.000000    707.000000    2510.000000"
      ]
     },
     "execution_count": 6,
     "metadata": {},
     "output_type": "execute_result"
    }
   ],
   "source": [
    "train.describe()"
   ]
  },
  {
   "cell_type": "code",
   "execution_count": 7,
   "id": "5ca322db",
   "metadata": {},
   "outputs": [
    {
     "data": {
      "text/html": [
       "<div>\n",
       "<style scoped>\n",
       "    .dataframe tbody tr th:only-of-type {\n",
       "        vertical-align: middle;\n",
       "    }\n",
       "\n",
       "    .dataframe tbody tr th {\n",
       "        vertical-align: top;\n",
       "    }\n",
       "\n",
       "    .dataframe thead th {\n",
       "        text-align: right;\n",
       "    }\n",
       "</style>\n",
       "<table border=\"1\" class=\"dataframe\">\n",
       "  <thead>\n",
       "    <tr style=\"text-align: right;\">\n",
       "      <th></th>\n",
       "      <th>Bot_name</th>\n",
       "      <th>player_name</th>\n",
       "    </tr>\n",
       "  </thead>\n",
       "  <tbody>\n",
       "    <tr>\n",
       "      <th>count</th>\n",
       "      <td>50420</td>\n",
       "      <td>50420</td>\n",
       "    </tr>\n",
       "    <tr>\n",
       "      <th>unique</th>\n",
       "      <td>4</td>\n",
       "      <td>1029</td>\n",
       "    </tr>\n",
       "    <tr>\n",
       "      <th>top</th>\n",
       "      <td>HastyBot</td>\n",
       "      <td>BB-8</td>\n",
       "    </tr>\n",
       "    <tr>\n",
       "      <th>freq</th>\n",
       "      <td>17346</td>\n",
       "      <td>6576</td>\n",
       "    </tr>\n",
       "  </tbody>\n",
       "</table>\n",
       "</div>"
      ],
      "text/plain": [
       "        Bot_name player_name\n",
       "count      50420       50420\n",
       "unique         4        1029\n",
       "top     HastyBot        BB-8\n",
       "freq       17346        6576"
      ]
     },
     "execution_count": 7,
     "metadata": {},
     "output_type": "execute_result"
    }
   ],
   "source": [
    "train.describe(include=['object'])"
   ]
  },
  {
   "cell_type": "code",
   "execution_count": 8,
   "id": "113b3866",
   "metadata": {},
   "outputs": [
    {
     "data": {
      "text/plain": [
       "game_id          0\n",
       "Bot_name         0\n",
       "Bot_score        0\n",
       "Bot_rating       0\n",
       "player_name      0\n",
       "player_score     1\n",
       "player_rating    0\n",
       "dtype: int64"
      ]
     },
     "execution_count": 8,
     "metadata": {},
     "output_type": "execute_result"
    }
   ],
   "source": [
    "train.isnull().sum()"
   ]
  },
  {
   "cell_type": "code",
   "execution_count": 9,
   "id": "52a46711",
   "metadata": {},
   "outputs": [
    {
     "data": {
      "text/plain": [
       "0"
      ]
     },
     "execution_count": 9,
     "metadata": {},
     "output_type": "execute_result"
    }
   ],
   "source": [
    "train.duplicated().sum()"
   ]
  },
  {
   "cell_type": "code",
   "execution_count": 10,
   "id": "ab83972a",
   "metadata": {},
   "outputs": [
    {
     "name": "stdout",
     "output_type": "stream",
     "text": [
      "<class 'pandas.core.frame.DataFrame'>\n",
      "RangeIndex: 72773 entries, 0 to 72772\n",
      "Data columns (total 12 columns):\n",
      " #   Column                 Non-Null Count  Dtype  \n",
      "---  ------                 --------------  -----  \n",
      " 0   game_id                72773 non-null  int64  \n",
      " 1   first                  72773 non-null  object \n",
      " 2   time_control_name      72773 non-null  object \n",
      " 3   game_end_reason        72773 non-null  object \n",
      " 4   winner                 72773 non-null  int64  \n",
      " 5   created_at             72773 non-null  object \n",
      " 6   lexicon                72773 non-null  object \n",
      " 7   initial_time_seconds   72773 non-null  int64  \n",
      " 8   increment_seconds      72773 non-null  int64  \n",
      " 9   rating_mode            72773 non-null  object \n",
      " 10  max_overtime_minutes   72773 non-null  int64  \n",
      " 11  game_duration_seconds  72773 non-null  float64\n",
      "dtypes: float64(1), int64(5), object(6)\n",
      "memory usage: 6.7+ MB\n"
     ]
    }
   ],
   "source": [
    "game.info()"
   ]
  },
  {
   "cell_type": "code",
   "execution_count": 11,
   "id": "d869d23e",
   "metadata": {},
   "outputs": [
    {
     "data": {
      "text/html": [
       "<div>\n",
       "<style scoped>\n",
       "    .dataframe tbody tr th:only-of-type {\n",
       "        vertical-align: middle;\n",
       "    }\n",
       "\n",
       "    .dataframe tbody tr th {\n",
       "        vertical-align: top;\n",
       "    }\n",
       "\n",
       "    .dataframe thead th {\n",
       "        text-align: right;\n",
       "    }\n",
       "</style>\n",
       "<table border=\"1\" class=\"dataframe\">\n",
       "  <thead>\n",
       "    <tr style=\"text-align: right;\">\n",
       "      <th></th>\n",
       "      <th>game_id</th>\n",
       "      <th>winner</th>\n",
       "      <th>initial_time_seconds</th>\n",
       "      <th>increment_seconds</th>\n",
       "      <th>max_overtime_minutes</th>\n",
       "      <th>game_duration_seconds</th>\n",
       "    </tr>\n",
       "  </thead>\n",
       "  <tbody>\n",
       "    <tr>\n",
       "      <th>count</th>\n",
       "      <td>72773.000000</td>\n",
       "      <td>72773.000000</td>\n",
       "      <td>72773.000000</td>\n",
       "      <td>72773.00000</td>\n",
       "      <td>72773.000000</td>\n",
       "      <td>72773.000000</td>\n",
       "    </tr>\n",
       "    <tr>\n",
       "      <th>mean</th>\n",
       "      <td>36387.000000</td>\n",
       "      <td>0.350734</td>\n",
       "      <td>1198.034230</td>\n",
       "      <td>0.22856</td>\n",
       "      <td>2.143707</td>\n",
       "      <td>484.069347</td>\n",
       "    </tr>\n",
       "    <tr>\n",
       "      <th>std</th>\n",
       "      <td>21007.899907</td>\n",
       "      <td>0.484859</td>\n",
       "      <td>713.185219</td>\n",
       "      <td>2.54802</td>\n",
       "      <td>2.989853</td>\n",
       "      <td>333.563128</td>\n",
       "    </tr>\n",
       "    <tr>\n",
       "      <th>min</th>\n",
       "      <td>1.000000</td>\n",
       "      <td>-1.000000</td>\n",
       "      <td>15.000000</td>\n",
       "      <td>0.00000</td>\n",
       "      <td>0.000000</td>\n",
       "      <td>7.962989</td>\n",
       "    </tr>\n",
       "    <tr>\n",
       "      <th>25%</th>\n",
       "      <td>18194.000000</td>\n",
       "      <td>0.000000</td>\n",
       "      <td>900.000000</td>\n",
       "      <td>0.00000</td>\n",
       "      <td>1.000000</td>\n",
       "      <td>250.172459</td>\n",
       "    </tr>\n",
       "    <tr>\n",
       "      <th>50%</th>\n",
       "      <td>36387.000000</td>\n",
       "      <td>0.000000</td>\n",
       "      <td>1200.000000</td>\n",
       "      <td>0.00000</td>\n",
       "      <td>1.000000</td>\n",
       "      <td>399.834150</td>\n",
       "    </tr>\n",
       "    <tr>\n",
       "      <th>75%</th>\n",
       "      <td>54580.000000</td>\n",
       "      <td>1.000000</td>\n",
       "      <td>1200.000000</td>\n",
       "      <td>0.00000</td>\n",
       "      <td>1.000000</td>\n",
       "      <td>633.424285</td>\n",
       "    </tr>\n",
       "    <tr>\n",
       "      <th>max</th>\n",
       "      <td>72773.000000</td>\n",
       "      <td>1.000000</td>\n",
       "      <td>3600.000000</td>\n",
       "      <td>60.00000</td>\n",
       "      <td>10.000000</td>\n",
       "      <td>4444.821645</td>\n",
       "    </tr>\n",
       "  </tbody>\n",
       "</table>\n",
       "</div>"
      ],
      "text/plain": [
       "            game_id        winner  initial_time_seconds  increment_seconds  \\\n",
       "count  72773.000000  72773.000000          72773.000000        72773.00000   \n",
       "mean   36387.000000      0.350734           1198.034230            0.22856   \n",
       "std    21007.899907      0.484859            713.185219            2.54802   \n",
       "min        1.000000     -1.000000             15.000000            0.00000   \n",
       "25%    18194.000000      0.000000            900.000000            0.00000   \n",
       "50%    36387.000000      0.000000           1200.000000            0.00000   \n",
       "75%    54580.000000      1.000000           1200.000000            0.00000   \n",
       "max    72773.000000      1.000000           3600.000000           60.00000   \n",
       "\n",
       "       max_overtime_minutes  game_duration_seconds  \n",
       "count          72773.000000           72773.000000  \n",
       "mean               2.143707             484.069347  \n",
       "std                2.989853             333.563128  \n",
       "min                0.000000               7.962989  \n",
       "25%                1.000000             250.172459  \n",
       "50%                1.000000             399.834150  \n",
       "75%                1.000000             633.424285  \n",
       "max               10.000000            4444.821645  "
      ]
     },
     "execution_count": 11,
     "metadata": {},
     "output_type": "execute_result"
    }
   ],
   "source": [
    "game.describe()"
   ]
  },
  {
   "cell_type": "code",
   "execution_count": 12,
   "id": "270ddb65",
   "metadata": {},
   "outputs": [
    {
     "data": {
      "text/html": [
       "<div>\n",
       "<style scoped>\n",
       "    .dataframe tbody tr th:only-of-type {\n",
       "        vertical-align: middle;\n",
       "    }\n",
       "\n",
       "    .dataframe tbody tr th {\n",
       "        vertical-align: top;\n",
       "    }\n",
       "\n",
       "    .dataframe thead th {\n",
       "        text-align: right;\n",
       "    }\n",
       "</style>\n",
       "<table border=\"1\" class=\"dataframe\">\n",
       "  <thead>\n",
       "    <tr style=\"text-align: right;\">\n",
       "      <th></th>\n",
       "      <th>first</th>\n",
       "      <th>time_control_name</th>\n",
       "      <th>game_end_reason</th>\n",
       "      <th>created_at</th>\n",
       "      <th>lexicon</th>\n",
       "      <th>rating_mode</th>\n",
       "    </tr>\n",
       "  </thead>\n",
       "  <tbody>\n",
       "    <tr>\n",
       "      <th>count</th>\n",
       "      <td>72773</td>\n",
       "      <td>72773</td>\n",
       "      <td>72773</td>\n",
       "      <td>72773</td>\n",
       "      <td>72773</td>\n",
       "      <td>72773</td>\n",
       "    </tr>\n",
       "    <tr>\n",
       "      <th>unique</th>\n",
       "      <td>1314</td>\n",
       "      <td>4</td>\n",
       "      <td>4</td>\n",
       "      <td>72194</td>\n",
       "      <td>4</td>\n",
       "      <td>2</td>\n",
       "    </tr>\n",
       "    <tr>\n",
       "      <th>top</th>\n",
       "      <td>STEEBot</td>\n",
       "      <td>regular</td>\n",
       "      <td>STANDARD</td>\n",
       "      <td>2022-09-20 15:59:19</td>\n",
       "      <td>CSW21</td>\n",
       "      <td>RATED</td>\n",
       "    </tr>\n",
       "    <tr>\n",
       "      <th>freq</th>\n",
       "      <td>12210</td>\n",
       "      <td>60282</td>\n",
       "      <td>67987</td>\n",
       "      <td>3</td>\n",
       "      <td>44594</td>\n",
       "      <td>54076</td>\n",
       "    </tr>\n",
       "  </tbody>\n",
       "</table>\n",
       "</div>"
      ],
      "text/plain": [
       "          first time_control_name game_end_reason           created_at  \\\n",
       "count     72773             72773           72773                72773   \n",
       "unique     1314                 4               4                72194   \n",
       "top     STEEBot           regular        STANDARD  2022-09-20 15:59:19   \n",
       "freq      12210             60282           67987                    3   \n",
       "\n",
       "       lexicon rating_mode  \n",
       "count    72773       72773  \n",
       "unique       4           2  \n",
       "top      CSW21       RATED  \n",
       "freq     44594       54076  "
      ]
     },
     "execution_count": 12,
     "metadata": {},
     "output_type": "execute_result"
    }
   ],
   "source": [
    "game.describe(include=['object'])"
   ]
  },
  {
   "cell_type": "code",
   "execution_count": 13,
   "id": "27f5e81b",
   "metadata": {
    "scrolled": true
   },
   "outputs": [
    {
     "data": {
      "text/plain": [
       "game_id                  0\n",
       "first                    0\n",
       "time_control_name        0\n",
       "game_end_reason          0\n",
       "winner                   0\n",
       "created_at               0\n",
       "lexicon                  0\n",
       "initial_time_seconds     0\n",
       "increment_seconds        0\n",
       "rating_mode              0\n",
       "max_overtime_minutes     0\n",
       "game_duration_seconds    0\n",
       "dtype: int64"
      ]
     },
     "execution_count": 13,
     "metadata": {},
     "output_type": "execute_result"
    }
   ],
   "source": [
    "game.isnull().sum()"
   ]
  },
  {
   "cell_type": "code",
   "execution_count": 14,
   "id": "073eebf1",
   "metadata": {},
   "outputs": [
    {
     "data": {
      "text/plain": [
       "0"
      ]
     },
     "execution_count": 14,
     "metadata": {},
     "output_type": "execute_result"
    }
   ],
   "source": [
    "game.duplicated().sum()"
   ]
  },
  {
   "cell_type": "code",
   "execution_count": 15,
   "id": "4fb54ada",
   "metadata": {},
   "outputs": [
    {
     "name": "stdout",
     "output_type": "stream",
     "text": [
      "<class 'pandas.core.frame.DataFrame'>\n",
      "RangeIndex: 2005498 entries, 0 to 2005497\n",
      "Data columns (total 9 columns):\n",
      " #   Column       Dtype \n",
      "---  ------       ----- \n",
      " 0   game_id      int64 \n",
      " 1   turn_number  int64 \n",
      " 2   nickname     object\n",
      " 3   rack         object\n",
      " 4   location     object\n",
      " 5   move         object\n",
      " 6   points       int64 \n",
      " 7   score        int64 \n",
      " 8   turn_type    object\n",
      "dtypes: int64(4), object(5)\n",
      "memory usage: 137.7+ MB\n"
     ]
    }
   ],
   "source": [
    "turns.info()"
   ]
  },
  {
   "cell_type": "code",
   "execution_count": 16,
   "id": "d2910b54",
   "metadata": {},
   "outputs": [
    {
     "data": {
      "text/html": [
       "<div>\n",
       "<style scoped>\n",
       "    .dataframe tbody tr th:only-of-type {\n",
       "        vertical-align: middle;\n",
       "    }\n",
       "\n",
       "    .dataframe tbody tr th {\n",
       "        vertical-align: top;\n",
       "    }\n",
       "\n",
       "    .dataframe thead th {\n",
       "        text-align: right;\n",
       "    }\n",
       "</style>\n",
       "<table border=\"1\" class=\"dataframe\">\n",
       "  <thead>\n",
       "    <tr style=\"text-align: right;\">\n",
       "      <th></th>\n",
       "      <th>game_id</th>\n",
       "      <th>turn_number</th>\n",
       "      <th>points</th>\n",
       "      <th>score</th>\n",
       "    </tr>\n",
       "  </thead>\n",
       "  <tbody>\n",
       "    <tr>\n",
       "      <th>count</th>\n",
       "      <td>2.005498e+06</td>\n",
       "      <td>2.005498e+06</td>\n",
       "      <td>2.005498e+06</td>\n",
       "      <td>2.005498e+06</td>\n",
       "    </tr>\n",
       "    <tr>\n",
       "      <th>mean</th>\n",
       "      <td>3.640032e+04</td>\n",
       "      <td>1.453798e+01</td>\n",
       "      <td>2.900326e+01</td>\n",
       "      <td>2.270914e+02</td>\n",
       "    </tr>\n",
       "    <tr>\n",
       "      <th>std</th>\n",
       "      <td>2.100559e+04</td>\n",
       "      <td>8.434285e+00</td>\n",
       "      <td>2.210145e+01</td>\n",
       "      <td>1.343110e+02</td>\n",
       "    </tr>\n",
       "    <tr>\n",
       "      <th>min</th>\n",
       "      <td>1.000000e+00</td>\n",
       "      <td>1.000000e+00</td>\n",
       "      <td>-2.210000e+02</td>\n",
       "      <td>-6.400000e+01</td>\n",
       "    </tr>\n",
       "    <tr>\n",
       "      <th>25%</th>\n",
       "      <td>1.820800e+04</td>\n",
       "      <td>7.000000e+00</td>\n",
       "      <td>1.600000e+01</td>\n",
       "      <td>1.130000e+02</td>\n",
       "    </tr>\n",
       "    <tr>\n",
       "      <th>50%</th>\n",
       "      <td>3.640100e+04</td>\n",
       "      <td>1.400000e+01</td>\n",
       "      <td>2.400000e+01</td>\n",
       "      <td>2.240000e+02</td>\n",
       "    </tr>\n",
       "    <tr>\n",
       "      <th>75%</th>\n",
       "      <td>5.460900e+04</td>\n",
       "      <td>2.100000e+01</td>\n",
       "      <td>3.600000e+01</td>\n",
       "      <td>3.320000e+02</td>\n",
       "    </tr>\n",
       "    <tr>\n",
       "      <th>max</th>\n",
       "      <td>7.277300e+04</td>\n",
       "      <td>7.500000e+01</td>\n",
       "      <td>3.110000e+02</td>\n",
       "      <td>1.171000e+03</td>\n",
       "    </tr>\n",
       "  </tbody>\n",
       "</table>\n",
       "</div>"
      ],
      "text/plain": [
       "            game_id   turn_number        points         score\n",
       "count  2.005498e+06  2.005498e+06  2.005498e+06  2.005498e+06\n",
       "mean   3.640032e+04  1.453798e+01  2.900326e+01  2.270914e+02\n",
       "std    2.100559e+04  8.434285e+00  2.210145e+01  1.343110e+02\n",
       "min    1.000000e+00  1.000000e+00 -2.210000e+02 -6.400000e+01\n",
       "25%    1.820800e+04  7.000000e+00  1.600000e+01  1.130000e+02\n",
       "50%    3.640100e+04  1.400000e+01  2.400000e+01  2.240000e+02\n",
       "75%    5.460900e+04  2.100000e+01  3.600000e+01  3.320000e+02\n",
       "max    7.277300e+04  7.500000e+01  3.110000e+02  1.171000e+03"
      ]
     },
     "execution_count": 16,
     "metadata": {},
     "output_type": "execute_result"
    }
   ],
   "source": [
    "turns.describe()"
   ]
  },
  {
   "cell_type": "code",
   "execution_count": 17,
   "id": "45260581",
   "metadata": {},
   "outputs": [
    {
     "data": {
      "text/html": [
       "<div>\n",
       "<style scoped>\n",
       "    .dataframe tbody tr th:only-of-type {\n",
       "        vertical-align: middle;\n",
       "    }\n",
       "\n",
       "    .dataframe tbody tr th {\n",
       "        vertical-align: top;\n",
       "    }\n",
       "\n",
       "    .dataframe thead th {\n",
       "        text-align: right;\n",
       "    }\n",
       "</style>\n",
       "<table border=\"1\" class=\"dataframe\">\n",
       "  <thead>\n",
       "    <tr style=\"text-align: right;\">\n",
       "      <th></th>\n",
       "      <th>nickname</th>\n",
       "      <th>rack</th>\n",
       "      <th>location</th>\n",
       "      <th>move</th>\n",
       "      <th>turn_type</th>\n",
       "    </tr>\n",
       "  </thead>\n",
       "  <tbody>\n",
       "    <tr>\n",
       "      <th>count</th>\n",
       "      <td>2005498</td>\n",
       "      <td>1936108</td>\n",
       "      <td>1873259</td>\n",
       "      <td>2005044</td>\n",
       "      <td>2005103</td>\n",
       "    </tr>\n",
       "    <tr>\n",
       "      <th>unique</th>\n",
       "      <td>1471</td>\n",
       "      <td>626752</td>\n",
       "      <td>418</td>\n",
       "      <td>356847</td>\n",
       "      <td>7</td>\n",
       "    </tr>\n",
       "    <tr>\n",
       "      <th>top</th>\n",
       "      <td>BetterBot</td>\n",
       "      <td>I</td>\n",
       "      <td>15A</td>\n",
       "      <td>--</td>\n",
       "      <td>Play</td>\n",
       "    </tr>\n",
       "    <tr>\n",
       "      <th>freq</th>\n",
       "      <td>360931</td>\n",
       "      <td>2900</td>\n",
       "      <td>24190</td>\n",
       "      <td>14302</td>\n",
       "      <td>1872864</td>\n",
       "    </tr>\n",
       "  </tbody>\n",
       "</table>\n",
       "</div>"
      ],
      "text/plain": [
       "         nickname     rack location     move turn_type\n",
       "count     2005498  1936108  1873259  2005044   2005103\n",
       "unique       1471   626752      418   356847         7\n",
       "top     BetterBot        I      15A       --      Play\n",
       "freq       360931     2900    24190    14302   1872864"
      ]
     },
     "execution_count": 17,
     "metadata": {},
     "output_type": "execute_result"
    }
   ],
   "source": [
    "turns.describe(include=['object'])"
   ]
  },
  {
   "cell_type": "code",
   "execution_count": 18,
   "id": "f2c1ca43",
   "metadata": {},
   "outputs": [
    {
     "data": {
      "text/plain": [
       "game_id             0\n",
       "turn_number         0\n",
       "nickname            0\n",
       "rack            69390\n",
       "location       132239\n",
       "move              454\n",
       "points              0\n",
       "score               0\n",
       "turn_type         395\n",
       "dtype: int64"
      ]
     },
     "execution_count": 18,
     "metadata": {},
     "output_type": "execute_result"
    }
   ],
   "source": [
    "turns.isnull().sum()"
   ]
  },
  {
   "cell_type": "code",
   "execution_count": 19,
   "id": "90a7b370",
   "metadata": {},
   "outputs": [
    {
     "data": {
      "text/plain": [
       "0"
      ]
     },
     "execution_count": 19,
     "metadata": {},
     "output_type": "execute_result"
    }
   ],
   "source": [
    "turns.duplicated().sum()"
   ]
  },
  {
   "cell_type": "markdown",
   "id": "1427ada4",
   "metadata": {},
   "source": [
    "Panda profiling provide an overview of the dataset by providing univariant describtion and information of each feature along with correlation with other feature in dataset"
   ]
  },
  {
   "cell_type": "code",
   "execution_count": 20,
   "id": "a981d4ac",
   "metadata": {},
   "outputs": [],
   "source": [
    "# from pandas_profiling import ProfileReport"
   ]
  },
  {
   "cell_type": "code",
   "execution_count": 21,
   "id": "590b928b",
   "metadata": {},
   "outputs": [],
   "source": [
    "# prof = ProfileReport(turns) # game # turns #train\n",
    "# prof.to_file(output_file= \"C:/Users/ankro/OneDrive/Desktop/turn EDA.html\") # game # turns #train"
   ]
  },
  {
   "cell_type": "markdown",
   "id": "f61bf23a",
   "metadata": {},
   "source": [
    "# Overall Data Frame work"
   ]
  },
  {
   "cell_type": "markdown",
   "id": "967c6113",
   "metadata": {},
   "source": [
    "After going through the data few point is clear that the turn and game table contain both the data from train and test player. Hence we need to segregrate them so that in model training it will not cause problem"
   ]
  },
  {
   "cell_type": "code",
   "execution_count": 22,
   "id": "69f2c87d",
   "metadata": {},
   "outputs": [],
   "source": [
    "df= pd.merge(train,game,how='left',left_on =['game_id'],right_on=['game_id'])\n",
    "df.rename(columns = {'winner':'first_move_win/not','first':'first_move_by'}, inplace = True)"
   ]
  },
  {
   "cell_type": "code",
   "execution_count": 23,
   "id": "b194352b",
   "metadata": {},
   "outputs": [],
   "source": [
    "df_1= pd.merge(test,game,how='left',left_on =['game_id'],right_on=['game_id'])\n",
    "df_1.rename(columns = {'winner':'first_move_win/not','first':'first_move_by'}, inplace = True)"
   ]
  },
  {
   "cell_type": "code",
   "execution_count": 24,
   "id": "c81222a4",
   "metadata": {},
   "outputs": [
    {
     "name": "stdout",
     "output_type": "stream",
     "text": [
      "(1391588, 26)\n"
     ]
    }
   ],
   "source": [
    "train_df = pd.merge(df,turns,how='left',left_on =['game_id'],right_on=['game_id'])\n",
    "print(train_df.shape)"
   ]
  },
  {
   "cell_type": "code",
   "execution_count": 25,
   "id": "ea93f1d4",
   "metadata": {},
   "outputs": [
    {
     "data": {
      "text/plain": [
       "(614312, 26)"
      ]
     },
     "execution_count": 25,
     "metadata": {},
     "output_type": "execute_result"
    }
   ],
   "source": [
    "test_df = pd.merge(df_1,turns,how='left',left_on =['game_id'],right_on=['game_id'])\n",
    "test_df.shape"
   ]
  },
  {
   "cell_type": "code",
   "execution_count": 26,
   "id": "5e42a218",
   "metadata": {},
   "outputs": [
    {
     "name": "stdout",
     "output_type": "stream",
     "text": [
      "player in train dataframe = 50410 player in train table = 50410\n"
     ]
    },
    {
     "data": {
      "text/html": [
       "<div>\n",
       "<style scoped>\n",
       "    .dataframe tbody tr th:only-of-type {\n",
       "        vertical-align: middle;\n",
       "    }\n",
       "\n",
       "    .dataframe tbody tr th {\n",
       "        vertical-align: top;\n",
       "    }\n",
       "\n",
       "    .dataframe thead th {\n",
       "        text-align: right;\n",
       "    }\n",
       "</style>\n",
       "<table border=\"1\" class=\"dataframe\">\n",
       "  <thead>\n",
       "    <tr style=\"text-align: right;\">\n",
       "      <th></th>\n",
       "      <th>game_id</th>\n",
       "      <th>Bot_name</th>\n",
       "      <th>Bot_score</th>\n",
       "      <th>Bot_rating</th>\n",
       "      <th>player_name</th>\n",
       "      <th>player_score</th>\n",
       "      <th>player_rating</th>\n",
       "      <th>first_move_by</th>\n",
       "      <th>time_control_name</th>\n",
       "      <th>game_end_reason</th>\n",
       "      <th>first_move_win/not</th>\n",
       "      <th>created_at</th>\n",
       "      <th>lexicon</th>\n",
       "      <th>initial_time_seconds</th>\n",
       "      <th>increment_seconds</th>\n",
       "      <th>rating_mode</th>\n",
       "      <th>max_overtime_minutes</th>\n",
       "      <th>game_duration_seconds</th>\n",
       "      <th>turn_number</th>\n",
       "      <th>nickname</th>\n",
       "      <th>rack</th>\n",
       "      <th>location</th>\n",
       "      <th>move</th>\n",
       "      <th>points</th>\n",
       "      <th>score</th>\n",
       "      <th>turn_type</th>\n",
       "    </tr>\n",
       "  </thead>\n",
       "  <tbody>\n",
       "    <tr>\n",
       "      <th>0</th>\n",
       "      <td>1</td>\n",
       "      <td>BetterBot</td>\n",
       "      <td>335</td>\n",
       "      <td>1637</td>\n",
       "      <td>stevy</td>\n",
       "      <td>429.0</td>\n",
       "      <td>1500</td>\n",
       "      <td>BetterBot</td>\n",
       "      <td>regular</td>\n",
       "      <td>STANDARD</td>\n",
       "      <td>1</td>\n",
       "      <td>2022-08-26 03:38:49</td>\n",
       "      <td>NWL20</td>\n",
       "      <td>1200</td>\n",
       "      <td>0</td>\n",
       "      <td>CASUAL</td>\n",
       "      <td>1</td>\n",
       "      <td>674.844274</td>\n",
       "      <td>1</td>\n",
       "      <td>BetterBot</td>\n",
       "      <td>DDEGITT</td>\n",
       "      <td>8G</td>\n",
       "      <td>DIG</td>\n",
       "      <td>10</td>\n",
       "      <td>10</td>\n",
       "      <td>Play</td>\n",
       "    </tr>\n",
       "    <tr>\n",
       "      <th>1</th>\n",
       "      <td>1</td>\n",
       "      <td>BetterBot</td>\n",
       "      <td>335</td>\n",
       "      <td>1637</td>\n",
       "      <td>stevy</td>\n",
       "      <td>429.0</td>\n",
       "      <td>1500</td>\n",
       "      <td>BetterBot</td>\n",
       "      <td>regular</td>\n",
       "      <td>STANDARD</td>\n",
       "      <td>1</td>\n",
       "      <td>2022-08-26 03:38:49</td>\n",
       "      <td>NWL20</td>\n",
       "      <td>1200</td>\n",
       "      <td>0</td>\n",
       "      <td>CASUAL</td>\n",
       "      <td>1</td>\n",
       "      <td>674.844274</td>\n",
       "      <td>2</td>\n",
       "      <td>stevy</td>\n",
       "      <td>AEHOPUX</td>\n",
       "      <td>7H</td>\n",
       "      <td>HAP</td>\n",
       "      <td>18</td>\n",
       "      <td>18</td>\n",
       "      <td>Play</td>\n",
       "    </tr>\n",
       "    <tr>\n",
       "      <th>2</th>\n",
       "      <td>1</td>\n",
       "      <td>BetterBot</td>\n",
       "      <td>335</td>\n",
       "      <td>1637</td>\n",
       "      <td>stevy</td>\n",
       "      <td>429.0</td>\n",
       "      <td>1500</td>\n",
       "      <td>BetterBot</td>\n",
       "      <td>regular</td>\n",
       "      <td>STANDARD</td>\n",
       "      <td>1</td>\n",
       "      <td>2022-08-26 03:38:49</td>\n",
       "      <td>NWL20</td>\n",
       "      <td>1200</td>\n",
       "      <td>0</td>\n",
       "      <td>CASUAL</td>\n",
       "      <td>1</td>\n",
       "      <td>674.844274</td>\n",
       "      <td>3</td>\n",
       "      <td>BetterBot</td>\n",
       "      <td>DEELTTU</td>\n",
       "      <td>6I</td>\n",
       "      <td>LUTE</td>\n",
       "      <td>16</td>\n",
       "      <td>26</td>\n",
       "      <td>Play</td>\n",
       "    </tr>\n",
       "    <tr>\n",
       "      <th>3</th>\n",
       "      <td>1</td>\n",
       "      <td>BetterBot</td>\n",
       "      <td>335</td>\n",
       "      <td>1637</td>\n",
       "      <td>stevy</td>\n",
       "      <td>429.0</td>\n",
       "      <td>1500</td>\n",
       "      <td>BetterBot</td>\n",
       "      <td>regular</td>\n",
       "      <td>STANDARD</td>\n",
       "      <td>1</td>\n",
       "      <td>2022-08-26 03:38:49</td>\n",
       "      <td>NWL20</td>\n",
       "      <td>1200</td>\n",
       "      <td>0</td>\n",
       "      <td>CASUAL</td>\n",
       "      <td>1</td>\n",
       "      <td>674.844274</td>\n",
       "      <td>4</td>\n",
       "      <td>stevy</td>\n",
       "      <td>EMORSUX</td>\n",
       "      <td>5K</td>\n",
       "      <td>UM</td>\n",
       "      <td>16</td>\n",
       "      <td>34</td>\n",
       "      <td>Play</td>\n",
       "    </tr>\n",
       "    <tr>\n",
       "      <th>4</th>\n",
       "      <td>1</td>\n",
       "      <td>BetterBot</td>\n",
       "      <td>335</td>\n",
       "      <td>1637</td>\n",
       "      <td>stevy</td>\n",
       "      <td>429.0</td>\n",
       "      <td>1500</td>\n",
       "      <td>BetterBot</td>\n",
       "      <td>regular</td>\n",
       "      <td>STANDARD</td>\n",
       "      <td>1</td>\n",
       "      <td>2022-08-26 03:38:49</td>\n",
       "      <td>NWL20</td>\n",
       "      <td>1200</td>\n",
       "      <td>0</td>\n",
       "      <td>CASUAL</td>\n",
       "      <td>1</td>\n",
       "      <td>674.844274</td>\n",
       "      <td>5</td>\n",
       "      <td>BetterBot</td>\n",
       "      <td>ACDEITU</td>\n",
       "      <td>L5</td>\n",
       "      <td>..DICATE</td>\n",
       "      <td>28</td>\n",
       "      <td>54</td>\n",
       "      <td>Play</td>\n",
       "    </tr>\n",
       "  </tbody>\n",
       "</table>\n",
       "</div>"
      ],
      "text/plain": [
       "   game_id   Bot_name  Bot_score  Bot_rating player_name  player_score  \\\n",
       "0        1  BetterBot        335        1637       stevy         429.0   \n",
       "1        1  BetterBot        335        1637       stevy         429.0   \n",
       "2        1  BetterBot        335        1637       stevy         429.0   \n",
       "3        1  BetterBot        335        1637       stevy         429.0   \n",
       "4        1  BetterBot        335        1637       stevy         429.0   \n",
       "\n",
       "   player_rating first_move_by time_control_name game_end_reason  \\\n",
       "0           1500     BetterBot           regular        STANDARD   \n",
       "1           1500     BetterBot           regular        STANDARD   \n",
       "2           1500     BetterBot           regular        STANDARD   \n",
       "3           1500     BetterBot           regular        STANDARD   \n",
       "4           1500     BetterBot           regular        STANDARD   \n",
       "\n",
       "   first_move_win/not           created_at lexicon  initial_time_seconds  \\\n",
       "0                   1  2022-08-26 03:38:49   NWL20                  1200   \n",
       "1                   1  2022-08-26 03:38:49   NWL20                  1200   \n",
       "2                   1  2022-08-26 03:38:49   NWL20                  1200   \n",
       "3                   1  2022-08-26 03:38:49   NWL20                  1200   \n",
       "4                   1  2022-08-26 03:38:49   NWL20                  1200   \n",
       "\n",
       "   increment_seconds rating_mode  max_overtime_minutes  game_duration_seconds  \\\n",
       "0                  0      CASUAL                     1             674.844274   \n",
       "1                  0      CASUAL                     1             674.844274   \n",
       "2                  0      CASUAL                     1             674.844274   \n",
       "3                  0      CASUAL                     1             674.844274   \n",
       "4                  0      CASUAL                     1             674.844274   \n",
       "\n",
       "   turn_number   nickname     rack location      move  points  score turn_type  \n",
       "0            1  BetterBot  DDEGITT       8G       DIG      10     10      Play  \n",
       "1            2      stevy  AEHOPUX       7H       HAP      18     18      Play  \n",
       "2            3  BetterBot  DEELTTU       6I      LUTE      16     26      Play  \n",
       "3            4      stevy  EMORSUX       5K        UM      16     34      Play  \n",
       "4            5  BetterBot  ACDEITU       L5  ..DICATE      28     54      Play  "
      ]
     },
     "execution_count": 26,
     "metadata": {},
     "output_type": "execute_result"
    }
   ],
   "source": [
    "print('player in train dataframe =',len(train_df['game_id'].unique()),'player in train table =',len(train['game_id'].unique()))\n",
    "train_df.head(5)"
   ]
  },
  {
   "cell_type": "code",
   "execution_count": 27,
   "id": "c369ae1d",
   "metadata": {},
   "outputs": [
    {
     "name": "stdout",
     "output_type": "stream",
     "text": [
      "player in test dataframe = 22363 player in test table = 22363\n"
     ]
    },
    {
     "data": {
      "text/html": [
       "<div>\n",
       "<style scoped>\n",
       "    .dataframe tbody tr th:only-of-type {\n",
       "        vertical-align: middle;\n",
       "    }\n",
       "\n",
       "    .dataframe tbody tr th {\n",
       "        vertical-align: top;\n",
       "    }\n",
       "\n",
       "    .dataframe thead th {\n",
       "        text-align: right;\n",
       "    }\n",
       "</style>\n",
       "<table border=\"1\" class=\"dataframe\">\n",
       "  <thead>\n",
       "    <tr style=\"text-align: right;\">\n",
       "      <th></th>\n",
       "      <th>game_id</th>\n",
       "      <th>Bot_name</th>\n",
       "      <th>Bot_score</th>\n",
       "      <th>Bot_rating</th>\n",
       "      <th>player_name</th>\n",
       "      <th>player_score</th>\n",
       "      <th>player_rating</th>\n",
       "      <th>first_move_by</th>\n",
       "      <th>time_control_name</th>\n",
       "      <th>game_end_reason</th>\n",
       "      <th>first_move_win/not</th>\n",
       "      <th>created_at</th>\n",
       "      <th>lexicon</th>\n",
       "      <th>initial_time_seconds</th>\n",
       "      <th>increment_seconds</th>\n",
       "      <th>rating_mode</th>\n",
       "      <th>max_overtime_minutes</th>\n",
       "      <th>game_duration_seconds</th>\n",
       "      <th>turn_number</th>\n",
       "      <th>nickname</th>\n",
       "      <th>rack</th>\n",
       "      <th>location</th>\n",
       "      <th>move</th>\n",
       "      <th>points</th>\n",
       "      <th>score</th>\n",
       "      <th>turn_type</th>\n",
       "    </tr>\n",
       "  </thead>\n",
       "  <tbody>\n",
       "    <tr>\n",
       "      <th>0</th>\n",
       "      <td>2</td>\n",
       "      <td>BetterBot</td>\n",
       "      <td>401</td>\n",
       "      <td>2000.0</td>\n",
       "      <td>Super</td>\n",
       "      <td>488</td>\n",
       "      <td>NaN</td>\n",
       "      <td>Super</td>\n",
       "      <td>regular</td>\n",
       "      <td>STANDARD</td>\n",
       "      <td>1</td>\n",
       "      <td>2022-08-10 19:19:59</td>\n",
       "      <td>CSW21</td>\n",
       "      <td>3600</td>\n",
       "      <td>0</td>\n",
       "      <td>RATED</td>\n",
       "      <td>1</td>\n",
       "      <td>364.214418</td>\n",
       "      <td>1</td>\n",
       "      <td>Super</td>\n",
       "      <td>AFINRTV</td>\n",
       "      <td>8D</td>\n",
       "      <td>FAINT</td>\n",
       "      <td>24</td>\n",
       "      <td>24</td>\n",
       "      <td>Play</td>\n",
       "    </tr>\n",
       "    <tr>\n",
       "      <th>1</th>\n",
       "      <td>2</td>\n",
       "      <td>BetterBot</td>\n",
       "      <td>401</td>\n",
       "      <td>2000.0</td>\n",
       "      <td>Super</td>\n",
       "      <td>488</td>\n",
       "      <td>NaN</td>\n",
       "      <td>Super</td>\n",
       "      <td>regular</td>\n",
       "      <td>STANDARD</td>\n",
       "      <td>1</td>\n",
       "      <td>2022-08-10 19:19:59</td>\n",
       "      <td>CSW21</td>\n",
       "      <td>3600</td>\n",
       "      <td>0</td>\n",
       "      <td>RATED</td>\n",
       "      <td>1</td>\n",
       "      <td>364.214418</td>\n",
       "      <td>2</td>\n",
       "      <td>BetterBot</td>\n",
       "      <td>EEEEGIT</td>\n",
       "      <td>G6</td>\n",
       "      <td>GE.IE</td>\n",
       "      <td>8</td>\n",
       "      <td>8</td>\n",
       "      <td>Play</td>\n",
       "    </tr>\n",
       "    <tr>\n",
       "      <th>2</th>\n",
       "      <td>2</td>\n",
       "      <td>BetterBot</td>\n",
       "      <td>401</td>\n",
       "      <td>2000.0</td>\n",
       "      <td>Super</td>\n",
       "      <td>488</td>\n",
       "      <td>NaN</td>\n",
       "      <td>Super</td>\n",
       "      <td>regular</td>\n",
       "      <td>STANDARD</td>\n",
       "      <td>1</td>\n",
       "      <td>2022-08-10 19:19:59</td>\n",
       "      <td>CSW21</td>\n",
       "      <td>3600</td>\n",
       "      <td>0</td>\n",
       "      <td>RATED</td>\n",
       "      <td>1</td>\n",
       "      <td>364.214418</td>\n",
       "      <td>3</td>\n",
       "      <td>Super</td>\n",
       "      <td>AAERTVW</td>\n",
       "      <td>F10</td>\n",
       "      <td>WAVER</td>\n",
       "      <td>34</td>\n",
       "      <td>58</td>\n",
       "      <td>Play</td>\n",
       "    </tr>\n",
       "    <tr>\n",
       "      <th>3</th>\n",
       "      <td>2</td>\n",
       "      <td>BetterBot</td>\n",
       "      <td>401</td>\n",
       "      <td>2000.0</td>\n",
       "      <td>Super</td>\n",
       "      <td>488</td>\n",
       "      <td>NaN</td>\n",
       "      <td>Super</td>\n",
       "      <td>regular</td>\n",
       "      <td>STANDARD</td>\n",
       "      <td>1</td>\n",
       "      <td>2022-08-10 19:19:59</td>\n",
       "      <td>CSW21</td>\n",
       "      <td>3600</td>\n",
       "      <td>0</td>\n",
       "      <td>RATED</td>\n",
       "      <td>1</td>\n",
       "      <td>364.214418</td>\n",
       "      <td>4</td>\n",
       "      <td>BetterBot</td>\n",
       "      <td>EEHNNOT</td>\n",
       "      <td>14B</td>\n",
       "      <td>ENTH.ONE</td>\n",
       "      <td>72</td>\n",
       "      <td>80</td>\n",
       "      <td>Play</td>\n",
       "    </tr>\n",
       "    <tr>\n",
       "      <th>4</th>\n",
       "      <td>2</td>\n",
       "      <td>BetterBot</td>\n",
       "      <td>401</td>\n",
       "      <td>2000.0</td>\n",
       "      <td>Super</td>\n",
       "      <td>488</td>\n",
       "      <td>NaN</td>\n",
       "      <td>Super</td>\n",
       "      <td>regular</td>\n",
       "      <td>STANDARD</td>\n",
       "      <td>1</td>\n",
       "      <td>2022-08-10 19:19:59</td>\n",
       "      <td>CSW21</td>\n",
       "      <td>3600</td>\n",
       "      <td>0</td>\n",
       "      <td>RATED</td>\n",
       "      <td>1</td>\n",
       "      <td>364.214418</td>\n",
       "      <td>5</td>\n",
       "      <td>Super</td>\n",
       "      <td>AABEFTY</td>\n",
       "      <td>15G</td>\n",
       "      <td>FY</td>\n",
       "      <td>44</td>\n",
       "      <td>102</td>\n",
       "      <td>Play</td>\n",
       "    </tr>\n",
       "  </tbody>\n",
       "</table>\n",
       "</div>"
      ],
      "text/plain": [
       "   game_id   Bot_name  Bot_score  Bot_rating player_name  player_score  \\\n",
       "0        2  BetterBot        401      2000.0       Super           488   \n",
       "1        2  BetterBot        401      2000.0       Super           488   \n",
       "2        2  BetterBot        401      2000.0       Super           488   \n",
       "3        2  BetterBot        401      2000.0       Super           488   \n",
       "4        2  BetterBot        401      2000.0       Super           488   \n",
       "\n",
       "   player_rating first_move_by time_control_name game_end_reason  \\\n",
       "0            NaN         Super           regular        STANDARD   \n",
       "1            NaN         Super           regular        STANDARD   \n",
       "2            NaN         Super           regular        STANDARD   \n",
       "3            NaN         Super           regular        STANDARD   \n",
       "4            NaN         Super           regular        STANDARD   \n",
       "\n",
       "   first_move_win/not           created_at lexicon  initial_time_seconds  \\\n",
       "0                   1  2022-08-10 19:19:59   CSW21                  3600   \n",
       "1                   1  2022-08-10 19:19:59   CSW21                  3600   \n",
       "2                   1  2022-08-10 19:19:59   CSW21                  3600   \n",
       "3                   1  2022-08-10 19:19:59   CSW21                  3600   \n",
       "4                   1  2022-08-10 19:19:59   CSW21                  3600   \n",
       "\n",
       "   increment_seconds rating_mode  max_overtime_minutes  game_duration_seconds  \\\n",
       "0                  0       RATED                     1             364.214418   \n",
       "1                  0       RATED                     1             364.214418   \n",
       "2                  0       RATED                     1             364.214418   \n",
       "3                  0       RATED                     1             364.214418   \n",
       "4                  0       RATED                     1             364.214418   \n",
       "\n",
       "   turn_number   nickname     rack location      move  points  score turn_type  \n",
       "0            1      Super  AFINRTV       8D     FAINT      24     24      Play  \n",
       "1            2  BetterBot  EEEEGIT       G6     GE.IE       8      8      Play  \n",
       "2            3      Super  AAERTVW      F10     WAVER      34     58      Play  \n",
       "3            4  BetterBot  EEHNNOT      14B  ENTH.ONE      72     80      Play  \n",
       "4            5      Super  AABEFTY      15G        FY      44    102      Play  "
      ]
     },
     "execution_count": 27,
     "metadata": {},
     "output_type": "execute_result"
    }
   ],
   "source": [
    "print('player in test dataframe =',len(test_df['game_id'].unique()),'player in test table =',len(test['game_id'].unique()))\n",
    "test_df.head(5)"
   ]
  },
  {
   "cell_type": "markdown",
   "id": "0736ad11",
   "metadata": {},
   "source": [
    "   # Feature Engineering"
   ]
  },
  {
   "cell_type": "markdown",
   "id": "ecd059ba",
   "metadata": {},
   "source": [
    "Changing DataType of the Created at column so that we can handle in datetime format rather than string format"
   ]
  },
  {
   "cell_type": "code",
   "execution_count": 28,
   "id": "749acf2d",
   "metadata": {},
   "outputs": [],
   "source": [
    "train_df['created_at']=pd.to_datetime(train_df['created_at'])\n",
    "test_df['created_at']=pd.to_datetime(test_df['created_at'])"
   ]
  },
  {
   "cell_type": "markdown",
   "id": "9909a241",
   "metadata": {},
   "source": [
    "# Handling Missing Values"
   ]
  },
  {
   "cell_type": "markdown",
   "id": "7c2cc586",
   "metadata": {},
   "source": [
    "Finding all the missing data in the traina and test dataset"
   ]
  },
  {
   "cell_type": "code",
   "execution_count": 29,
   "id": "a103a307",
   "metadata": {
    "scrolled": false
   },
   "outputs": [
    {
     "data": {
      "text/html": [
       "<div>\n",
       "<style scoped>\n",
       "    .dataframe tbody tr th:only-of-type {\n",
       "        vertical-align: middle;\n",
       "    }\n",
       "\n",
       "    .dataframe tbody tr th {\n",
       "        vertical-align: top;\n",
       "    }\n",
       "\n",
       "    .dataframe thead th {\n",
       "        text-align: right;\n",
       "    }\n",
       "</style>\n",
       "<table border=\"1\" class=\"dataframe\">\n",
       "  <thead>\n",
       "    <tr style=\"text-align: right;\">\n",
       "      <th></th>\n",
       "      <th>NaN_count_train</th>\n",
       "      <th>NaN_percentage_train</th>\n",
       "      <th>NaN_count_test</th>\n",
       "      <th>NaN_percentage_test</th>\n",
       "    </tr>\n",
       "  </thead>\n",
       "  <tbody>\n",
       "    <tr>\n",
       "      <th>game_id</th>\n",
       "      <td>0</td>\n",
       "      <td>0.000000</td>\n",
       "      <td>0</td>\n",
       "      <td>0.000000</td>\n",
       "    </tr>\n",
       "    <tr>\n",
       "      <th>Bot_name</th>\n",
       "      <td>0</td>\n",
       "      <td>0.000000</td>\n",
       "      <td>0</td>\n",
       "      <td>0.000000</td>\n",
       "    </tr>\n",
       "    <tr>\n",
       "      <th>Bot_score</th>\n",
       "      <td>0</td>\n",
       "      <td>0.000000</td>\n",
       "      <td>0</td>\n",
       "      <td>0.000000</td>\n",
       "    </tr>\n",
       "    <tr>\n",
       "      <th>Bot_rating</th>\n",
       "      <td>0</td>\n",
       "      <td>0.000000</td>\n",
       "      <td>103</td>\n",
       "      <td>0.000168</td>\n",
       "    </tr>\n",
       "    <tr>\n",
       "      <th>player_name</th>\n",
       "      <td>0</td>\n",
       "      <td>0.000000</td>\n",
       "      <td>0</td>\n",
       "      <td>0.000000</td>\n",
       "    </tr>\n",
       "    <tr>\n",
       "      <th>player_score</th>\n",
       "      <td>29</td>\n",
       "      <td>0.000021</td>\n",
       "      <td>0</td>\n",
       "      <td>0.000000</td>\n",
       "    </tr>\n",
       "    <tr>\n",
       "      <th>player_rating</th>\n",
       "      <td>0</td>\n",
       "      <td>0.000000</td>\n",
       "      <td>614209</td>\n",
       "      <td>0.999832</td>\n",
       "    </tr>\n",
       "    <tr>\n",
       "      <th>first_move_by</th>\n",
       "      <td>0</td>\n",
       "      <td>0.000000</td>\n",
       "      <td>0</td>\n",
       "      <td>0.000000</td>\n",
       "    </tr>\n",
       "    <tr>\n",
       "      <th>time_control_name</th>\n",
       "      <td>0</td>\n",
       "      <td>0.000000</td>\n",
       "      <td>0</td>\n",
       "      <td>0.000000</td>\n",
       "    </tr>\n",
       "    <tr>\n",
       "      <th>game_end_reason</th>\n",
       "      <td>0</td>\n",
       "      <td>0.000000</td>\n",
       "      <td>0</td>\n",
       "      <td>0.000000</td>\n",
       "    </tr>\n",
       "    <tr>\n",
       "      <th>first_move_win/not</th>\n",
       "      <td>0</td>\n",
       "      <td>0.000000</td>\n",
       "      <td>0</td>\n",
       "      <td>0.000000</td>\n",
       "    </tr>\n",
       "    <tr>\n",
       "      <th>created_at</th>\n",
       "      <td>0</td>\n",
       "      <td>0.000000</td>\n",
       "      <td>0</td>\n",
       "      <td>0.000000</td>\n",
       "    </tr>\n",
       "    <tr>\n",
       "      <th>lexicon</th>\n",
       "      <td>0</td>\n",
       "      <td>0.000000</td>\n",
       "      <td>0</td>\n",
       "      <td>0.000000</td>\n",
       "    </tr>\n",
       "    <tr>\n",
       "      <th>initial_time_seconds</th>\n",
       "      <td>0</td>\n",
       "      <td>0.000000</td>\n",
       "      <td>0</td>\n",
       "      <td>0.000000</td>\n",
       "    </tr>\n",
       "    <tr>\n",
       "      <th>increment_seconds</th>\n",
       "      <td>0</td>\n",
       "      <td>0.000000</td>\n",
       "      <td>0</td>\n",
       "      <td>0.000000</td>\n",
       "    </tr>\n",
       "    <tr>\n",
       "      <th>rating_mode</th>\n",
       "      <td>0</td>\n",
       "      <td>0.000000</td>\n",
       "      <td>0</td>\n",
       "      <td>0.000000</td>\n",
       "    </tr>\n",
       "    <tr>\n",
       "      <th>max_overtime_minutes</th>\n",
       "      <td>0</td>\n",
       "      <td>0.000000</td>\n",
       "      <td>0</td>\n",
       "      <td>0.000000</td>\n",
       "    </tr>\n",
       "    <tr>\n",
       "      <th>game_duration_seconds</th>\n",
       "      <td>0</td>\n",
       "      <td>0.000000</td>\n",
       "      <td>0</td>\n",
       "      <td>0.000000</td>\n",
       "    </tr>\n",
       "    <tr>\n",
       "      <th>turn_number</th>\n",
       "      <td>0</td>\n",
       "      <td>0.000000</td>\n",
       "      <td>0</td>\n",
       "      <td>0.000000</td>\n",
       "    </tr>\n",
       "    <tr>\n",
       "      <th>nickname</th>\n",
       "      <td>0</td>\n",
       "      <td>0.000000</td>\n",
       "      <td>0</td>\n",
       "      <td>0.000000</td>\n",
       "    </tr>\n",
       "    <tr>\n",
       "      <th>rack</th>\n",
       "      <td>48217</td>\n",
       "      <td>0.034649</td>\n",
       "      <td>21184</td>\n",
       "      <td>0.034484</td>\n",
       "    </tr>\n",
       "    <tr>\n",
       "      <th>location</th>\n",
       "      <td>88564</td>\n",
       "      <td>0.063642</td>\n",
       "      <td>43727</td>\n",
       "      <td>0.071180</td>\n",
       "    </tr>\n",
       "    <tr>\n",
       "      <th>move</th>\n",
       "      <td>295</td>\n",
       "      <td>0.000212</td>\n",
       "      <td>159</td>\n",
       "      <td>0.000259</td>\n",
       "    </tr>\n",
       "    <tr>\n",
       "      <th>points</th>\n",
       "      <td>0</td>\n",
       "      <td>0.000000</td>\n",
       "      <td>0</td>\n",
       "      <td>0.000000</td>\n",
       "    </tr>\n",
       "    <tr>\n",
       "      <th>score</th>\n",
       "      <td>0</td>\n",
       "      <td>0.000000</td>\n",
       "      <td>0</td>\n",
       "      <td>0.000000</td>\n",
       "    </tr>\n",
       "    <tr>\n",
       "      <th>turn_type</th>\n",
       "      <td>253</td>\n",
       "      <td>0.000182</td>\n",
       "      <td>142</td>\n",
       "      <td>0.000231</td>\n",
       "    </tr>\n",
       "  </tbody>\n",
       "</table>\n",
       "</div>"
      ],
      "text/plain": [
       "                       NaN_count_train  NaN_percentage_train  NaN_count_test  \\\n",
       "game_id                              0              0.000000               0   \n",
       "Bot_name                             0              0.000000               0   \n",
       "Bot_score                            0              0.000000               0   \n",
       "Bot_rating                           0              0.000000             103   \n",
       "player_name                          0              0.000000               0   \n",
       "player_score                        29              0.000021               0   \n",
       "player_rating                        0              0.000000          614209   \n",
       "first_move_by                        0              0.000000               0   \n",
       "time_control_name                    0              0.000000               0   \n",
       "game_end_reason                      0              0.000000               0   \n",
       "first_move_win/not                   0              0.000000               0   \n",
       "created_at                           0              0.000000               0   \n",
       "lexicon                              0              0.000000               0   \n",
       "initial_time_seconds                 0              0.000000               0   \n",
       "increment_seconds                    0              0.000000               0   \n",
       "rating_mode                          0              0.000000               0   \n",
       "max_overtime_minutes                 0              0.000000               0   \n",
       "game_duration_seconds                0              0.000000               0   \n",
       "turn_number                          0              0.000000               0   \n",
       "nickname                             0              0.000000               0   \n",
       "rack                             48217              0.034649           21184   \n",
       "location                         88564              0.063642           43727   \n",
       "move                               295              0.000212             159   \n",
       "points                               0              0.000000               0   \n",
       "score                                0              0.000000               0   \n",
       "turn_type                          253              0.000182             142   \n",
       "\n",
       "                       NaN_percentage_test  \n",
       "game_id                           0.000000  \n",
       "Bot_name                          0.000000  \n",
       "Bot_score                         0.000000  \n",
       "Bot_rating                        0.000168  \n",
       "player_name                       0.000000  \n",
       "player_score                      0.000000  \n",
       "player_rating                     0.999832  \n",
       "first_move_by                     0.000000  \n",
       "time_control_name                 0.000000  \n",
       "game_end_reason                   0.000000  \n",
       "first_move_win/not                0.000000  \n",
       "created_at                        0.000000  \n",
       "lexicon                           0.000000  \n",
       "initial_time_seconds              0.000000  \n",
       "increment_seconds                 0.000000  \n",
       "rating_mode                       0.000000  \n",
       "max_overtime_minutes              0.000000  \n",
       "game_duration_seconds             0.000000  \n",
       "turn_number                       0.000000  \n",
       "nickname                          0.000000  \n",
       "rack                              0.034484  \n",
       "location                          0.071180  \n",
       "move                              0.000259  \n",
       "points                            0.000000  \n",
       "score                             0.000000  \n",
       "turn_type                         0.000231  "
      ]
     },
     "execution_count": 29,
     "metadata": {},
     "output_type": "execute_result"
    }
   ],
   "source": [
    "missing_train = train_df.isnull().sum()\n",
    "missing_test = test_df.isnull().sum()\n",
    "missing_train = pd.DataFrame({'NaN_count_train': missing_train, 'NaN_percentage_train': missing_train / len(train_df)})\n",
    "missing_test = pd.DataFrame({'NaN_count_test': missing_test, 'NaN_percentage_test': missing_test / len(test_df)})\n",
    "missing=pd.concat([missing_train,missing_test],axis=1)\n",
    "missing"
   ]
  },
  {
   "cell_type": "markdown",
   "id": "2abeb7c0",
   "metadata": {},
   "source": [
    "Filtering all columns name having missing values in train dataset"
   ]
  },
  {
   "cell_type": "code",
   "execution_count": 30,
   "id": "f942f11e",
   "metadata": {},
   "outputs": [
    {
     "data": {
      "text/html": [
       "<div>\n",
       "<style scoped>\n",
       "    .dataframe tbody tr th:only-of-type {\n",
       "        vertical-align: middle;\n",
       "    }\n",
       "\n",
       "    .dataframe tbody tr th {\n",
       "        vertical-align: top;\n",
       "    }\n",
       "\n",
       "    .dataframe thead th {\n",
       "        text-align: right;\n",
       "    }\n",
       "</style>\n",
       "<table border=\"1\" class=\"dataframe\">\n",
       "  <thead>\n",
       "    <tr style=\"text-align: right;\">\n",
       "      <th></th>\n",
       "      <th>NaN_count_train</th>\n",
       "      <th>NaN_percentage_train</th>\n",
       "    </tr>\n",
       "  </thead>\n",
       "  <tbody>\n",
       "    <tr>\n",
       "      <th>player_score</th>\n",
       "      <td>29</td>\n",
       "      <td>0.000021</td>\n",
       "    </tr>\n",
       "    <tr>\n",
       "      <th>rack</th>\n",
       "      <td>48217</td>\n",
       "      <td>0.034649</td>\n",
       "    </tr>\n",
       "    <tr>\n",
       "      <th>location</th>\n",
       "      <td>88564</td>\n",
       "      <td>0.063642</td>\n",
       "    </tr>\n",
       "    <tr>\n",
       "      <th>move</th>\n",
       "      <td>295</td>\n",
       "      <td>0.000212</td>\n",
       "    </tr>\n",
       "    <tr>\n",
       "      <th>turn_type</th>\n",
       "      <td>253</td>\n",
       "      <td>0.000182</td>\n",
       "    </tr>\n",
       "  </tbody>\n",
       "</table>\n",
       "</div>"
      ],
      "text/plain": [
       "              NaN_count_train  NaN_percentage_train\n",
       "player_score               29              0.000021\n",
       "rack                    48217              0.034649\n",
       "location                88564              0.063642\n",
       "move                      295              0.000212\n",
       "turn_type                 253              0.000182"
      ]
     },
     "execution_count": 30,
     "metadata": {},
     "output_type": "execute_result"
    }
   ],
   "source": [
    "missing[missing['NaN_count_train']>0][['NaN_count_train','NaN_percentage_train']]"
   ]
  },
  {
   "cell_type": "markdown",
   "id": "cfb2a2df",
   "metadata": {},
   "source": [
    " eleminating all the rows containing null in player_score columns because only .000021 is missing"
   ]
  },
  {
   "cell_type": "code",
   "execution_count": 31,
   "id": "98e709a8",
   "metadata": {},
   "outputs": [],
   "source": [
    "train_df.dropna(subset=['player_score'],inplace=True)"
   ]
  },
  {
   "cell_type": "markdown",
   "id": "91303b6e",
   "metadata": {},
   "source": [
    "Now we need to understand the Game to Handle the missing data"
   ]
  },
  {
   "cell_type": "code",
   "execution_count": 32,
   "id": "ab5b7e53",
   "metadata": {},
   "outputs": [
    {
     "data": {
      "text/html": [
       "<div>\n",
       "<style scoped>\n",
       "    .dataframe tbody tr th:only-of-type {\n",
       "        vertical-align: middle;\n",
       "    }\n",
       "\n",
       "    .dataframe tbody tr th {\n",
       "        vertical-align: top;\n",
       "    }\n",
       "\n",
       "    .dataframe thead th {\n",
       "        text-align: right;\n",
       "    }\n",
       "</style>\n",
       "<table border=\"1\" class=\"dataframe\">\n",
       "  <thead>\n",
       "    <tr style=\"text-align: right;\">\n",
       "      <th></th>\n",
       "      <th>NaN_count_test</th>\n",
       "      <th>NaN_percentage_test</th>\n",
       "    </tr>\n",
       "  </thead>\n",
       "  <tbody>\n",
       "    <tr>\n",
       "      <th>Bot_rating</th>\n",
       "      <td>103</td>\n",
       "      <td>0.000168</td>\n",
       "    </tr>\n",
       "    <tr>\n",
       "      <th>player_rating</th>\n",
       "      <td>614209</td>\n",
       "      <td>0.999832</td>\n",
       "    </tr>\n",
       "    <tr>\n",
       "      <th>rack</th>\n",
       "      <td>21184</td>\n",
       "      <td>0.034484</td>\n",
       "    </tr>\n",
       "    <tr>\n",
       "      <th>location</th>\n",
       "      <td>43727</td>\n",
       "      <td>0.071180</td>\n",
       "    </tr>\n",
       "    <tr>\n",
       "      <th>move</th>\n",
       "      <td>159</td>\n",
       "      <td>0.000259</td>\n",
       "    </tr>\n",
       "    <tr>\n",
       "      <th>turn_type</th>\n",
       "      <td>142</td>\n",
       "      <td>0.000231</td>\n",
       "    </tr>\n",
       "  </tbody>\n",
       "</table>\n",
       "</div>"
      ],
      "text/plain": [
       "               NaN_count_test  NaN_percentage_test\n",
       "Bot_rating                103             0.000168\n",
       "player_rating          614209             0.999832\n",
       "rack                    21184             0.034484\n",
       "location                43727             0.071180\n",
       "move                      159             0.000259\n",
       "turn_type                 142             0.000231"
      ]
     },
     "execution_count": 32,
     "metadata": {},
     "output_type": "execute_result"
    }
   ],
   "source": [
    "missing[missing['NaN_count_test']>0][['NaN_count_test','NaN_percentage_test']]"
   ]
  },
  {
   "cell_type": "markdown",
   "id": "6a7fac70",
   "metadata": {},
   "source": [
    "Here we have 103 value which is missing so we need to handle them seperately. and on invetigating we find that tere is one bot not present in train dataset"
   ]
  },
  {
   "cell_type": "code",
   "execution_count": 33,
   "id": "5709b71e",
   "metadata": {},
   "outputs": [
    {
     "name": "stdout",
     "output_type": "stream",
     "text": [
      "All unique bot in train set ['BetterBot' 'STEEBot' 'HastyBot' 'MasterBot']\n",
      "All unique bot in test set ['BetterBot' 'STEEBot' 'HastyBot' 'Arkilabot']\n"
     ]
    }
   ],
   "source": [
    "print('All unique bot in train set',train['Bot_name'].unique())\n",
    "print('All unique bot in test set',test['Bot_name'].unique())"
   ]
  },
  {
   "cell_type": "code",
   "execution_count": 34,
   "id": "c138bbd7",
   "metadata": {},
   "outputs": [],
   "source": [
    "test['Bot_rating'].fillna(value=test['Bot_rating'].mean,inplace=True)"
   ]
  },
  {
   "cell_type": "markdown",
   "id": "e6fb3b3f",
   "metadata": {},
   "source": [
    "# Handeling Category Data"
   ]
  },
  {
   "cell_type": "code",
   "execution_count": 35,
   "id": "65c6dbaa",
   "metadata": {
    "scrolled": true
   },
   "outputs": [
    {
     "data": {
      "text/html": [
       "<div>\n",
       "<style scoped>\n",
       "    .dataframe tbody tr th:only-of-type {\n",
       "        vertical-align: middle;\n",
       "    }\n",
       "\n",
       "    .dataframe tbody tr th {\n",
       "        vertical-align: top;\n",
       "    }\n",
       "\n",
       "    .dataframe thead th {\n",
       "        text-align: right;\n",
       "    }\n",
       "</style>\n",
       "<table border=\"1\" class=\"dataframe\">\n",
       "  <thead>\n",
       "    <tr style=\"text-align: right;\">\n",
       "      <th></th>\n",
       "      <th>Bot_name</th>\n",
       "      <th>player_name</th>\n",
       "      <th>first_move_by</th>\n",
       "      <th>time_control_name</th>\n",
       "      <th>game_end_reason</th>\n",
       "      <th>lexicon</th>\n",
       "      <th>rating_mode</th>\n",
       "      <th>nickname</th>\n",
       "      <th>rack</th>\n",
       "      <th>location</th>\n",
       "      <th>move</th>\n",
       "      <th>turn_type</th>\n",
       "    </tr>\n",
       "  </thead>\n",
       "  <tbody>\n",
       "    <tr>\n",
       "      <th>count</th>\n",
       "      <td>1391559</td>\n",
       "      <td>1391559</td>\n",
       "      <td>1391559</td>\n",
       "      <td>1391559</td>\n",
       "      <td>1391559</td>\n",
       "      <td>1391559</td>\n",
       "      <td>1391559</td>\n",
       "      <td>1391559</td>\n",
       "      <td>1343342</td>\n",
       "      <td>1303001</td>\n",
       "      <td>1391264</td>\n",
       "      <td>1391306</td>\n",
       "    </tr>\n",
       "    <tr>\n",
       "      <th>unique</th>\n",
       "      <td>4</td>\n",
       "      <td>1029</td>\n",
       "      <td>915</td>\n",
       "      <td>4</td>\n",
       "      <td>4</td>\n",
       "      <td>4</td>\n",
       "      <td>2</td>\n",
       "      <td>1031</td>\n",
       "      <td>507123</td>\n",
       "      <td>418</td>\n",
       "      <td>279085</td>\n",
       "      <td>7</td>\n",
       "    </tr>\n",
       "    <tr>\n",
       "      <th>top</th>\n",
       "      <td>BetterBot</td>\n",
       "      <td>BB-8</td>\n",
       "      <td>BetterBot</td>\n",
       "      <td>regular</td>\n",
       "      <td>STANDARD</td>\n",
       "      <td>CSW21</td>\n",
       "      <td>RATED</td>\n",
       "      <td>BetterBot</td>\n",
       "      <td>I</td>\n",
       "      <td>15A</td>\n",
       "      <td>QI</td>\n",
       "      <td>Play</td>\n",
       "    </tr>\n",
       "    <tr>\n",
       "      <th>freq</th>\n",
       "      <td>494744</td>\n",
       "      <td>185590</td>\n",
       "      <td>246528</td>\n",
       "      <td>1197140</td>\n",
       "      <td>1321804</td>\n",
       "      <td>837601</td>\n",
       "      <td>985814</td>\n",
       "      <td>247412</td>\n",
       "      <td>2054</td>\n",
       "      <td>16788</td>\n",
       "      <td>10081</td>\n",
       "      <td>1302748</td>\n",
       "    </tr>\n",
       "  </tbody>\n",
       "</table>\n",
       "</div>"
      ],
      "text/plain": [
       "         Bot_name player_name first_move_by time_control_name game_end_reason  \\\n",
       "count     1391559     1391559       1391559           1391559         1391559   \n",
       "unique          4        1029           915                 4               4   \n",
       "top     BetterBot        BB-8     BetterBot           regular        STANDARD   \n",
       "freq       494744      185590        246528           1197140         1321804   \n",
       "\n",
       "        lexicon rating_mode   nickname     rack location     move turn_type  \n",
       "count   1391559     1391559    1391559  1343342  1303001  1391264   1391306  \n",
       "unique        4           2       1031   507123      418   279085         7  \n",
       "top       CSW21       RATED  BetterBot        I      15A       QI      Play  \n",
       "freq     837601      985814     247412     2054    16788    10081   1302748  "
      ]
     },
     "execution_count": 35,
     "metadata": {},
     "output_type": "execute_result"
    }
   ],
   "source": [
    "train_df.describe(include=['object'])"
   ]
  },
  {
   "cell_type": "markdown",
   "id": "c05ed5f9",
   "metadata": {},
   "source": [
    "Analys the category column with respect to the score and rating of player and bot"
   ]
  },
  {
   "cell_type": "code",
   "execution_count": 36,
   "id": "2ed25ada",
   "metadata": {},
   "outputs": [
    {
     "data": {
      "text/html": [
       "<div>\n",
       "<style scoped>\n",
       "    .dataframe tbody tr th:only-of-type {\n",
       "        vertical-align: middle;\n",
       "    }\n",
       "\n",
       "    .dataframe tbody tr th {\n",
       "        vertical-align: top;\n",
       "    }\n",
       "\n",
       "    .dataframe thead tr th {\n",
       "        text-align: left;\n",
       "    }\n",
       "\n",
       "    .dataframe thead tr:last-of-type th {\n",
       "        text-align: right;\n",
       "    }\n",
       "</style>\n",
       "<table border=\"1\" class=\"dataframe\">\n",
       "  <thead>\n",
       "    <tr>\n",
       "      <th></th>\n",
       "      <th colspan=\"4\" halign=\"left\">Bot_score</th>\n",
       "      <th colspan=\"3\" halign=\"left\">player_score</th>\n",
       "      <th colspan=\"3\" halign=\"left\">Bot_rating</th>\n",
       "      <th colspan=\"3\" halign=\"left\">player_rating</th>\n",
       "    </tr>\n",
       "    <tr>\n",
       "      <th></th>\n",
       "      <th>count</th>\n",
       "      <th>mean</th>\n",
       "      <th>sum</th>\n",
       "      <th>max</th>\n",
       "      <th>mean</th>\n",
       "      <th>sum</th>\n",
       "      <th>max</th>\n",
       "      <th>mean</th>\n",
       "      <th>sum</th>\n",
       "      <th>max</th>\n",
       "      <th>mean</th>\n",
       "      <th>sum</th>\n",
       "      <th>max</th>\n",
       "    </tr>\n",
       "    <tr>\n",
       "      <th>rating_mode</th>\n",
       "      <th></th>\n",
       "      <th></th>\n",
       "      <th></th>\n",
       "      <th></th>\n",
       "      <th></th>\n",
       "      <th></th>\n",
       "      <th></th>\n",
       "      <th></th>\n",
       "      <th></th>\n",
       "      <th></th>\n",
       "      <th></th>\n",
       "      <th></th>\n",
       "      <th></th>\n",
       "    </tr>\n",
       "  </thead>\n",
       "  <tbody>\n",
       "    <tr>\n",
       "      <th>CASUAL</th>\n",
       "      <td>405745</td>\n",
       "      <td>411.352285</td>\n",
       "      <td>166904133</td>\n",
       "      <td>1132</td>\n",
       "      <td>365.482532</td>\n",
       "      <td>148292710.0</td>\n",
       "      <td>672.0</td>\n",
       "      <td>1828.382819</td>\n",
       "      <td>741857187</td>\n",
       "      <td>2372</td>\n",
       "      <td>1618.723173</td>\n",
       "      <td>656788834</td>\n",
       "      <td>2510</td>\n",
       "    </tr>\n",
       "    <tr>\n",
       "      <th>RATED</th>\n",
       "      <td>985814</td>\n",
       "      <td>424.759306</td>\n",
       "      <td>418733670</td>\n",
       "      <td>930</td>\n",
       "      <td>376.414650</td>\n",
       "      <td>371074832.0</td>\n",
       "      <td>707.0</td>\n",
       "      <td>2004.746234</td>\n",
       "      <td>1976306904</td>\n",
       "      <td>2377</td>\n",
       "      <td>1848.139875</td>\n",
       "      <td>1821922163</td>\n",
       "      <td>2404</td>\n",
       "    </tr>\n",
       "  </tbody>\n",
       "</table>\n",
       "</div>"
      ],
      "text/plain": [
       "            Bot_score                              player_score               \\\n",
       "                count        mean        sum   max         mean          sum   \n",
       "rating_mode                                                                    \n",
       "CASUAL         405745  411.352285  166904133  1132   365.482532  148292710.0   \n",
       "RATED          985814  424.759306  418733670   930   376.414650  371074832.0   \n",
       "\n",
       "                     Bot_rating                   player_rating              \\\n",
       "               max         mean         sum   max          mean         sum   \n",
       "rating_mode                                                                   \n",
       "CASUAL       672.0  1828.382819   741857187  2372   1618.723173   656788834   \n",
       "RATED        707.0  2004.746234  1976306904  2377   1848.139875  1821922163   \n",
       "\n",
       "                   \n",
       "              max  \n",
       "rating_mode        \n",
       "CASUAL       2510  \n",
       "RATED        2404  "
      ]
     },
     "execution_count": 36,
     "metadata": {},
     "output_type": "execute_result"
    }
   ],
   "source": [
    "df_group=train_df.groupby(by='rating_mode').aggregate({'Bot_score':['count','mean','sum','max'],'player_score':['mean','sum','max'],'Bot_rating':['mean','sum','max'],'player_rating':['mean','sum','max']})\n",
    "df_group"
   ]
  },
  {
   "cell_type": "code",
   "execution_count": 37,
   "id": "7582ade5",
   "metadata": {},
   "outputs": [
    {
     "data": {
      "text/plain": [
       "rating_mode\n",
       "CASUAL    1.129522\n",
       "RATED     1.084737\n",
       "Name: mean, dtype: float64"
      ]
     },
     "execution_count": 37,
     "metadata": {},
     "output_type": "execute_result"
    }
   ],
   "source": [
    "df_group['Bot_rating']['mean']/df_group['player_rating']['mean']"
   ]
  },
  {
   "cell_type": "markdown",
   "id": "f0ab069a",
   "metadata": {},
   "source": [
    " using ordinal encoder to encode the category columns"
   ]
  },
  {
   "cell_type": "code",
   "execution_count": 38,
   "id": "dc62da50",
   "metadata": {},
   "outputs": [],
   "source": [
    "from sklearn.preprocessing import OrdinalEncoder\n",
    "oe=OrdinalEncoder(categories=[\n",
    "    ['ultrablitz','blitz','rapid','regular'],\n",
    "    ['CONSECUTIVE_ZEROES','TIME','RESIGNED','STANDARD'],\n",
    "    ['CSW21','NSWL20','NWL20','ECWL'],\n",
    "    ['CASUAL','RATED']\n",
    "])"
   ]
  },
  {
   "cell_type": "code",
   "execution_count": 39,
   "id": "2ca1e6b8",
   "metadata": {},
   "outputs": [],
   "source": [
    "oe.fit(train_df[['time_control_name','game_end_reason','lexicon','rating_mode']])\n",
    "train_df[['time_control_name','game_end_reason','lexicon','rating_mode']] = oe.transform(train_df[['time_control_name','game_end_reason','lexicon','rating_mode']])"
   ]
  },
  {
   "cell_type": "code",
   "execution_count": 40,
   "id": "e57adad8",
   "metadata": {},
   "outputs": [],
   "source": [
    "test_df[['time_control_name','game_end_reason','lexicon','rating_mode']] = oe.transform(test_df[['time_control_name','game_end_reason','lexicon','rating_mode']])"
   ]
  },
  {
   "cell_type": "markdown",
   "id": "074f5b1b",
   "metadata": {},
   "source": [
    "Turn_type in scrabble game is what turn player made like play / pass / timeout .so if null present mean player didn't make any move thus sount as zero or null"
   ]
  },
  {
   "cell_type": "code",
   "execution_count": 41,
   "id": "7ab4c66a",
   "metadata": {},
   "outputs": [],
   "source": [
    "train_df['turn_type'].fillna('Null_value',inplace=True)\n",
    "test_df['turn_type'].fillna('Null_value',inplace=True)"
   ]
  },
  {
   "cell_type": "code",
   "execution_count": 42,
   "id": "02464927",
   "metadata": {},
   "outputs": [
    {
     "data": {
      "text/html": [
       "<div>\n",
       "<style scoped>\n",
       "    .dataframe tbody tr th:only-of-type {\n",
       "        vertical-align: middle;\n",
       "    }\n",
       "\n",
       "    .dataframe tbody tr th {\n",
       "        vertical-align: top;\n",
       "    }\n",
       "\n",
       "    .dataframe thead tr th {\n",
       "        text-align: left;\n",
       "    }\n",
       "\n",
       "    .dataframe thead tr:last-of-type th {\n",
       "        text-align: right;\n",
       "    }\n",
       "</style>\n",
       "<table border=\"1\" class=\"dataframe\">\n",
       "  <thead>\n",
       "    <tr>\n",
       "      <th></th>\n",
       "      <th colspan=\"3\" halign=\"left\">Bot_score</th>\n",
       "      <th colspan=\"3\" halign=\"left\">player_score</th>\n",
       "      <th colspan=\"3\" halign=\"left\">Bot_rating</th>\n",
       "      <th colspan=\"3\" halign=\"left\">player_rating</th>\n",
       "    </tr>\n",
       "    <tr>\n",
       "      <th></th>\n",
       "      <th>mean</th>\n",
       "      <th>sum</th>\n",
       "      <th>max</th>\n",
       "      <th>mean</th>\n",
       "      <th>sum</th>\n",
       "      <th>max</th>\n",
       "      <th>mean</th>\n",
       "      <th>sum</th>\n",
       "      <th>max</th>\n",
       "      <th>mean</th>\n",
       "      <th>sum</th>\n",
       "      <th>max</th>\n",
       "    </tr>\n",
       "    <tr>\n",
       "      <th>turn_type</th>\n",
       "      <th></th>\n",
       "      <th></th>\n",
       "      <th></th>\n",
       "      <th></th>\n",
       "      <th></th>\n",
       "      <th></th>\n",
       "      <th></th>\n",
       "      <th></th>\n",
       "      <th></th>\n",
       "      <th></th>\n",
       "      <th></th>\n",
       "      <th></th>\n",
       "    </tr>\n",
       "  </thead>\n",
       "  <tbody>\n",
       "    <tr>\n",
       "      <th>Challenge</th>\n",
       "      <td>492.673774</td>\n",
       "      <td>231064</td>\n",
       "      <td>866</td>\n",
       "      <td>271.628998</td>\n",
       "      <td>127394.0</td>\n",
       "      <td>479.0</td>\n",
       "      <td>2090.744136</td>\n",
       "      <td>980559</td>\n",
       "      <td>2278</td>\n",
       "      <td>1613.573561</td>\n",
       "      <td>756766</td>\n",
       "      <td>2114</td>\n",
       "    </tr>\n",
       "    <tr>\n",
       "      <th>End</th>\n",
       "      <td>422.602046</td>\n",
       "      <td>20159808</td>\n",
       "      <td>1132</td>\n",
       "      <td>381.430195</td>\n",
       "      <td>18195746.0</td>\n",
       "      <td>707.0</td>\n",
       "      <td>1957.237129</td>\n",
       "      <td>93368040</td>\n",
       "      <td>2377</td>\n",
       "      <td>1792.864141</td>\n",
       "      <td>85526791</td>\n",
       "      <td>2510</td>\n",
       "    </tr>\n",
       "    <tr>\n",
       "      <th>Exchange</th>\n",
       "      <td>426.940024</td>\n",
       "      <td>14115918</td>\n",
       "      <td>1132</td>\n",
       "      <td>352.650092</td>\n",
       "      <td>11659670.0</td>\n",
       "      <td>679.0</td>\n",
       "      <td>1941.943199</td>\n",
       "      <td>64206468</td>\n",
       "      <td>2372</td>\n",
       "      <td>1749.891540</td>\n",
       "      <td>57856664</td>\n",
       "      <td>2510</td>\n",
       "    </tr>\n",
       "    <tr>\n",
       "      <th>Null_value</th>\n",
       "      <td>428.984190</td>\n",
       "      <td>108533</td>\n",
       "      <td>647</td>\n",
       "      <td>351.320158</td>\n",
       "      <td>88884.0</td>\n",
       "      <td>505.0</td>\n",
       "      <td>1984.067194</td>\n",
       "      <td>501969</td>\n",
       "      <td>2322</td>\n",
       "      <td>1756.347826</td>\n",
       "      <td>444356</td>\n",
       "      <td>2175</td>\n",
       "    </tr>\n",
       "    <tr>\n",
       "      <th>Pass</th>\n",
       "      <td>494.245579</td>\n",
       "      <td>2459366</td>\n",
       "      <td>1132</td>\n",
       "      <td>278.245780</td>\n",
       "      <td>1384551.0</td>\n",
       "      <td>663.0</td>\n",
       "      <td>1958.609727</td>\n",
       "      <td>9746042</td>\n",
       "      <td>2360</td>\n",
       "      <td>1697.440314</td>\n",
       "      <td>8446463</td>\n",
       "      <td>2292</td>\n",
       "    </tr>\n",
       "    <tr>\n",
       "      <th>Play</th>\n",
       "      <td>420.335036</td>\n",
       "      <td>547590628</td>\n",
       "      <td>1132</td>\n",
       "      <td>373.948068</td>\n",
       "      <td>487160098.0</td>\n",
       "      <td>707.0</td>\n",
       "      <td>1953.301190</td>\n",
       "      <td>2544659219</td>\n",
       "      <td>2377</td>\n",
       "      <td>1782.062555</td>\n",
       "      <td>2321578429</td>\n",
       "      <td>2510</td>\n",
       "    </tr>\n",
       "    <tr>\n",
       "      <th>Six-Zero Rule</th>\n",
       "      <td>374.453552</td>\n",
       "      <td>137050</td>\n",
       "      <td>516</td>\n",
       "      <td>349.666667</td>\n",
       "      <td>127978.0</td>\n",
       "      <td>541.0</td>\n",
       "      <td>1841.163934</td>\n",
       "      <td>673866</td>\n",
       "      <td>2321</td>\n",
       "      <td>1673.994536</td>\n",
       "      <td>612682</td>\n",
       "      <td>2208</td>\n",
       "    </tr>\n",
       "    <tr>\n",
       "      <th>Timeout</th>\n",
       "      <td>421.937374</td>\n",
       "      <td>835436</td>\n",
       "      <td>834</td>\n",
       "      <td>314.758081</td>\n",
       "      <td>623221.0</td>\n",
       "      <td>589.0</td>\n",
       "      <td>2034.307071</td>\n",
       "      <td>4027928</td>\n",
       "      <td>2364</td>\n",
       "      <td>1762.043434</td>\n",
       "      <td>3488846</td>\n",
       "      <td>2289</td>\n",
       "    </tr>\n",
       "  </tbody>\n",
       "</table>\n",
       "</div>"
      ],
      "text/plain": [
       "                Bot_score                  player_score                      \\\n",
       "                     mean        sum   max         mean          sum    max   \n",
       "turn_type                                                                     \n",
       "Challenge      492.673774     231064   866   271.628998     127394.0  479.0   \n",
       "End            422.602046   20159808  1132   381.430195   18195746.0  707.0   \n",
       "Exchange       426.940024   14115918  1132   352.650092   11659670.0  679.0   \n",
       "Null_value     428.984190     108533   647   351.320158      88884.0  505.0   \n",
       "Pass           494.245579    2459366  1132   278.245780    1384551.0  663.0   \n",
       "Play           420.335036  547590628  1132   373.948068  487160098.0  707.0   \n",
       "Six-Zero Rule  374.453552     137050   516   349.666667     127978.0  541.0   \n",
       "Timeout        421.937374     835436   834   314.758081     623221.0  589.0   \n",
       "\n",
       "                Bot_rating                   player_rating                    \n",
       "                      mean         sum   max          mean         sum   max  \n",
       "turn_type                                                                     \n",
       "Challenge      2090.744136      980559  2278   1613.573561      756766  2114  \n",
       "End            1957.237129    93368040  2377   1792.864141    85526791  2510  \n",
       "Exchange       1941.943199    64206468  2372   1749.891540    57856664  2510  \n",
       "Null_value     1984.067194      501969  2322   1756.347826      444356  2175  \n",
       "Pass           1958.609727     9746042  2360   1697.440314     8446463  2292  \n",
       "Play           1953.301190  2544659219  2377   1782.062555  2321578429  2510  \n",
       "Six-Zero Rule  1841.163934      673866  2321   1673.994536      612682  2208  \n",
       "Timeout        2034.307071     4027928  2364   1762.043434     3488846  2289  "
      ]
     },
     "execution_count": 42,
     "metadata": {},
     "output_type": "execute_result"
    }
   ],
   "source": [
    "train_df.groupby(by='turn_type').aggregate({'Bot_score':['mean','sum','max'],'player_score':['mean','sum','max'],'Bot_rating':['mean','sum','max'],'player_rating':['mean','sum','max']})"
   ]
  },
  {
   "cell_type": "code",
   "execution_count": 43,
   "id": "674839e1",
   "metadata": {},
   "outputs": [
    {
     "data": {
      "text/plain": [
       "array([[0., 0., 0., ..., 1., 0., 0.],\n",
       "       [0., 0., 0., ..., 1., 0., 0.],\n",
       "       [0., 0., 0., ..., 1., 0., 0.],\n",
       "       ...,\n",
       "       [0., 0., 0., ..., 1., 0., 0.],\n",
       "       [0., 0., 0., ..., 1., 0., 0.],\n",
       "       [1., 0., 0., ..., 0., 0., 0.]])"
      ]
     },
     "execution_count": 43,
     "metadata": {},
     "output_type": "execute_result"
    }
   ],
   "source": [
    "from sklearn.preprocessing import OneHotEncoder\n",
    "ohe=OneHotEncoder(drop='first',sparse=False)\n",
    "ohe.fit_transform(train_df[['turn_type']])"
   ]
  },
  {
   "cell_type": "code",
   "execution_count": 44,
   "id": "4dd75609",
   "metadata": {},
   "outputs": [],
   "source": [
    "df=pd.DataFrame(ohe.fit_transform(train_df[['turn_type']]),columns=['turn1','turn2','turn3','turn4','turn5','turn6','turn7'])\n",
    "train_df=pd.concat([train_df,df],axis=1)"
   ]
  },
  {
   "cell_type": "code",
   "execution_count": 45,
   "id": "3eaaa9e8",
   "metadata": {},
   "outputs": [],
   "source": [
    "df=pd.DataFrame(ohe.fit_transform(test_df[['turn_type']]),columns=['turn1','turn2','turn3','turn4','turn5','turn6','turn7'])\n",
    "test_df=pd.concat([test_df,df],axis=1)"
   ]
  },
  {
   "cell_type": "code",
   "execution_count": 46,
   "id": "eac21d8b",
   "metadata": {},
   "outputs": [],
   "source": [
    "train_df.drop(['turn_type'],axis=1,inplace=True)\n",
    "test_df.drop(['turn_type'],axis=1,inplace=True)"
   ]
  },
  {
   "cell_type": "markdown",
   "id": "44e44dc7",
   "metadata": {},
   "source": [
    "As we know in scabble game there are various words which can be formed during the game in progress so we need a certain parameter to measure all this"
   ]
  },
  {
   "cell_type": "code",
   "execution_count": 47,
   "id": "d2dcad06",
   "metadata": {},
   "outputs": [],
   "source": [
    "train_df['rack']= train_df['rack'].str.len()\n",
    "train_df['move']= train_df['move'].str.len()\n",
    "test_df['rack']= test_df['rack'].str.len()\n",
    "test_df['move']= test_df['move'].str.len()"
   ]
  },
  {
   "cell_type": "markdown",
   "id": "4f7a3b3a",
   "metadata": {},
   "source": [
    "As we know that total block in scrabble game is of 15X15 so converting in terms of x and y axis"
   ]
  },
  {
   "cell_type": "code",
   "execution_count": 48,
   "id": "6eb3f5c6",
   "metadata": {},
   "outputs": [],
   "source": [
    "train_df['location_y'] = train_df[\"location\"].str.extract('(\\d+)')\n",
    "train_df['location_y'] = pd.to_numeric(train_df['location_y'])\n",
    "train_df['location_x'] = train_df[\"location\"].str.extract('([A-Z])')\n",
    "train_df['location_x'].replace(to_replace=['A','B','C','D','E','F','G','H','I','J','K','L','M','N','O'],\n",
    "                            value=[1,2,3,4,5,6,7,8,9,10,11,12,13,14,15],inplace=True)\n",
    "train_df.drop(columns='location',axis=1,inplace=True)"
   ]
  },
  {
   "cell_type": "code",
   "execution_count": 49,
   "id": "b21fb2f1",
   "metadata": {},
   "outputs": [],
   "source": [
    "test_df['location_y'] = test_df[\"location\"].str.extract('(\\d+)')\n",
    "test_df['location_y'] = pd.to_numeric(test_df['location_y'])\n",
    "test_df['location_x'] = test_df[\"location\"].str.extract('([A-Z])')\n",
    "test_df['location_x'].replace(to_replace=['A','B','C','D','E','F','G','H','I','J','K','L','M','N','O'],\n",
    "                          value=[1,2,3,4,5,6,7,8,9,10,11,12,13,14,15],inplace=True)\n",
    "test_df.drop(columns='location',axis=1,inplace=True)"
   ]
  },
  {
   "cell_type": "code",
   "execution_count": 50,
   "id": "7a84d17c",
   "metadata": {},
   "outputs": [],
   "source": [
    "# np.unique(train_df[train_df['turn_type'].isna()][''],return_counts=True)"
   ]
  },
  {
   "cell_type": "markdown",
   "id": "945a0e34",
   "metadata": {
    "scrolled": false
   },
   "source": [
    "move in scrabble game is define as the what letter you put on board so if player don't play that mean zero word placed"
   ]
  },
  {
   "cell_type": "code",
   "execution_count": 51,
   "id": "2ad24e02",
   "metadata": {},
   "outputs": [],
   "source": [
    "train_df['move'].fillna(value=0,inplace=True)\n",
    "test_df['move'].fillna(value=0,inplace=True)"
   ]
  },
  {
   "cell_type": "markdown",
   "id": "a7c26c6b",
   "metadata": {},
   "source": [
    "Rack in scrabbler game is collection of random alphabets from which we have to select and place on board to make a meaningfull word. so when rack is null which mean the player has succesfully placed all alphabets on board. so here we will count null as zero"
   ]
  },
  {
   "cell_type": "code",
   "execution_count": 52,
   "id": "72824f22",
   "metadata": {},
   "outputs": [],
   "source": [
    "train_df['rack'].fillna(value=0,inplace=True)\n",
    "test_df['rack'].fillna(value=0,inplace=True)"
   ]
  },
  {
   "cell_type": "markdown",
   "id": "97bb885d",
   "metadata": {},
   "source": [
    "In scrabble game location also has value that decide the score so if not filled it may be no move made or pass or any resaon to left that session"
   ]
  },
  {
   "cell_type": "code",
   "execution_count": 53,
   "id": "44fd6af7",
   "metadata": {},
   "outputs": [],
   "source": [
    "train_df['location_y'].fillna(value=0,inplace=True)\n",
    "train_df['location_x'].fillna(value=0,inplace=True)\n",
    "test_df['location_x'].fillna(value=0,inplace=True)\n",
    "test_df['location_y'].fillna(value=0,inplace=True)"
   ]
  },
  {
   "cell_type": "code",
   "execution_count": 54,
   "id": "4e46f4e8",
   "metadata": {},
   "outputs": [],
   "source": [
    "# df_sort=train_df.sort_values(by=['player_name','created_at'])\n",
    "# df_sort"
   ]
  },
  {
   "cell_type": "markdown",
   "id": "8ae877ca",
   "metadata": {},
   "source": [
    "# Handeling Outlier data"
   ]
  },
  {
   "cell_type": "markdown",
   "id": "a5d9e7b6",
   "metadata": {},
   "source": [
    "Viewing the data having outlier in column and how its effecting the player rating in the dataset"
   ]
  },
  {
   "cell_type": "code",
   "execution_count": 55,
   "id": "4da7e1e0",
   "metadata": {
    "scrolled": true
   },
   "outputs": [
    {
     "name": "stderr",
     "output_type": "stream",
     "text": [
      "C:\\Users\\ankro\\anaconda3\\lib\\site-packages\\seaborn\\distributions.py:2619: FutureWarning: `distplot` is a deprecated function and will be removed in a future version. Please adapt your code to use either `displot` (a figure-level function with similar flexibility) or `histplot` (an axes-level function for histograms).\n",
      "  warnings.warn(msg, FutureWarning)\n",
      "C:\\Users\\ankro\\anaconda3\\lib\\site-packages\\seaborn\\_decorators.py:36: FutureWarning: Pass the following variable as a keyword arg: x. From version 0.12, the only valid positional argument will be `data`, and passing other arguments without an explicit keyword will result in an error or misinterpretation.\n",
      "  warnings.warn(\n",
      "C:\\Users\\ankro\\anaconda3\\lib\\site-packages\\seaborn\\distributions.py:2619: FutureWarning: `distplot` is a deprecated function and will be removed in a future version. Please adapt your code to use either `displot` (a figure-level function with similar flexibility) or `histplot` (an axes-level function for histograms).\n",
      "  warnings.warn(msg, FutureWarning)\n",
      "C:\\Users\\ankro\\anaconda3\\lib\\site-packages\\seaborn\\_decorators.py:36: FutureWarning: Pass the following variable as a keyword arg: x. From version 0.12, the only valid positional argument will be `data`, and passing other arguments without an explicit keyword will result in an error or misinterpretation.\n",
      "  warnings.warn(\n",
      "C:\\Users\\ankro\\anaconda3\\lib\\site-packages\\seaborn\\distributions.py:2619: FutureWarning: `distplot` is a deprecated function and will be removed in a future version. Please adapt your code to use either `displot` (a figure-level function with similar flexibility) or `histplot` (an axes-level function for histograms).\n",
      "  warnings.warn(msg, FutureWarning)\n",
      "C:\\Users\\ankro\\anaconda3\\lib\\site-packages\\seaborn\\_decorators.py:36: FutureWarning: Pass the following variable as a keyword arg: x. From version 0.12, the only valid positional argument will be `data`, and passing other arguments without an explicit keyword will result in an error or misinterpretation.\n",
      "  warnings.warn(\n",
      "C:\\Users\\ankro\\anaconda3\\lib\\site-packages\\seaborn\\distributions.py:2619: FutureWarning: `distplot` is a deprecated function and will be removed in a future version. Please adapt your code to use either `displot` (a figure-level function with similar flexibility) or `histplot` (an axes-level function for histograms).\n",
      "  warnings.warn(msg, FutureWarning)\n",
      "C:\\Users\\ankro\\anaconda3\\lib\\site-packages\\seaborn\\_decorators.py:36: FutureWarning: Pass the following variable as a keyword arg: x. From version 0.12, the only valid positional argument will be `data`, and passing other arguments without an explicit keyword will result in an error or misinterpretation.\n",
      "  warnings.warn(\n",
      "C:\\Users\\ankro\\anaconda3\\lib\\site-packages\\seaborn\\distributions.py:2619: FutureWarning: `distplot` is a deprecated function and will be removed in a future version. Please adapt your code to use either `displot` (a figure-level function with similar flexibility) or `histplot` (an axes-level function for histograms).\n",
      "  warnings.warn(msg, FutureWarning)\n",
      "C:\\Users\\ankro\\anaconda3\\lib\\site-packages\\seaborn\\_decorators.py:36: FutureWarning: Pass the following variable as a keyword arg: x. From version 0.12, the only valid positional argument will be `data`, and passing other arguments without an explicit keyword will result in an error or misinterpretation.\n",
      "  warnings.warn(\n",
      "C:\\Users\\ankro\\anaconda3\\lib\\site-packages\\seaborn\\distributions.py:2619: FutureWarning: `distplot` is a deprecated function and will be removed in a future version. Please adapt your code to use either `displot` (a figure-level function with similar flexibility) or `histplot` (an axes-level function for histograms).\n",
      "  warnings.warn(msg, FutureWarning)\n",
      "C:\\Users\\ankro\\anaconda3\\lib\\site-packages\\seaborn\\_decorators.py:36: FutureWarning: Pass the following variable as a keyword arg: x. From version 0.12, the only valid positional argument will be `data`, and passing other arguments without an explicit keyword will result in an error or misinterpretation.\n",
      "  warnings.warn(\n",
      "C:\\Users\\ankro\\anaconda3\\lib\\site-packages\\seaborn\\distributions.py:2619: FutureWarning: `distplot` is a deprecated function and will be removed in a future version. Please adapt your code to use either `displot` (a figure-level function with similar flexibility) or `histplot` (an axes-level function for histograms).\n",
      "  warnings.warn(msg, FutureWarning)\n",
      "C:\\Users\\ankro\\anaconda3\\lib\\site-packages\\seaborn\\_decorators.py:36: FutureWarning: Pass the following variable as a keyword arg: x. From version 0.12, the only valid positional argument will be `data`, and passing other arguments without an explicit keyword will result in an error or misinterpretation.\n",
      "  warnings.warn(\n",
      "C:\\Users\\ankro\\anaconda3\\lib\\site-packages\\seaborn\\distributions.py:2619: FutureWarning: `distplot` is a deprecated function and will be removed in a future version. Please adapt your code to use either `displot` (a figure-level function with similar flexibility) or `histplot` (an axes-level function for histograms).\n",
      "  warnings.warn(msg, FutureWarning)\n",
      "C:\\Users\\ankro\\anaconda3\\lib\\site-packages\\seaborn\\_decorators.py:36: FutureWarning: Pass the following variable as a keyword arg: x. From version 0.12, the only valid positional argument will be `data`, and passing other arguments without an explicit keyword will result in an error or misinterpretation.\n",
      "  warnings.warn(\n",
      "C:\\Users\\ankro\\anaconda3\\lib\\site-packages\\seaborn\\distributions.py:2619: FutureWarning: `distplot` is a deprecated function and will be removed in a future version. Please adapt your code to use either `displot` (a figure-level function with similar flexibility) or `histplot` (an axes-level function for histograms).\n",
      "  warnings.warn(msg, FutureWarning)\n",
      "C:\\Users\\ankro\\anaconda3\\lib\\site-packages\\seaborn\\_decorators.py:36: FutureWarning: Pass the following variable as a keyword arg: x. From version 0.12, the only valid positional argument will be `data`, and passing other arguments without an explicit keyword will result in an error or misinterpretation.\n",
      "  warnings.warn(\n",
      "C:\\Users\\ankro\\anaconda3\\lib\\site-packages\\seaborn\\distributions.py:2619: FutureWarning: `distplot` is a deprecated function and will be removed in a future version. Please adapt your code to use either `displot` (a figure-level function with similar flexibility) or `histplot` (an axes-level function for histograms).\n",
      "  warnings.warn(msg, FutureWarning)\n",
      "C:\\Users\\ankro\\anaconda3\\lib\\site-packages\\seaborn\\_decorators.py:36: FutureWarning: Pass the following variable as a keyword arg: x. From version 0.12, the only valid positional argument will be `data`, and passing other arguments without an explicit keyword will result in an error or misinterpretation.\n",
      "  warnings.warn(\n",
      "C:\\Users\\ankro\\anaconda3\\lib\\site-packages\\seaborn\\distributions.py:2619: FutureWarning: `distplot` is a deprecated function and will be removed in a future version. Please adapt your code to use either `displot` (a figure-level function with similar flexibility) or `histplot` (an axes-level function for histograms).\n",
      "  warnings.warn(msg, FutureWarning)\n",
      "C:\\Users\\ankro\\anaconda3\\lib\\site-packages\\seaborn\\_decorators.py:36: FutureWarning: Pass the following variable as a keyword arg: x. From version 0.12, the only valid positional argument will be `data`, and passing other arguments without an explicit keyword will result in an error or misinterpretation.\n",
      "  warnings.warn(\n",
      "C:\\Users\\ankro\\anaconda3\\lib\\site-packages\\seaborn\\distributions.py:2619: FutureWarning: `distplot` is a deprecated function and will be removed in a future version. Please adapt your code to use either `displot` (a figure-level function with similar flexibility) or `histplot` (an axes-level function for histograms).\n",
      "  warnings.warn(msg, FutureWarning)\n",
      "C:\\Users\\ankro\\anaconda3\\lib\\site-packages\\seaborn\\_decorators.py:36: FutureWarning: Pass the following variable as a keyword arg: x. From version 0.12, the only valid positional argument will be `data`, and passing other arguments without an explicit keyword will result in an error or misinterpretation.\n",
      "  warnings.warn(\n",
      "C:\\Users\\ankro\\anaconda3\\lib\\site-packages\\seaborn\\distributions.py:2619: FutureWarning: `distplot` is a deprecated function and will be removed in a future version. Please adapt your code to use either `displot` (a figure-level function with similar flexibility) or `histplot` (an axes-level function for histograms).\n",
      "  warnings.warn(msg, FutureWarning)\n"
     ]
    },
    {
     "name": "stderr",
     "output_type": "stream",
     "text": [
      "C:\\Users\\ankro\\anaconda3\\lib\\site-packages\\seaborn\\_decorators.py:36: FutureWarning: Pass the following variable as a keyword arg: x. From version 0.12, the only valid positional argument will be `data`, and passing other arguments without an explicit keyword will result in an error or misinterpretation.\n",
      "  warnings.warn(\n",
      "C:\\Users\\ankro\\anaconda3\\lib\\site-packages\\seaborn\\distributions.py:2619: FutureWarning: `distplot` is a deprecated function and will be removed in a future version. Please adapt your code to use either `displot` (a figure-level function with similar flexibility) or `histplot` (an axes-level function for histograms).\n",
      "  warnings.warn(msg, FutureWarning)\n",
      "C:\\Users\\ankro\\anaconda3\\lib\\site-packages\\seaborn\\_decorators.py:36: FutureWarning: Pass the following variable as a keyword arg: x. From version 0.12, the only valid positional argument will be `data`, and passing other arguments without an explicit keyword will result in an error or misinterpretation.\n",
      "  warnings.warn(\n",
      "C:\\Users\\ankro\\anaconda3\\lib\\site-packages\\seaborn\\distributions.py:2619: FutureWarning: `distplot` is a deprecated function and will be removed in a future version. Please adapt your code to use either `displot` (a figure-level function with similar flexibility) or `histplot` (an axes-level function for histograms).\n",
      "  warnings.warn(msg, FutureWarning)\n",
      "C:\\Users\\ankro\\anaconda3\\lib\\site-packages\\seaborn\\_decorators.py:36: FutureWarning: Pass the following variable as a keyword arg: x. From version 0.12, the only valid positional argument will be `data`, and passing other arguments without an explicit keyword will result in an error or misinterpretation.\n",
      "  warnings.warn(\n",
      "C:\\Users\\ankro\\anaconda3\\lib\\site-packages\\seaborn\\distributions.py:2619: FutureWarning: `distplot` is a deprecated function and will be removed in a future version. Please adapt your code to use either `displot` (a figure-level function with similar flexibility) or `histplot` (an axes-level function for histograms).\n",
      "  warnings.warn(msg, FutureWarning)\n",
      "C:\\Users\\ankro\\anaconda3\\lib\\site-packages\\seaborn\\_decorators.py:36: FutureWarning: Pass the following variable as a keyword arg: x. From version 0.12, the only valid positional argument will be `data`, and passing other arguments without an explicit keyword will result in an error or misinterpretation.\n",
      "  warnings.warn(\n",
      "C:\\Users\\ankro\\anaconda3\\lib\\site-packages\\seaborn\\distributions.py:2619: FutureWarning: `distplot` is a deprecated function and will be removed in a future version. Please adapt your code to use either `displot` (a figure-level function with similar flexibility) or `histplot` (an axes-level function for histograms).\n",
      "  warnings.warn(msg, FutureWarning)\n",
      "C:\\Users\\ankro\\anaconda3\\lib\\site-packages\\seaborn\\_decorators.py:36: FutureWarning: Pass the following variable as a keyword arg: x. From version 0.12, the only valid positional argument will be `data`, and passing other arguments without an explicit keyword will result in an error or misinterpretation.\n",
      "  warnings.warn(\n",
      "C:\\Users\\ankro\\anaconda3\\lib\\site-packages\\seaborn\\distributions.py:2619: FutureWarning: `distplot` is a deprecated function and will be removed in a future version. Please adapt your code to use either `displot` (a figure-level function with similar flexibility) or `histplot` (an axes-level function for histograms).\n",
      "  warnings.warn(msg, FutureWarning)\n",
      "C:\\Users\\ankro\\anaconda3\\lib\\site-packages\\seaborn\\_decorators.py:36: FutureWarning: Pass the following variable as a keyword arg: x. From version 0.12, the only valid positional argument will be `data`, and passing other arguments without an explicit keyword will result in an error or misinterpretation.\n",
      "  warnings.warn(\n",
      "C:\\Users\\ankro\\anaconda3\\lib\\site-packages\\seaborn\\distributions.py:2619: FutureWarning: `distplot` is a deprecated function and will be removed in a future version. Please adapt your code to use either `displot` (a figure-level function with similar flexibility) or `histplot` (an axes-level function for histograms).\n",
      "  warnings.warn(msg, FutureWarning)\n",
      "C:\\Users\\ankro\\anaconda3\\lib\\site-packages\\seaborn\\_decorators.py:36: FutureWarning: Pass the following variable as a keyword arg: x. From version 0.12, the only valid positional argument will be `data`, and passing other arguments without an explicit keyword will result in an error or misinterpretation.\n",
      "  warnings.warn(\n",
      "C:\\Users\\ankro\\anaconda3\\lib\\site-packages\\seaborn\\distributions.py:2619: FutureWarning: `distplot` is a deprecated function and will be removed in a future version. Please adapt your code to use either `displot` (a figure-level function with similar flexibility) or `histplot` (an axes-level function for histograms).\n",
      "  warnings.warn(msg, FutureWarning)\n",
      "C:\\Users\\ankro\\anaconda3\\lib\\site-packages\\seaborn\\_decorators.py:36: FutureWarning: Pass the following variable as a keyword arg: x. From version 0.12, the only valid positional argument will be `data`, and passing other arguments without an explicit keyword will result in an error or misinterpretation.\n",
      "  warnings.warn(\n",
      "C:\\Users\\ankro\\AppData\\Local\\Temp/ipykernel_9452/755319734.py:2: RuntimeWarning: More than 20 figures have been opened. Figures created through the pyplot interface (`matplotlib.pyplot.figure`) are retained until explicitly closed and may consume too much memory. (To control this warning, see the rcParam `figure.max_open_warning`).\n",
      "  plt.figure(figsize=(14,4))\n",
      "C:\\Users\\ankro\\anaconda3\\lib\\site-packages\\seaborn\\distributions.py:2619: FutureWarning: `distplot` is a deprecated function and will be removed in a future version. Please adapt your code to use either `displot` (a figure-level function with similar flexibility) or `histplot` (an axes-level function for histograms).\n",
      "  warnings.warn(msg, FutureWarning)\n",
      "C:\\Users\\ankro\\anaconda3\\lib\\site-packages\\seaborn\\_decorators.py:36: FutureWarning: Pass the following variable as a keyword arg: x. From version 0.12, the only valid positional argument will be `data`, and passing other arguments without an explicit keyword will result in an error or misinterpretation.\n",
      "  warnings.warn(\n",
      "C:\\Users\\ankro\\anaconda3\\lib\\site-packages\\seaborn\\distributions.py:2619: FutureWarning: `distplot` is a deprecated function and will be removed in a future version. Please adapt your code to use either `displot` (a figure-level function with similar flexibility) or `histplot` (an axes-level function for histograms).\n",
      "  warnings.warn(msg, FutureWarning)\n",
      "C:\\Users\\ankro\\anaconda3\\lib\\site-packages\\seaborn\\_decorators.py:36: FutureWarning: Pass the following variable as a keyword arg: x. From version 0.12, the only valid positional argument will be `data`, and passing other arguments without an explicit keyword will result in an error or misinterpretation.\n",
      "  warnings.warn(\n",
      "C:\\Users\\ankro\\anaconda3\\lib\\site-packages\\seaborn\\distributions.py:2619: FutureWarning: `distplot` is a deprecated function and will be removed in a future version. Please adapt your code to use either `displot` (a figure-level function with similar flexibility) or `histplot` (an axes-level function for histograms).\n",
      "  warnings.warn(msg, FutureWarning)\n",
      "C:\\Users\\ankro\\anaconda3\\lib\\site-packages\\seaborn\\_decorators.py:36: FutureWarning: Pass the following variable as a keyword arg: x. From version 0.12, the only valid positional argument will be `data`, and passing other arguments without an explicit keyword will result in an error or misinterpretation.\n",
      "  warnings.warn(\n",
      "C:\\Users\\ankro\\anaconda3\\lib\\site-packages\\seaborn\\distributions.py:2619: FutureWarning: `distplot` is a deprecated function and will be removed in a future version. Please adapt your code to use either `displot` (a figure-level function with similar flexibility) or `histplot` (an axes-level function for histograms).\n",
      "  warnings.warn(msg, FutureWarning)\n",
      "C:\\Users\\ankro\\anaconda3\\lib\\site-packages\\seaborn\\_decorators.py:36: FutureWarning: Pass the following variable as a keyword arg: x. From version 0.12, the only valid positional argument will be `data`, and passing other arguments without an explicit keyword will result in an error or misinterpretation.\n",
      "  warnings.warn(\n",
      "C:\\Users\\ankro\\anaconda3\\lib\\site-packages\\seaborn\\distributions.py:2619: FutureWarning: `distplot` is a deprecated function and will be removed in a future version. Please adapt your code to use either `displot` (a figure-level function with similar flexibility) or `histplot` (an axes-level function for histograms).\n",
      "  warnings.warn(msg, FutureWarning)\n"
     ]
    },
    {
     "name": "stderr",
     "output_type": "stream",
     "text": [
      "C:\\Users\\ankro\\anaconda3\\lib\\site-packages\\seaborn\\_decorators.py:36: FutureWarning: Pass the following variable as a keyword arg: x. From version 0.12, the only valid positional argument will be `data`, and passing other arguments without an explicit keyword will result in an error or misinterpretation.\n",
      "  warnings.warn(\n",
      "C:\\Users\\ankro\\anaconda3\\lib\\site-packages\\seaborn\\distributions.py:2619: FutureWarning: `distplot` is a deprecated function and will be removed in a future version. Please adapt your code to use either `displot` (a figure-level function with similar flexibility) or `histplot` (an axes-level function for histograms).\n",
      "  warnings.warn(msg, FutureWarning)\n",
      "C:\\Users\\ankro\\anaconda3\\lib\\site-packages\\seaborn\\_decorators.py:36: FutureWarning: Pass the following variable as a keyword arg: x. From version 0.12, the only valid positional argument will be `data`, and passing other arguments without an explicit keyword will result in an error or misinterpretation.\n",
      "  warnings.warn(\n",
      "C:\\Users\\ankro\\anaconda3\\lib\\site-packages\\seaborn\\distributions.py:2619: FutureWarning: `distplot` is a deprecated function and will be removed in a future version. Please adapt your code to use either `displot` (a figure-level function with similar flexibility) or `histplot` (an axes-level function for histograms).\n",
      "  warnings.warn(msg, FutureWarning)\n",
      "C:\\Users\\ankro\\anaconda3\\lib\\site-packages\\seaborn\\_decorators.py:36: FutureWarning: Pass the following variable as a keyword arg: x. From version 0.12, the only valid positional argument will be `data`, and passing other arguments without an explicit keyword will result in an error or misinterpretation.\n",
      "  warnings.warn(\n",
      "C:\\Users\\ankro\\anaconda3\\lib\\site-packages\\seaborn\\distributions.py:2619: FutureWarning: `distplot` is a deprecated function and will be removed in a future version. Please adapt your code to use either `displot` (a figure-level function with similar flexibility) or `histplot` (an axes-level function for histograms).\n",
      "  warnings.warn(msg, FutureWarning)\n",
      "C:\\Users\\ankro\\anaconda3\\lib\\site-packages\\seaborn\\_decorators.py:36: FutureWarning: Pass the following variable as a keyword arg: x. From version 0.12, the only valid positional argument will be `data`, and passing other arguments without an explicit keyword will result in an error or misinterpretation.\n",
      "  warnings.warn(\n"
     ]
    },
    {
     "data": {
      "image/png": "[encoded data removed]",
      "text/plain": [
       "<Figure size 1008x288 with 3 Axes>"
      ]
     },
     "metadata": {
      "needs_background": "light"
     },
     "output_type": "display_data"
    },
    {
     "data": {
      "image/png": "[encoded data removed]",
      "text/plain": [
       "<Figure size 1008x288 with 3 Axes>"
      ]
     },
     "metadata": {
      "needs_background": "light"
     },
     "output_type": "display_data"
    },
    {
     "data": {
      "image/png": "[encoded data removed]",
      "text/plain": [
       "<Figure size 1008x288 with 3 Axes>"
      ]
     },
     "metadata": {
      "needs_background": "light"
     },
     "output_type": "display_data"
    },
    {
     "data": {
      "image/png": "[encoded data removed]",
      "text/plain": [
       "<Figure size 1008x288 with 3 Axes>"
      ]
     },
     "metadata": {
      "needs_background": "light"
     },
     "output_type": "display_data"
    },
    {
     "data": {
      "image/png": "[encoded data removed]",
      "text/plain": [
       "<Figure size 1008x288 with 3 Axes>"
      ]
     },
     "metadata": {
      "needs_background": "light"
     },
     "output_type": "display_data"
    },
    {
     "data": {
      "image/png": "[encoded data removed]",
      "text/plain": [
       "<Figure size 1008x288 with 3 Axes>"
      ]
     },
     "metadata": {
      "needs_background": "light"
     },
     "output_type": "display_data"
    },
    {
     "data": {
      "image/png": "[encoded data removed]",
      "text/plain": [
       "<Figure size 1008x288 with 3 Axes>"
      ]
     },
     "metadata": {
      "needs_background": "light"
     },
     "output_type": "display_data"
    },
    {
     "data": {
      "image/png": "[encoded data removed]",
      "text/plain": [
       "<Figure size 1008x288 with 3 Axes>"
      ]
     },
     "metadata": {
      "needs_background": "light"
     },
     "output_type": "display_data"
    },
    {
     "data": {
      "image/png": "[encoded data removed]",
      "text/plain": [
       "<Figure size 1008x288 with 3 Axes>"
      ]
     },
     "metadata": {
      "needs_background": "light"
     },
     "output_type": "display_data"
    },
    {
     "data": {
      "image/png": "[encoded data removed]",
      "text/plain": [
       "<Figure size 1008x288 with 3 Axes>"
      ]
     },
     "metadata": {
      "needs_background": "light"
     },
     "output_type": "display_data"
    },
    {
     "data": {
      "image/png": "[encoded data removed]",
      "text/plain": [
       "<Figure size 1008x288 with 3 Axes>"
      ]
     },
     "metadata": {
      "needs_background": "light"
     },
     "output_type": "display_data"
    },
    {
     "data": {
      "image/png": "[encoded data removed]",
      "text/plain": [
       "<Figure size 1008x288 with 3 Axes>"
      ]
     },
     "metadata": {
      "needs_background": "light"
     },
     "output_type": "display_data"
    },
    {
     "data": {
      "image/png": "[encoded data removed]",
      "text/plain": [
       "<Figure size 1008x288 with 3 Axes>"
      ]
     },
     "metadata": {
      "needs_background": "light"
     },
     "output_type": "display_data"
    },
    {
     "data": {
      "image/png": "[encoded data removed]",
      "text/plain": [
       "<Figure size 1008x288 with 3 Axes>"
      ]
     },
     "metadata": {
      "needs_background": "light"
     },
     "output_type": "display_data"
    },
    {
     "data": {
      "image/png": "[encoded data removed]",
      "text/plain": [
       "<Figure size 1008x288 with 3 Axes>"
      ]
     },
     "metadata": {
      "needs_background": "light"
     },
     "output_type": "display_data"
    },
    {
     "data": {
      "image/png": "[encoded data removed]",
      "text/plain": [
       "<Figure size 1008x288 with 3 Axes>"
      ]
     },
     "metadata": {
      "needs_background": "light"
     },
     "output_type": "display_data"
    },
    {
     "data": {
      "image/png": "[encoded data removed]",
      "text/plain": [
       "<Figure size 1008x288 with 3 Axes>"
      ]
     },
     "metadata": {
      "needs_background": "light"
     },
     "output_type": "display_data"
    },
    {
     "data": {
      "image/png": "[encoded data removed]",
      "text/plain": [
       "<Figure size 1008x288 with 3 Axes>"
      ]
     },
     "metadata": {
      "needs_background": "light"
     },
     "output_type": "display_data"
    },
    {
     "data": {
      "image/png": "[encoded data removed]",
      "text/plain": [
       "<Figure size 1008x288 with 3 Axes>"
      ]
     },
     "metadata": {
      "needs_background": "light"
     },
     "output_type": "display_data"
    },
    {
     "data": {
      "image/png": "[encoded data removed]",
      "text/plain": [
       "<Figure size 1008x288 with 3 Axes>"
      ]
     },
     "metadata": {
      "needs_background": "light"
     },
     "output_type": "display_data"
    },
    {
     "data": {
      "image/png": "[encoded data removed]",
      "text/plain": [
       "<Figure size 1008x288 with 3 Axes>"
      ]
     },
     "metadata": {
      "needs_background": "light"
     },
     "output_type": "display_data"
    },
    {
     "data": {
      "image/png": "[encoded data removed]",
      "text/plain": [
       "<Figure size 1008x288 with 3 Axes>"
      ]
     },
     "metadata": {
      "needs_background": "light"
     },
     "output_type": "display_data"
    },
    {
     "data": {
      "image/png": "[encoded data removed]",
      "text/plain": [
       "<Figure size 1008x288 with 3 Axes>"
      ]
     },
     "metadata": {
      "needs_background": "light"
     },
     "output_type": "display_data"
    },
    {
     "data": {
      "image/png": "[encoded data removed]",
      "text/plain": [
       "<Figure size 1008x288 with 3 Axes>"
      ]
     },
     "metadata": {
      "needs_background": "light"
     },
     "output_type": "display_data"
    },
    {
     "data": {
      "image/png": "[encoded data removed]",
      "text/plain": [
       "<Figure size 1008x288 with 3 Axes>"
      ]
     },
     "metadata": {
      "needs_background": "light"
     },
     "output_type": "display_data"
    },
    {
     "data": {
      "image/png": "[encoded data removed]",
      "text/plain": [
       "<Figure size 1008x288 with 3 Axes>"
      ]
     },
     "metadata": {
      "needs_background": "light"
     },
     "output_type": "display_data"
    },
    {
     "data": {
      "image/png": "[encoded data removed]",
      "text/plain": [
       "<Figure size 1008x288 with 3 Axes>"
      ]
     },
     "metadata": {
      "needs_background": "light"
     },
     "output_type": "display_data"
    },
    {
     "data": {
      "image/png": "[encoded data removed]",
      "text/plain": [
       "<Figure size 1008x288 with 3 Axes>"
      ]
     },
     "metadata": {
      "needs_background": "light"
     },
     "output_type": "display_data"
    }
   ],
   "source": [
    "for col in train_df.describe(exclude=['object','datetime']).columns:\n",
    "    plt.figure(figsize=(14,4))\n",
    "    plt.subplot(131)\n",
    "    sns.distplot(train_df[col])\n",
    "    plt.subplot(132)\n",
    "    sns.boxplot(train_df[col])\n",
    "    plt.subplot(133)\n",
    "    stats.probplot(train_df[col],dist='norm',plot=plt)"
   ]
  },
  {
   "cell_type": "markdown",
   "id": "457536b6",
   "metadata": {},
   "source": [
    "As we jnow there are outlier data in the dataset so we will use Robust scaler which work on quantile range and decrease the affect of outlier"
   ]
  },
  {
   "cell_type": "markdown",
   "id": "a15345be",
   "metadata": {},
   "source": [
    "# Final Dataset"
   ]
  },
  {
   "cell_type": "code",
   "execution_count": 56,
   "id": "f7fd7e52",
   "metadata": {},
   "outputs": [],
   "source": [
    "df_new= train_df.groupby(by=['game_id','nickname'],as_index= False).aggregate({'game_id':'mean',\n",
    "    'Bot_score':'mean','Bot_rating':'mean','player_score':'mean','player_rating':'mean',\n",
    "    'time_control_name':'mean','game_end_reason':'mean','lexicon':'mean','initial_time_seconds':'mean',\n",
    "    'increment_seconds':'mean','rating_mode':'mean','max_overtime_minutes':'mean','game_duration_seconds':'mean',\n",
    "    'turn_number':'count','rack':['min','mean'],'move':['mean','max'],'points':['mean','sum'],'score':['mean','sum'],\n",
    "    'turn1':['sum'],'turn2':['sum'],'turn3':['sum'],'turn4':['sum'],'turn5':['sum'],'turn6':['sum'],'turn7':['sum']\n",
    "})"
   ]
  },
  {
   "cell_type": "code",
   "execution_count": 57,
   "id": "220382c0",
   "metadata": {},
   "outputs": [],
   "source": [
    "df_new.columns = df_new.columns.droplevel(1) +\"_\" +df_new.columns.droplevel(0)"
   ]
  },
  {
   "cell_type": "code",
   "execution_count": 58,
   "id": "0964c3d2",
   "metadata": {
    "scrolled": true
   },
   "outputs": [],
   "source": [
    "df_new = pd.merge(df_new,df_new,how='inner',left_on =['game_id_mean'],right_on=['game_id_mean'])"
   ]
  },
  {
   "cell_type": "code",
   "execution_count": 59,
   "id": "fe488433",
   "metadata": {},
   "outputs": [],
   "source": [
    "df_new=df_new[(df_new['nickname__x'].str.contains('Bot')) & (df_new['nickname__x']!=df_new['nickname__y'])]"
   ]
  },
  {
   "cell_type": "code",
   "execution_count": 60,
   "id": "3b331221",
   "metadata": {},
   "outputs": [
    {
     "data": {
      "text/html": [
       "<div>\n",
       "<style scoped>\n",
       "    .dataframe tbody tr th:only-of-type {\n",
       "        vertical-align: middle;\n",
       "    }\n",
       "\n",
       "    .dataframe tbody tr th {\n",
       "        vertical-align: top;\n",
       "    }\n",
       "\n",
       "    .dataframe thead th {\n",
       "        text-align: right;\n",
       "    }\n",
       "</style>\n",
       "<table border=\"1\" class=\"dataframe\">\n",
       "  <thead>\n",
       "    <tr style=\"text-align: right;\">\n",
       "      <th></th>\n",
       "      <th>Bot_score_mean_x</th>\n",
       "      <th>Bot_rating_mean_x</th>\n",
       "      <th>player_score_mean_x</th>\n",
       "      <th>time_control_name_mean_x</th>\n",
       "      <th>game_end_reason_mean_x</th>\n",
       "      <th>lexicon_mean_x</th>\n",
       "      <th>initial_time_seconds_mean_x</th>\n",
       "      <th>increment_seconds_mean_x</th>\n",
       "      <th>rating_mode_mean_x</th>\n",
       "      <th>max_overtime_minutes_mean_x</th>\n",
       "      <th>game_duration_seconds_mean_x</th>\n",
       "      <th>turn_number_count_x</th>\n",
       "      <th>rack_min_x</th>\n",
       "      <th>rack_mean_x</th>\n",
       "      <th>move_mean_x</th>\n",
       "      <th>move_max_x</th>\n",
       "      <th>points_mean_x</th>\n",
       "      <th>points_sum_x</th>\n",
       "      <th>score_mean_x</th>\n",
       "      <th>score_sum_x</th>\n",
       "      <th>turn1_sum_x</th>\n",
       "      <th>turn2_sum_x</th>\n",
       "      <th>turn3_sum_x</th>\n",
       "      <th>turn4_sum_x</th>\n",
       "      <th>turn5_sum_x</th>\n",
       "      <th>turn6_sum_x</th>\n",
       "      <th>turn7_sum_x</th>\n",
       "      <th>turn_number_count_y</th>\n",
       "      <th>rack_min_y</th>\n",
       "      <th>rack_mean_y</th>\n",
       "      <th>move_mean_y</th>\n",
       "      <th>move_max_y</th>\n",
       "      <th>points_mean_y</th>\n",
       "      <th>points_sum_y</th>\n",
       "      <th>score_mean_y</th>\n",
       "      <th>score_sum_y</th>\n",
       "      <th>turn1_sum_y</th>\n",
       "      <th>turn2_sum_y</th>\n",
       "      <th>turn3_sum_y</th>\n",
       "      <th>turn4_sum_y</th>\n",
       "      <th>turn5_sum_y</th>\n",
       "      <th>turn6_sum_y</th>\n",
       "      <th>turn7_sum_y</th>\n",
       "    </tr>\n",
       "  </thead>\n",
       "  <tbody>\n",
       "    <tr>\n",
       "      <th>1</th>\n",
       "      <td>335.0</td>\n",
       "      <td>1637.0</td>\n",
       "      <td>429.0</td>\n",
       "      <td>3.0</td>\n",
       "      <td>3.0</td>\n",
       "      <td>2.0</td>\n",
       "      <td>1200.0</td>\n",
       "      <td>0.0</td>\n",
       "      <td>0.0</td>\n",
       "      <td>1.0</td>\n",
       "      <td>674.844274</td>\n",
       "      <td>13</td>\n",
       "      <td>4.0</td>\n",
       "      <td>6.769231</td>\n",
       "      <td>4.615385</td>\n",
       "      <td>8.0</td>\n",
       "      <td>25.769231</td>\n",
       "      <td>335.0</td>\n",
       "      <td>182.230769</td>\n",
       "      <td>2369.0</td>\n",
       "      <td>0.0</td>\n",
       "      <td>0.0</td>\n",
       "      <td>0.0</td>\n",
       "      <td>0.0</td>\n",
       "      <td>13.0</td>\n",
       "      <td>0.0</td>\n",
       "      <td>0.0</td>\n",
       "      <td>14</td>\n",
       "      <td>0.0</td>\n",
       "      <td>6.071429</td>\n",
       "      <td>3.857143</td>\n",
       "      <td>7.0</td>\n",
       "      <td>30.642857</td>\n",
       "      <td>429.0</td>\n",
       "      <td>256.500000</td>\n",
       "      <td>3591.0</td>\n",
       "      <td>1.0</td>\n",
       "      <td>0.0</td>\n",
       "      <td>0.0</td>\n",
       "      <td>0.0</td>\n",
       "      <td>13.0</td>\n",
       "      <td>0.0</td>\n",
       "      <td>0.0</td>\n",
       "    </tr>\n",
       "    <tr>\n",
       "      <th>5</th>\n",
       "      <td>318.0</td>\n",
       "      <td>2071.0</td>\n",
       "      <td>440.0</td>\n",
       "      <td>3.0</td>\n",
       "      <td>3.0</td>\n",
       "      <td>0.0</td>\n",
       "      <td>900.0</td>\n",
       "      <td>0.0</td>\n",
       "      <td>1.0</td>\n",
       "      <td>5.0</td>\n",
       "      <td>492.268262</td>\n",
       "      <td>13</td>\n",
       "      <td>7.0</td>\n",
       "      <td>7.000000</td>\n",
       "      <td>4.384615</td>\n",
       "      <td>8.0</td>\n",
       "      <td>24.461538</td>\n",
       "      <td>318.0</td>\n",
       "      <td>155.076923</td>\n",
       "      <td>2016.0</td>\n",
       "      <td>0.0</td>\n",
       "      <td>1.0</td>\n",
       "      <td>0.0</td>\n",
       "      <td>0.0</td>\n",
       "      <td>12.0</td>\n",
       "      <td>0.0</td>\n",
       "      <td>0.0</td>\n",
       "      <td>14</td>\n",
       "      <td>0.0</td>\n",
       "      <td>6.214286</td>\n",
       "      <td>4.357143</td>\n",
       "      <td>7.0</td>\n",
       "      <td>31.428571</td>\n",
       "      <td>440.0</td>\n",
       "      <td>231.714286</td>\n",
       "      <td>3244.0</td>\n",
       "      <td>1.0</td>\n",
       "      <td>0.0</td>\n",
       "      <td>0.0</td>\n",
       "      <td>0.0</td>\n",
       "      <td>13.0</td>\n",
       "      <td>0.0</td>\n",
       "      <td>0.0</td>\n",
       "    </tr>\n",
       "    <tr>\n",
       "      <th>9</th>\n",
       "      <td>478.0</td>\n",
       "      <td>1936.0</td>\n",
       "      <td>119.0</td>\n",
       "      <td>3.0</td>\n",
       "      <td>2.0</td>\n",
       "      <td>0.0</td>\n",
       "      <td>3600.0</td>\n",
       "      <td>0.0</td>\n",
       "      <td>0.0</td>\n",
       "      <td>1.0</td>\n",
       "      <td>350.861141</td>\n",
       "      <td>15</td>\n",
       "      <td>7.0</td>\n",
       "      <td>7.000000</td>\n",
       "      <td>5.066667</td>\n",
       "      <td>8.0</td>\n",
       "      <td>31.866667</td>\n",
       "      <td>478.0</td>\n",
       "      <td>228.666667</td>\n",
       "      <td>3430.0</td>\n",
       "      <td>0.0</td>\n",
       "      <td>0.0</td>\n",
       "      <td>0.0</td>\n",
       "      <td>0.0</td>\n",
       "      <td>15.0</td>\n",
       "      <td>0.0</td>\n",
       "      <td>0.0</td>\n",
       "      <td>14</td>\n",
       "      <td>7.0</td>\n",
       "      <td>7.000000</td>\n",
       "      <td>2.928571</td>\n",
       "      <td>7.0</td>\n",
       "      <td>8.500000</td>\n",
       "      <td>119.0</td>\n",
       "      <td>85.000000</td>\n",
       "      <td>1190.0</td>\n",
       "      <td>0.0</td>\n",
       "      <td>2.0</td>\n",
       "      <td>0.0</td>\n",
       "      <td>0.0</td>\n",
       "      <td>12.0</td>\n",
       "      <td>0.0</td>\n",
       "      <td>0.0</td>\n",
       "    </tr>\n",
       "  </tbody>\n",
       "</table>\n",
       "</div>"
      ],
      "text/plain": [
       "   Bot_score_mean_x  Bot_rating_mean_x  player_score_mean_x  \\\n",
       "1             335.0             1637.0                429.0   \n",
       "5             318.0             2071.0                440.0   \n",
       "9             478.0             1936.0                119.0   \n",
       "\n",
       "   time_control_name_mean_x  game_end_reason_mean_x  lexicon_mean_x  \\\n",
       "1                       3.0                     3.0             2.0   \n",
       "5                       3.0                     3.0             0.0   \n",
       "9                       3.0                     2.0             0.0   \n",
       "\n",
       "   initial_time_seconds_mean_x  increment_seconds_mean_x  rating_mode_mean_x  \\\n",
       "1                       1200.0                       0.0                 0.0   \n",
       "5                        900.0                       0.0                 1.0   \n",
       "9                       3600.0                       0.0                 0.0   \n",
       "\n",
       "   max_overtime_minutes_mean_x  game_duration_seconds_mean_x  \\\n",
       "1                          1.0                    674.844274   \n",
       "5                          5.0                    492.268262   \n",
       "9                          1.0                    350.861141   \n",
       "\n",
       "   turn_number_count_x  rack_min_x  rack_mean_x  move_mean_x  move_max_x  \\\n",
       "1                   13         4.0     6.769231     4.615385         8.0   \n",
       "5                   13         7.0     7.000000     4.384615         8.0   \n",
       "9                   15         7.0     7.000000     5.066667         8.0   \n",
       "\n",
       "   points_mean_x  points_sum_x  score_mean_x  score_sum_x  turn1_sum_x  \\\n",
       "1      25.769231         335.0    182.230769       2369.0          0.0   \n",
       "5      24.461538         318.0    155.076923       2016.0          0.0   \n",
       "9      31.866667         478.0    228.666667       3430.0          0.0   \n",
       "\n",
       "   turn2_sum_x  turn3_sum_x  turn4_sum_x  turn5_sum_x  turn6_sum_x  \\\n",
       "1          0.0          0.0          0.0         13.0          0.0   \n",
       "5          1.0          0.0          0.0         12.0          0.0   \n",
       "9          0.0          0.0          0.0         15.0          0.0   \n",
       "\n",
       "   turn7_sum_x  turn_number_count_y  rack_min_y  rack_mean_y  move_mean_y  \\\n",
       "1          0.0                   14         0.0     6.071429     3.857143   \n",
       "5          0.0                   14         0.0     6.214286     4.357143   \n",
       "9          0.0                   14         7.0     7.000000     2.928571   \n",
       "\n",
       "   move_max_y  points_mean_y  points_sum_y  score_mean_y  score_sum_y  \\\n",
       "1         7.0      30.642857         429.0    256.500000       3591.0   \n",
       "5         7.0      31.428571         440.0    231.714286       3244.0   \n",
       "9         7.0       8.500000         119.0     85.000000       1190.0   \n",
       "\n",
       "   turn1_sum_y  turn2_sum_y  turn3_sum_y  turn4_sum_y  turn5_sum_y  \\\n",
       "1          1.0          0.0          0.0          0.0         13.0   \n",
       "5          1.0          0.0          0.0          0.0         13.0   \n",
       "9          0.0          2.0          0.0          0.0         12.0   \n",
       "\n",
       "   turn6_sum_y  turn7_sum_y  \n",
       "1          0.0          0.0  \n",
       "5          0.0          0.0  \n",
       "9          0.0          0.0  "
      ]
     },
     "execution_count": 60,
     "metadata": {},
     "output_type": "execute_result"
    }
   ],
   "source": [
    "x_train=df_new.drop(['nickname__x','player_rating_mean_x','game_id_mean','nickname__y','Bot_score_mean_y','Bot_rating_mean_y','player_score_mean_y',\n",
    "            'player_rating_mean_y','time_control_name_mean_y','game_end_reason_mean_y','lexicon_mean_y',\n",
    "            'initial_time_seconds_mean_y','increment_seconds_mean_y','rating_mode_mean_y','max_overtime_minutes_mean_y',\n",
    "            'game_duration_seconds_mean_y'],axis=1)\n",
    "x_train.head(3)"
   ]
  },
  {
   "cell_type": "code",
   "execution_count": 61,
   "id": "f9910830",
   "metadata": {
    "scrolled": true
   },
   "outputs": [
    {
     "data": {
      "text/plain": [
       "1    1500.0\n",
       "5    1811.0\n",
       "9    1473.0\n",
       "Name: player_rating_mean_x, dtype: float64"
      ]
     },
     "execution_count": 61,
     "metadata": {},
     "output_type": "execute_result"
    }
   ],
   "source": [
    "y_train=df_new['player_rating_mean_x']\n",
    "y_train.head(3)"
   ]
  },
  {
   "cell_type": "code",
   "execution_count": 62,
   "id": "4e392245",
   "metadata": {},
   "outputs": [],
   "source": [
    "df_new= test_df.groupby(by=['game_id','nickname'],as_index= False).aggregate({'game_id':'mean',\n",
    "    'Bot_score':'mean','Bot_rating':'mean','player_score':'mean','player_rating':'mean',\n",
    "    'time_control_name':'mean','game_end_reason':'mean','lexicon':'mean','initial_time_seconds':'mean',\n",
    "    'increment_seconds':'mean','rating_mode':'mean','max_overtime_minutes':'mean','game_duration_seconds':'mean',\n",
    "    'turn_number':'count','rack':['min','mean'],'move':['mean','max'],'points':['mean','sum'],'score':['mean','sum'],\n",
    "    'turn1':['sum'],'turn2':['sum'],'turn3':['sum'],'turn4':['sum'],'turn5':['sum'],'turn6':['sum'],'turn7':['sum']\n",
    "})"
   ]
  },
  {
   "cell_type": "code",
   "execution_count": 63,
   "id": "1dec31d3",
   "metadata": {},
   "outputs": [],
   "source": [
    "df_new.columns = df_new.columns.droplevel(1) +\"_\" + df_new.columns.droplevel(0)"
   ]
  },
  {
   "cell_type": "code",
   "execution_count": 64,
   "id": "16051577",
   "metadata": {},
   "outputs": [],
   "source": [
    "df_new = pd.merge(df_new,df_new,how='inner',left_on =['game_id_mean'],right_on=['game_id_mean'])"
   ]
  },
  {
   "cell_type": "code",
   "execution_count": 65,
   "id": "3ea0f8bb",
   "metadata": {},
   "outputs": [],
   "source": [
    "df_new=df_new[(df_new['nickname__x'].str.contains('Bot')) & (df_new['nickname__x']!=df_new['nickname__y'])]"
   ]
  },
  {
   "cell_type": "code",
   "execution_count": 66,
   "id": "c6efeb38",
   "metadata": {},
   "outputs": [],
   "source": [
    "x_test=df_new.drop(['nickname__x','player_rating_mean_x','game_id_mean','nickname__y','Bot_score_mean_y','Bot_rating_mean_y','player_score_mean_y',\n",
    "            'player_rating_mean_y','time_control_name_mean_y','game_end_reason_mean_y','lexicon_mean_y',\n",
    "            'initial_time_seconds_mean_y','increment_seconds_mean_y','rating_mode_mean_y','max_overtime_minutes_mean_y',\n",
    "            'game_duration_seconds_mean_y'],axis=1)"
   ]
  },
  {
   "cell_type": "code",
   "execution_count": 67,
   "id": "140be10b",
   "metadata": {},
   "outputs": [
    {
     "data": {
      "text/html": [
       "<div>\n",
       "<style scoped>\n",
       "    .dataframe tbody tr th:only-of-type {\n",
       "        vertical-align: middle;\n",
       "    }\n",
       "\n",
       "    .dataframe tbody tr th {\n",
       "        vertical-align: top;\n",
       "    }\n",
       "\n",
       "    .dataframe thead th {\n",
       "        text-align: right;\n",
       "    }\n",
       "</style>\n",
       "<table border=\"1\" class=\"dataframe\">\n",
       "  <thead>\n",
       "    <tr style=\"text-align: right;\">\n",
       "      <th></th>\n",
       "      <th>Bot_score_mean_x</th>\n",
       "      <th>Bot_rating_mean_x</th>\n",
       "      <th>player_score_mean_x</th>\n",
       "      <th>time_control_name_mean_x</th>\n",
       "      <th>game_end_reason_mean_x</th>\n",
       "      <th>lexicon_mean_x</th>\n",
       "      <th>initial_time_seconds_mean_x</th>\n",
       "      <th>increment_seconds_mean_x</th>\n",
       "      <th>rating_mode_mean_x</th>\n",
       "      <th>max_overtime_minutes_mean_x</th>\n",
       "      <th>game_duration_seconds_mean_x</th>\n",
       "      <th>turn_number_count_x</th>\n",
       "      <th>rack_min_x</th>\n",
       "      <th>rack_mean_x</th>\n",
       "      <th>move_mean_x</th>\n",
       "      <th>move_max_x</th>\n",
       "      <th>points_mean_x</th>\n",
       "      <th>points_sum_x</th>\n",
       "      <th>score_mean_x</th>\n",
       "      <th>score_sum_x</th>\n",
       "      <th>turn1_sum_x</th>\n",
       "      <th>turn2_sum_x</th>\n",
       "      <th>turn3_sum_x</th>\n",
       "      <th>turn4_sum_x</th>\n",
       "      <th>turn5_sum_x</th>\n",
       "      <th>turn6_sum_x</th>\n",
       "      <th>turn7_sum_x</th>\n",
       "      <th>turn_number_count_y</th>\n",
       "      <th>rack_min_y</th>\n",
       "      <th>rack_mean_y</th>\n",
       "      <th>move_mean_y</th>\n",
       "      <th>move_max_y</th>\n",
       "      <th>points_mean_y</th>\n",
       "      <th>points_sum_y</th>\n",
       "      <th>score_mean_y</th>\n",
       "      <th>score_sum_y</th>\n",
       "      <th>turn1_sum_y</th>\n",
       "      <th>turn2_sum_y</th>\n",
       "      <th>turn3_sum_y</th>\n",
       "      <th>turn4_sum_y</th>\n",
       "      <th>turn5_sum_y</th>\n",
       "      <th>turn6_sum_y</th>\n",
       "      <th>turn7_sum_y</th>\n",
       "    </tr>\n",
       "  </thead>\n",
       "  <tbody>\n",
       "    <tr>\n",
       "      <th>1</th>\n",
       "      <td>401.0</td>\n",
       "      <td>2000.0</td>\n",
       "      <td>488.0</td>\n",
       "      <td>3.0</td>\n",
       "      <td>3.0</td>\n",
       "      <td>0.0</td>\n",
       "      <td>3600.0</td>\n",
       "      <td>0.0</td>\n",
       "      <td>1.0</td>\n",
       "      <td>1.0</td>\n",
       "      <td>364.214418</td>\n",
       "      <td>12</td>\n",
       "      <td>6.0</td>\n",
       "      <td>6.916667</td>\n",
       "      <td>5.250000</td>\n",
       "      <td>8.0</td>\n",
       "      <td>33.416667</td>\n",
       "      <td>401</td>\n",
       "      <td>229.250000</td>\n",
       "      <td>2751</td>\n",
       "      <td>0.0</td>\n",
       "      <td>0.0</td>\n",
       "      <td>0.0</td>\n",
       "      <td>0.0</td>\n",
       "      <td>12.0</td>\n",
       "      <td>0.0</td>\n",
       "      <td>0.0</td>\n",
       "      <td>14</td>\n",
       "      <td>0.0</td>\n",
       "      <td>6.500000</td>\n",
       "      <td>4.357143</td>\n",
       "      <td>8.0</td>\n",
       "      <td>34.857143</td>\n",
       "      <td>488</td>\n",
       "      <td>282.285714</td>\n",
       "      <td>3952</td>\n",
       "      <td>1.0</td>\n",
       "      <td>1.0</td>\n",
       "      <td>0.0</td>\n",
       "      <td>1.0</td>\n",
       "      <td>11.0</td>\n",
       "      <td>0.0</td>\n",
       "      <td>0.0</td>\n",
       "    </tr>\n",
       "    <tr>\n",
       "      <th>6</th>\n",
       "      <td>377.0</td>\n",
       "      <td>2082.0</td>\n",
       "      <td>379.0</td>\n",
       "      <td>3.0</td>\n",
       "      <td>3.0</td>\n",
       "      <td>0.0</td>\n",
       "      <td>1260.0</td>\n",
       "      <td>0.0</td>\n",
       "      <td>1.0</td>\n",
       "      <td>1.0</td>\n",
       "      <td>385.599607</td>\n",
       "      <td>14</td>\n",
       "      <td>0.0</td>\n",
       "      <td>6.500000</td>\n",
       "      <td>4.571429</td>\n",
       "      <td>9.0</td>\n",
       "      <td>26.928571</td>\n",
       "      <td>377</td>\n",
       "      <td>186.500000</td>\n",
       "      <td>2611</td>\n",
       "      <td>1.0</td>\n",
       "      <td>0.0</td>\n",
       "      <td>0.0</td>\n",
       "      <td>0.0</td>\n",
       "      <td>13.0</td>\n",
       "      <td>0.0</td>\n",
       "      <td>0.0</td>\n",
       "      <td>13</td>\n",
       "      <td>7.0</td>\n",
       "      <td>7.000000</td>\n",
       "      <td>3.846154</td>\n",
       "      <td>7.0</td>\n",
       "      <td>29.153846</td>\n",
       "      <td>379</td>\n",
       "      <td>185.230769</td>\n",
       "      <td>2408</td>\n",
       "      <td>0.0</td>\n",
       "      <td>1.0</td>\n",
       "      <td>0.0</td>\n",
       "      <td>0.0</td>\n",
       "      <td>12.0</td>\n",
       "      <td>0.0</td>\n",
       "      <td>0.0</td>\n",
       "    </tr>\n",
       "    <tr>\n",
       "      <th>9</th>\n",
       "      <td>334.0</td>\n",
       "      <td>1829.0</td>\n",
       "      <td>462.0</td>\n",
       "      <td>3.0</td>\n",
       "      <td>3.0</td>\n",
       "      <td>2.0</td>\n",
       "      <td>1200.0</td>\n",
       "      <td>0.0</td>\n",
       "      <td>0.0</td>\n",
       "      <td>1.0</td>\n",
       "      <td>501.739156</td>\n",
       "      <td>15</td>\n",
       "      <td>0.0</td>\n",
       "      <td>6.333333</td>\n",
       "      <td>3.933333</td>\n",
       "      <td>7.0</td>\n",
       "      <td>22.266667</td>\n",
       "      <td>334</td>\n",
       "      <td>186.066667</td>\n",
       "      <td>2791</td>\n",
       "      <td>1.0</td>\n",
       "      <td>1.0</td>\n",
       "      <td>0.0</td>\n",
       "      <td>0.0</td>\n",
       "      <td>13.0</td>\n",
       "      <td>0.0</td>\n",
       "      <td>0.0</td>\n",
       "      <td>14</td>\n",
       "      <td>5.0</td>\n",
       "      <td>6.857143</td>\n",
       "      <td>4.214286</td>\n",
       "      <td>8.0</td>\n",
       "      <td>33.000000</td>\n",
       "      <td>462</td>\n",
       "      <td>247.571429</td>\n",
       "      <td>3466</td>\n",
       "      <td>0.0</td>\n",
       "      <td>1.0</td>\n",
       "      <td>0.0</td>\n",
       "      <td>0.0</td>\n",
       "      <td>13.0</td>\n",
       "      <td>0.0</td>\n",
       "      <td>0.0</td>\n",
       "    </tr>\n",
       "    <tr>\n",
       "      <th>14</th>\n",
       "      <td>403.0</td>\n",
       "      <td>2136.0</td>\n",
       "      <td>359.0</td>\n",
       "      <td>3.0</td>\n",
       "      <td>3.0</td>\n",
       "      <td>0.0</td>\n",
       "      <td>900.0</td>\n",
       "      <td>0.0</td>\n",
       "      <td>1.0</td>\n",
       "      <td>1.0</td>\n",
       "      <td>293.253051</td>\n",
       "      <td>14</td>\n",
       "      <td>6.0</td>\n",
       "      <td>6.928571</td>\n",
       "      <td>4.214286</td>\n",
       "      <td>7.0</td>\n",
       "      <td>28.785714</td>\n",
       "      <td>403</td>\n",
       "      <td>227.785714</td>\n",
       "      <td>3189</td>\n",
       "      <td>0.0</td>\n",
       "      <td>0.0</td>\n",
       "      <td>0.0</td>\n",
       "      <td>0.0</td>\n",
       "      <td>14.0</td>\n",
       "      <td>0.0</td>\n",
       "      <td>0.0</td>\n",
       "      <td>15</td>\n",
       "      <td>0.0</td>\n",
       "      <td>6.266667</td>\n",
       "      <td>4.066667</td>\n",
       "      <td>8.0</td>\n",
       "      <td>23.933333</td>\n",
       "      <td>359</td>\n",
       "      <td>244.800000</td>\n",
       "      <td>3672</td>\n",
       "      <td>1.0</td>\n",
       "      <td>0.0</td>\n",
       "      <td>0.0</td>\n",
       "      <td>0.0</td>\n",
       "      <td>14.0</td>\n",
       "      <td>0.0</td>\n",
       "      <td>0.0</td>\n",
       "    </tr>\n",
       "    <tr>\n",
       "      <th>17</th>\n",
       "      <td>453.0</td>\n",
       "      <td>2258.0</td>\n",
       "      <td>456.0</td>\n",
       "      <td>3.0</td>\n",
       "      <td>3.0</td>\n",
       "      <td>0.0</td>\n",
       "      <td>1200.0</td>\n",
       "      <td>0.0</td>\n",
       "      <td>1.0</td>\n",
       "      <td>1.0</td>\n",
       "      <td>203.963230</td>\n",
       "      <td>12</td>\n",
       "      <td>0.0</td>\n",
       "      <td>6.333333</td>\n",
       "      <td>5.250000</td>\n",
       "      <td>8.0</td>\n",
       "      <td>37.750000</td>\n",
       "      <td>453</td>\n",
       "      <td>280.250000</td>\n",
       "      <td>3363</td>\n",
       "      <td>1.0</td>\n",
       "      <td>0.0</td>\n",
       "      <td>0.0</td>\n",
       "      <td>0.0</td>\n",
       "      <td>11.0</td>\n",
       "      <td>0.0</td>\n",
       "      <td>0.0</td>\n",
       "      <td>11</td>\n",
       "      <td>7.0</td>\n",
       "      <td>7.000000</td>\n",
       "      <td>4.454545</td>\n",
       "      <td>8.0</td>\n",
       "      <td>41.454545</td>\n",
       "      <td>456</td>\n",
       "      <td>269.272727</td>\n",
       "      <td>2962</td>\n",
       "      <td>0.0</td>\n",
       "      <td>0.0</td>\n",
       "      <td>0.0</td>\n",
       "      <td>0.0</td>\n",
       "      <td>11.0</td>\n",
       "      <td>0.0</td>\n",
       "      <td>0.0</td>\n",
       "    </tr>\n",
       "  </tbody>\n",
       "</table>\n",
       "</div>"
      ],
      "text/plain": [
       "    Bot_score_mean_x  Bot_rating_mean_x  player_score_mean_x  \\\n",
       "1              401.0             2000.0                488.0   \n",
       "6              377.0             2082.0                379.0   \n",
       "9              334.0             1829.0                462.0   \n",
       "14             403.0             2136.0                359.0   \n",
       "17             453.0             2258.0                456.0   \n",
       "\n",
       "    time_control_name_mean_x  game_end_reason_mean_x  lexicon_mean_x  \\\n",
       "1                        3.0                     3.0             0.0   \n",
       "6                        3.0                     3.0             0.0   \n",
       "9                        3.0                     3.0             2.0   \n",
       "14                       3.0                     3.0             0.0   \n",
       "17                       3.0                     3.0             0.0   \n",
       "\n",
       "    initial_time_seconds_mean_x  increment_seconds_mean_x  rating_mode_mean_x  \\\n",
       "1                        3600.0                       0.0                 1.0   \n",
       "6                        1260.0                       0.0                 1.0   \n",
       "9                        1200.0                       0.0                 0.0   \n",
       "14                        900.0                       0.0                 1.0   \n",
       "17                       1200.0                       0.0                 1.0   \n",
       "\n",
       "    max_overtime_minutes_mean_x  game_duration_seconds_mean_x  \\\n",
       "1                           1.0                    364.214418   \n",
       "6                           1.0                    385.599607   \n",
       "9                           1.0                    501.739156   \n",
       "14                          1.0                    293.253051   \n",
       "17                          1.0                    203.963230   \n",
       "\n",
       "    turn_number_count_x  rack_min_x  rack_mean_x  move_mean_x  move_max_x  \\\n",
       "1                    12         6.0     6.916667     5.250000         8.0   \n",
       "6                    14         0.0     6.500000     4.571429         9.0   \n",
       "9                    15         0.0     6.333333     3.933333         7.0   \n",
       "14                   14         6.0     6.928571     4.214286         7.0   \n",
       "17                   12         0.0     6.333333     5.250000         8.0   \n",
       "\n",
       "    points_mean_x  points_sum_x  score_mean_x  score_sum_x  turn1_sum_x  \\\n",
       "1       33.416667           401    229.250000         2751          0.0   \n",
       "6       26.928571           377    186.500000         2611          1.0   \n",
       "9       22.266667           334    186.066667         2791          1.0   \n",
       "14      28.785714           403    227.785714         3189          0.0   \n",
       "17      37.750000           453    280.250000         3363          1.0   \n",
       "\n",
       "    turn2_sum_x  turn3_sum_x  turn4_sum_x  turn5_sum_x  turn6_sum_x  \\\n",
       "1           0.0          0.0          0.0         12.0          0.0   \n",
       "6           0.0          0.0          0.0         13.0          0.0   \n",
       "9           1.0          0.0          0.0         13.0          0.0   \n",
       "14          0.0          0.0          0.0         14.0          0.0   \n",
       "17          0.0          0.0          0.0         11.0          0.0   \n",
       "\n",
       "    turn7_sum_x  turn_number_count_y  rack_min_y  rack_mean_y  move_mean_y  \\\n",
       "1           0.0                   14         0.0     6.500000     4.357143   \n",
       "6           0.0                   13         7.0     7.000000     3.846154   \n",
       "9           0.0                   14         5.0     6.857143     4.214286   \n",
       "14          0.0                   15         0.0     6.266667     4.066667   \n",
       "17          0.0                   11         7.0     7.000000     4.454545   \n",
       "\n",
       "    move_max_y  points_mean_y  points_sum_y  score_mean_y  score_sum_y  \\\n",
       "1          8.0      34.857143           488    282.285714         3952   \n",
       "6          7.0      29.153846           379    185.230769         2408   \n",
       "9          8.0      33.000000           462    247.571429         3466   \n",
       "14         8.0      23.933333           359    244.800000         3672   \n",
       "17         8.0      41.454545           456    269.272727         2962   \n",
       "\n",
       "    turn1_sum_y  turn2_sum_y  turn3_sum_y  turn4_sum_y  turn5_sum_y  \\\n",
       "1           1.0          1.0          0.0          1.0         11.0   \n",
       "6           0.0          1.0          0.0          0.0         12.0   \n",
       "9           0.0          1.0          0.0          0.0         13.0   \n",
       "14          1.0          0.0          0.0          0.0         14.0   \n",
       "17          0.0          0.0          0.0          0.0         11.0   \n",
       "\n",
       "    turn6_sum_y  turn7_sum_y  \n",
       "1           0.0          0.0  \n",
       "6           0.0          0.0  \n",
       "9           0.0          0.0  \n",
       "14          0.0          0.0  \n",
       "17          0.0          0.0  "
      ]
     },
     "execution_count": 67,
     "metadata": {},
     "output_type": "execute_result"
    }
   ],
   "source": [
    "x_test.head(5)"
   ]
  },
  {
   "cell_type": "code",
   "execution_count": 68,
   "id": "84169110",
   "metadata": {},
   "outputs": [],
   "source": [
    "df_new['game_id']=df_new['game_id_mean'].astype(int)"
   ]
  },
  {
   "cell_type": "markdown",
   "id": "e2a36c3b",
   "metadata": {},
   "source": [
    "Finding the corelation of the data in the dataframe"
   ]
  },
  {
   "cell_type": "code",
   "execution_count": 89,
   "id": "1dbcfbb6",
   "metadata": {},
   "outputs": [],
   "source": [
    "from sklearn.model_selection import train_test_split\n",
    "x_train1,x_test1,y_train1,y_test1=train_test_split(x_train,y_train,test_size=0.15)"
   ]
  },
  {
   "cell_type": "markdown",
   "id": "ea2c4cd9",
   "metadata": {},
   "source": [
    "# Scaling the data"
   ]
  },
  {
   "cell_type": "code",
   "execution_count": 70,
   "id": "0233e5ef",
   "metadata": {},
   "outputs": [],
   "source": [
    "from sklearn.preprocessing import RobustScaler  #StandardScaler\n",
    "scale= RobustScaler()\n",
    "x_train = pd.DataFrame(scale.fit_transform(x_train), columns=list(x_train.columns))"
   ]
  },
  {
   "cell_type": "code",
   "execution_count": 71,
   "id": "defd21be",
   "metadata": {},
   "outputs": [
    {
     "data": {
      "text/plain": [
       "(50419, 43)"
      ]
     },
     "execution_count": 71,
     "metadata": {},
     "output_type": "execute_result"
    }
   ],
   "source": [
    "x_train.shape"
   ]
  },
  {
   "cell_type": "code",
   "execution_count": 72,
   "id": "64b03874",
   "metadata": {},
   "outputs": [],
   "source": [
    "x_test = pd.DataFrame(scale.fit_transform(x_test), columns=list(x_test.columns))"
   ]
  },
  {
   "cell_type": "code",
   "execution_count": 73,
   "id": "a728d10d",
   "metadata": {},
   "outputs": [
    {
     "data": {
      "text/plain": [
       "(22363, 43)"
      ]
     },
     "execution_count": 73,
     "metadata": {},
     "output_type": "execute_result"
    }
   ],
   "source": [
    "x_test.shape"
   ]
  },
  {
   "cell_type": "markdown",
   "id": "e9275ac4",
   "metadata": {},
   "source": [
    "# Model Validating"
   ]
  },
  {
   "cell_type": "code",
   "execution_count": 74,
   "id": "8ee1b021",
   "metadata": {},
   "outputs": [],
   "source": [
    "from sklearn.linear_model import LinearRegression\n",
    "lr= LinearRegression()\n",
    "from sklearn.linear_model import Lasso\n",
    "ls= Lasso()\n",
    "from sklearn.linear_model import Ridge\n",
    "re= Ridge()\n",
    "from sklearn.tree import DecisionTreeRegressor\n",
    "dtr= DecisionTreeRegressor()\n",
    "from sklearn.linear_model import ElasticNet\n",
    "enr= ElasticNet()\n",
    "from sklearn.neighbors import KNeighborsRegressor\n",
    "knr = KNeighborsRegressor()\n",
    "from sklearn.svm import SVR\n",
    "svr=SVR() \n",
    "from sklearn.ensemble import RandomForestRegressor\n",
    "rfg=RandomForestRegressor()\n",
    "from sklearn.ensemble import GradientBoostingRegressor\n",
    "gbr= GradientBoostingRegressor()"
   ]
  },
  {
   "cell_type": "code",
   "execution_count": 75,
   "id": "e4a6f84f",
   "metadata": {},
   "outputs": [],
   "source": [
    "from sklearn.model_selection import cross_val_score"
   ]
  },
  {
   "cell_type": "code",
   "execution_count": 76,
   "id": "af3aa547",
   "metadata": {},
   "outputs": [
    {
     "name": "stdout",
     "output_type": "stream",
     "text": [
      "lnr_rgr 0.63\n",
      "lss_rgr 0.63\n",
      "rde_rgr 0.63\n",
      "dtr_rgr 0.55\n",
      "els_rgr 0.54\n",
      "rfg_rgr 0.78\n",
      "knr_rgr 0.65\n",
      "svr_rgr 0.6\n",
      "gbr_rgr 0.72\n"
     ]
    }
   ],
   "source": [
    "estimator =[('lnr_rgr',lr),('lss_rgr',ls),('rde_rgr',re),('dtr_rgr',dtr),('els_rgr',enr),('rfg_rgr',rfg),('knr_rgr',knr),('svr_rgr',svr),('gbr_rgr',gbr)]\n",
    "for est in estimator:\n",
    "    score = cross_val_score(est[1],x_train,y_train,scoring='r2',cv=5,n_jobs=-1)\n",
    "    print(est[0],np.round(np.mean(score),2))"
   ]
  },
  {
   "cell_type": "markdown",
   "id": "5c15ebdf",
   "metadata": {},
   "source": [
    "# Feature selection"
   ]
  },
  {
   "cell_type": "code",
   "execution_count": 77,
   "id": "abcfecb4",
   "metadata": {},
   "outputs": [],
   "source": [
    "from mlxtend.feature_selection import SequentialFeatureSelector"
   ]
  },
  {
   "cell_type": "code",
   "execution_count": 78,
   "id": "4c466738",
   "metadata": {
    "scrolled": true
   },
   "outputs": [
    {
     "name": "stderr",
     "output_type": "stream",
     "text": [
      "[Parallel(n_jobs=-1)]: Using backend LokyBackend with 12 concurrent workers.\n",
      "[Parallel(n_jobs=-1)]: Done  17 tasks      | elapsed:    0.3s\n",
      "[Parallel(n_jobs=-1)]: Done  43 out of  43 | elapsed:    2.5s finished\n",
      "\n",
      "[2022-12-15 16:06:48] Features: 1/10 -- score: 0.45425836504166545[Parallel(n_jobs=-1)]: Using backend LokyBackend with 12 concurrent workers.\n",
      "[Parallel(n_jobs=-1)]: Done  17 tasks      | elapsed:    0.1s\n",
      "[Parallel(n_jobs=-1)]: Done  42 out of  42 | elapsed:    0.3s finished\n",
      "\n",
      "[2022-12-15 16:06:48] Features: 2/10 -- score: 0.534552632623742[Parallel(n_jobs=-1)]: Using backend LokyBackend with 12 concurrent workers.\n",
      "[Parallel(n_jobs=-1)]: Done  17 tasks      | elapsed:    0.1s\n",
      "[Parallel(n_jobs=-1)]: Done  39 out of  41 | elapsed:    0.3s remaining:    0.0s\n",
      "[Parallel(n_jobs=-1)]: Done  41 out of  41 | elapsed:    0.3s finished\n",
      "\n",
      "[2022-12-15 16:06:49] Features: 3/10 -- score: 0.573998429197868[Parallel(n_jobs=-1)]: Using backend LokyBackend with 12 concurrent workers.\n",
      "[Parallel(n_jobs=-1)]: Done  17 tasks      | elapsed:    0.2s\n",
      "[Parallel(n_jobs=-1)]: Done  38 out of  40 | elapsed:    0.4s remaining:    0.0s\n",
      "[Parallel(n_jobs=-1)]: Done  40 out of  40 | elapsed:    0.4s finished\n",
      "\n",
      "[2022-12-15 16:06:49] Features: 4/10 -- score: 0.598315381904675[Parallel(n_jobs=-1)]: Using backend LokyBackend with 12 concurrent workers.\n",
      "[Parallel(n_jobs=-1)]: Done  36 out of  39 | elapsed:    0.5s remaining:    0.0s\n",
      "[Parallel(n_jobs=-1)]: Done  39 out of  39 | elapsed:    0.5s finished\n",
      "\n",
      "[2022-12-15 16:06:50] Features: 5/10 -- score: 0.613434782827341[Parallel(n_jobs=-1)]: Using backend LokyBackend with 12 concurrent workers.\n",
      "[Parallel(n_jobs=-1)]: Done  35 out of  38 | elapsed:    0.4s remaining:    0.0s\n",
      "[Parallel(n_jobs=-1)]: Done  38 out of  38 | elapsed:    0.5s finished\n",
      "\n",
      "[2022-12-15 16:06:51] Features: 6/10 -- score: 0.6242958359349087[Parallel(n_jobs=-1)]: Using backend LokyBackend with 12 concurrent workers.\n",
      "[Parallel(n_jobs=-1)]: Done  33 out of  37 | elapsed:    0.5s remaining:    0.0s\n",
      "[Parallel(n_jobs=-1)]: Done  37 out of  37 | elapsed:    0.5s finished\n",
      "\n",
      "[2022-12-15 16:06:51] Features: 7/10 -- score: 0.626198910031445[Parallel(n_jobs=-1)]: Using backend LokyBackend with 12 concurrent workers.\n",
      "[Parallel(n_jobs=-1)]: Done  32 out of  36 | elapsed:    2.1s remaining:    0.2s\n",
      "[Parallel(n_jobs=-1)]: Done  36 out of  36 | elapsed:    2.1s finished\n",
      "\n",
      "[2022-12-15 16:06:54] Features: 8/10 -- score: 0.6277228468266556[Parallel(n_jobs=-1)]: Using backend LokyBackend with 12 concurrent workers.\n",
      "[Parallel(n_jobs=-1)]: Done  30 out of  35 | elapsed:    0.5s remaining:    0.0s\n",
      "[Parallel(n_jobs=-1)]: Done  35 out of  35 | elapsed:    0.6s finished\n",
      "\n",
      "[2022-12-15 16:06:54] Features: 9/10 -- score: 0.6288525846043583[Parallel(n_jobs=-1)]: Using backend LokyBackend with 12 concurrent workers.\n",
      "[Parallel(n_jobs=-1)]: Done  29 out of  34 | elapsed:    0.5s remaining:    0.0s\n",
      "[Parallel(n_jobs=-1)]: Done  34 out of  34 | elapsed:    0.6s finished\n",
      "\n",
      "[2022-12-15 16:06:55] Features: 10/10 -- score: 0.629467553413691"
     ]
    }
   ],
   "source": [
    "forward_feature_selection = SequentialFeatureSelector(lr,k_features=10,forward=True,scoring='r2',cv=3,verbose=2,n_jobs=-1)\n",
    "feature=forward_feature_selection.fit(x_train,y_train)"
   ]
  },
  {
   "cell_type": "code",
   "execution_count": 79,
   "id": "82720489",
   "metadata": {},
   "outputs": [
    {
     "data": {
      "text/plain": [
       "('Bot_rating_mean_x',\n",
       " 'player_score_mean_x',\n",
       " 'time_control_name_mean_x',\n",
       " 'lexicon_mean_x',\n",
       " 'initial_time_seconds_mean_x',\n",
       " 'rating_mode_mean_x',\n",
       " 'game_duration_seconds_mean_x',\n",
       " 'turn_number_count_x',\n",
       " 'move_mean_y',\n",
       " 'move_max_y')"
      ]
     },
     "execution_count": 79,
     "metadata": {},
     "output_type": "execute_result"
    }
   ],
   "source": [
    "feature.k_feature_names_"
   ]
  },
  {
   "cell_type": "markdown",
   "id": "f98696a7",
   "metadata": {},
   "source": [
    "lnr/lasso/ridge/elastic_regression  'Bot_score_x','Bot_rating_x','player_score_x','time_control_name_x','lexicon_x','initial_time_seconds_x','rating_mode_x','game_duration_seconds_x','turn_number_x','rack_x'\n",
    "\n",
    "decession tree 'Bot_rating_x','time_control_name_x','lexicon_x','initial_time_seconds_x','increment_seconds_x','rating_mode_x','max_overtime_minutes_x','turn3_x','turn3_y',\n",
    "\n",
    "Random Forest 'Bot_rating_x','player_score_x','lexicon_x','initial_time_seconds_x','rating_mode_x','max_overtime_minutes_x','game_duration_seconds_x','move_x','turn_number_y','move_y'\n",
    "\n",
    "Gradient Boost 'Bot_score_x','Bot_rating_x','player_score_x','lexicon_x','initial_time_seconds_x','rating_mode_x','game_duration_seconds_x','turn_number_y','points_y','turn6_y'\n"
   ]
  },
  {
   "cell_type": "markdown",
   "id": "b89a97f4",
   "metadata": {},
   "source": [
    "Finding the Best parameter combination to get good result by using Grid search and Random search "
   ]
  },
  {
   "cell_type": "code",
   "execution_count": 80,
   "id": "c54cfb8d",
   "metadata": {},
   "outputs": [],
   "source": [
    "from sklearn.model_selection import GridSearchCV"
   ]
  },
  {
   "cell_type": "code",
   "execution_count": 81,
   "id": "4cddac7d",
   "metadata": {},
   "outputs": [],
   "source": [
    "param_grid = {  \n",
    "    'fit_intercept':[True,False],\n",
    "    'normalize':[False,True],\n",
    "    'positive':[False,True]\n",
    "}"
   ]
  },
  {
   "cell_type": "code",
   "execution_count": 82,
   "id": "a880ec34",
   "metadata": {},
   "outputs": [
    {
     "data": {
      "text/plain": [
       "GridSearchCV(estimator=LinearRegression(), n_jobs=-1,\n",
       "             param_grid={'fit_intercept': [True, False],\n",
       "                         'normalize': [False, True],\n",
       "                         'positive': [False, True]})"
      ]
     },
     "execution_count": 82,
     "metadata": {},
     "output_type": "execute_result"
    }
   ],
   "source": [
    "reg = GridSearchCV(lr,param_grid=param_grid,n_jobs=-1)\n",
    "reg.fit(x_train,y_train)"
   ]
  },
  {
   "cell_type": "code",
   "execution_count": 83,
   "id": "ee12bc86",
   "metadata": {},
   "outputs": [
    {
     "name": "stdout",
     "output_type": "stream",
     "text": [
      "0.6327492660757403\n"
     ]
    }
   ],
   "source": [
    "print(reg.best_score_)\n",
    "dict_ls = reg.best_params_"
   ]
  },
  {
   "cell_type": "code",
   "execution_count": 84,
   "id": "6e6b2c81",
   "metadata": {},
   "outputs": [
    {
     "data": {
      "text/plain": [
       "{'fit_intercept': True, 'normalize': False, 'positive': False}"
      ]
     },
     "execution_count": 84,
     "metadata": {},
     "output_type": "execute_result"
    }
   ],
   "source": [
    "dict_ls"
   ]
  },
  {
   "cell_type": "markdown",
   "id": "645692a3",
   "metadata": {},
   "source": [
    "Elastic Net 'alpha': 0.01, 'l1_ratio': 0.99, 'max_iter': 1000, 'random_state': 42, 'selection': 'cyclic', 'warm_start': True\n",
    "\n",
    "LASSO 'alpha': 0.01, 'max_iter': 1000, 'random_state': 42\n",
    "\n",
    "random forest 'criterion': 'mse','max_depth': 5000, 'max_features': None, 'min_samples_leaf': 2, 'min_samples_split': 3, 'min_weight_fraction_leaf': 0.0, 'random_state': None,\n",
    "\n",
    "Linear 'fit_intercept': True, 'normalize': False, 'positive': False\n",
    "\n",
    "bagging 'bootstrap': True,'bootstrap_features': False, 'n_estimators': 50, 'random_state': None, 'warm_start': True\n",
    "\n",
    "Ada Boost 'learning_rate': 0.1, 'loss': 'linear', 'n_estimators': 50, 'random_state': None"
   ]
  },
  {
   "cell_type": "markdown",
   "id": "f52437c0",
   "metadata": {},
   "source": [
    "Metric for measuring the error"
   ]
  },
  {
   "cell_type": "code",
   "execution_count": 85,
   "id": "6e1f21d2",
   "metadata": {},
   "outputs": [],
   "source": [
    "from sklearn.metrics import r2_score,mean_squared_error"
   ]
  },
  {
   "cell_type": "markdown",
   "id": "0be8c6ec",
   "metadata": {},
   "source": [
    "Ensemble Voting"
   ]
  },
  {
   "cell_type": "code",
   "execution_count": 86,
   "id": "0f6e1dca",
   "metadata": {},
   "outputs": [],
   "source": [
    "vot_base_model= [\n",
    "    ('lss_rgr',Lasso(alpha=0.01,max_iter= 2000,random_state=42)),\n",
    "    ('dtr_rgr',DecisionTreeRegressor()),\n",
    "    ('rfg_rgr',RandomForestRegressor(criterion= 'mse',max_depth= 5000,max_features= None,min_samples_leaf= 2, \n",
    "                                     min_samples_split= 3,min_weight_fraction_leaf= 0.0, random_state= None)),\n",
    "    ('gbr_rgr',GradientBoostingRegressor())\n",
    "]"
   ]
  },
  {
   "cell_type": "code",
   "execution_count": 87,
   "id": "da69b18f",
   "metadata": {
    "scrolled": true
   },
   "outputs": [],
   "source": [
    "from sklearn.ensemble import VotingRegressor\n",
    "vtg_rgr = VotingRegressor(vot_base_model)"
   ]
  },
  {
   "cell_type": "code",
   "execution_count": 90,
   "id": "0385a19d",
   "metadata": {},
   "outputs": [
    {
     "data": {
      "text/plain": [
       "VotingRegressor(estimators=[('lss_rgr',\n",
       "                             Lasso(alpha=0.01, max_iter=2000, random_state=42)),\n",
       "                            ('dtr_rgr', DecisionTreeRegressor()),\n",
       "                            ('rfg_rgr',\n",
       "                             RandomForestRegressor(max_depth=5000,\n",
       "                                                   max_features=None,\n",
       "                                                   min_samples_leaf=2,\n",
       "                                                   min_samples_split=3)),\n",
       "                            ('gbr_rgr', GradientBoostingRegressor())])"
      ]
     },
     "execution_count": 90,
     "metadata": {},
     "output_type": "execute_result"
    }
   ],
   "source": [
    "vtg_rgr.fit(x_train1,y_train1)"
   ]
  },
  {
   "cell_type": "code",
   "execution_count": 91,
   "id": "ffe442df",
   "metadata": {},
   "outputs": [],
   "source": [
    "y_pred_vot=vtg_rgr.predict(x_test1)"
   ]
  },
  {
   "cell_type": "code",
   "execution_count": 92,
   "id": "17c40da7",
   "metadata": {},
   "outputs": [
    {
     "name": "stdout",
     "output_type": "stream",
     "text": [
      "0.741607247951102\n"
     ]
    },
    {
     "data": {
      "text/plain": [
       "116.11299430328717"
      ]
     },
     "execution_count": 92,
     "metadata": {},
     "output_type": "execute_result"
    }
   ],
   "source": [
    "score=r2_score(y_test1,y_pred_vot)\n",
    "print(score)\n",
    "mse=mean_squared_error(y_test1,y_pred_vot,squared=False)\n",
    "mse"
   ]
  },
  {
   "cell_type": "markdown",
   "id": "331e6aec",
   "metadata": {},
   "source": [
    "Predict Value on Kaggle test data score of 123 obtain"
   ]
  },
  {
   "cell_type": "code",
   "execution_count": 93,
   "id": "b91adb20",
   "metadata": {},
   "outputs": [],
   "source": [
    "# vtg_rgr.fit(x_train,y_train)\n",
    "# y_pred =vtg_rgr.predict(x_test)"
   ]
  },
  {
   "cell_type": "code",
   "execution_count": 94,
   "id": "d30f2690",
   "metadata": {},
   "outputs": [],
   "source": [
    "#df_new['rating']=y_pred\n",
    "#df= df_new[['game_id','rating']]\n",
    "#df.to_csv(\"C:/Users/ankro/OneDrive/Desktop/scrabble.csv\",index=False)"
   ]
  },
  {
   "cell_type": "markdown",
   "id": "7221d4ba",
   "metadata": {},
   "source": [
    "Ensemble Bagging"
   ]
  },
  {
   "cell_type": "code",
   "execution_count": 95,
   "id": "e5e7fada",
   "metadata": {},
   "outputs": [],
   "source": [
    "from sklearn.ensemble import BaggingRegressor\n",
    "bag_rgr = BaggingRegressor()"
   ]
  },
  {
   "cell_type": "code",
   "execution_count": 96,
   "id": "ba8971fb",
   "metadata": {},
   "outputs": [],
   "source": [
    "bag_rgr = BaggingRegressor(bootstrap= True,bootstrap_features= False,n_estimators= 50, random_state= None,warm_start= True)"
   ]
  },
  {
   "cell_type": "code",
   "execution_count": 97,
   "id": "deea393b",
   "metadata": {},
   "outputs": [
    {
     "data": {
      "text/plain": [
       "BaggingRegressor(n_estimators=50, warm_start=True)"
      ]
     },
     "execution_count": 97,
     "metadata": {},
     "output_type": "execute_result"
    }
   ],
   "source": [
    "bag_rgr.fit(x_train1,y_train1)"
   ]
  },
  {
   "cell_type": "code",
   "execution_count": 98,
   "id": "76b169c5",
   "metadata": {},
   "outputs": [],
   "source": [
    "y_pred_bagg=bag_rgr.predict(x_test1)"
   ]
  },
  {
   "cell_type": "code",
   "execution_count": 99,
   "id": "64b1b5d1",
   "metadata": {},
   "outputs": [
    {
     "name": "stdout",
     "output_type": "stream",
     "text": [
      "0.776460066315347\n"
     ]
    },
    {
     "data": {
      "text/plain": [
       "107.99862341392071"
      ]
     },
     "execution_count": 99,
     "metadata": {},
     "output_type": "execute_result"
    }
   ],
   "source": [
    "score=r2_score(y_test1,y_pred_bagg)\n",
    "print(score)\n",
    "mse=mean_squared_error(y_test1,y_pred_bagg,squared=False)\n",
    "mse"
   ]
  },
  {
   "cell_type": "markdown",
   "id": "249b81fe",
   "metadata": {},
   "source": [
    "Predict Value on Kaggle test data score of 112 obtain"
   ]
  },
  {
   "cell_type": "code",
   "execution_count": 100,
   "id": "cdfd48fd",
   "metadata": {},
   "outputs": [],
   "source": [
    "# bag_rgr.fit(x_train,y_train)\n",
    "# y_pred=bag_rgr.predict(x_test)"
   ]
  },
  {
   "cell_type": "code",
   "execution_count": 101,
   "id": "a0c207d8",
   "metadata": {},
   "outputs": [],
   "source": [
    "# df_new['rating']=y_pred\n",
    "# df= df_new[['game_id','rating']]\n",
    "# df.to_csv(\"C:/Users/ankro/OneDrive/Desktop/scrabble.csv\",index=False)"
   ]
  },
  {
   "cell_type": "markdown",
   "id": "494c4593",
   "metadata": {},
   "source": [
    "Ensemble Boosting"
   ]
  },
  {
   "cell_type": "code",
   "execution_count": 102,
   "id": "c7641821",
   "metadata": {},
   "outputs": [],
   "source": [
    "from sklearn.ensemble import AdaBoostRegressor\n",
    "ada_rgr=AdaBoostRegressor(learning_rate= 0.1,loss= 'linear',n_estimators= 50,random_state= None)"
   ]
  },
  {
   "cell_type": "code",
   "execution_count": 103,
   "id": "ee1bb394",
   "metadata": {},
   "outputs": [],
   "source": [
    "ada_rgr.fit(x_train1,y_train1)\n",
    "y_pred_ada = ada_rgr.predict(x_test1)"
   ]
  },
  {
   "cell_type": "code",
   "execution_count": 104,
   "id": "a571824e",
   "metadata": {},
   "outputs": [],
   "source": [
    "y_pred_ada=ada_rgr.predict(x_test1)"
   ]
  },
  {
   "cell_type": "code",
   "execution_count": 105,
   "id": "98f6a8ba",
   "metadata": {},
   "outputs": [
    {
     "name": "stdout",
     "output_type": "stream",
     "text": [
      "0.6065947776769094\n"
     ]
    },
    {
     "data": {
      "text/plain": [
       "143.27180137028833"
      ]
     },
     "execution_count": 105,
     "metadata": {},
     "output_type": "execute_result"
    }
   ],
   "source": [
    "score=r2_score(y_test1,y_pred_ada)\n",
    "print(score)\n",
    "mse=mean_squared_error(y_test1,y_pred_ada,squared=False)\n",
    "mse"
   ]
  },
  {
   "cell_type": "markdown",
   "id": "3392b398",
   "metadata": {},
   "source": [
    "Ensemble Stacking"
   ]
  },
  {
   "cell_type": "code",
   "execution_count": 106,
   "id": "f9787359",
   "metadata": {},
   "outputs": [],
   "source": [
    "from sklearn.ensemble import StackingRegressor"
   ]
  },
  {
   "cell_type": "code",
   "execution_count": 107,
   "id": "d2e78aee",
   "metadata": {},
   "outputs": [],
   "source": [
    "stck_estimator=[\n",
    "    ('Random',RandomForestRegressor(criterion= 'mse',max_depth= 5000,max_features= None,min_samples_leaf= 2, \n",
    "                                     min_samples_split= 3,min_weight_fraction_leaf= 0.0, random_state= None)),\n",
    "    ('Bagging',BaggingRegressor(bootstrap= True,bootstrap_features= False,n_estimators= 50, random_state= \n",
    "                                None,warm_start= True)),\n",
    "#    ('adaBoost',AdaBoostRegressor(learning_rate= 0.1,loss= 'linear',n_estimators= 50,random_state= None)),\n",
    "#    ('Elastic',ElasticNet(alpha= 0.01,l1_ratio= 0.99,max_iter= 1000,random_state= 42, \n",
    "#                          selection='cyclic',warm_start=True)),\n",
    "    ('Gradient',GradientBoostingRegressor(warm_start=True)),\n",
    "#    ('Linear',LinearRegression()),\n",
    "#    ('Ridge',Ridge()),\n",
    "#    ('Lasso',Lasso(alpha=0.01,max_iter= 2000,random_state=42)),\n",
    "#    ('Decision Tree',DecisionTreeRegressor()),\n",
    "#    ('KNN',KNeighborsRegressor())\n",
    "]"
   ]
  },
  {
   "cell_type": "code",
   "execution_count": 108,
   "id": "bc27b275",
   "metadata": {},
   "outputs": [],
   "source": [
    "# vote_model= [\n",
    "#    ('Random',RandomForestRegressor()),\n",
    "#    ('Bagging',BaggingRegressor()),\n",
    "#    ('adaBoost',AdaBoostRegressor()),\n",
    "#    ('Elastic',ElasticNet()),\n",
    "#    ('Gradient',GradientBoostingRegressor()),\n",
    "#    ('Linear',LinearRegression()),\n",
    "#    ('Ridge',Ridge()),\n",
    "#    ('Lasso',Lasso()),\n",
    "#    ('Decision Tree',DecisionTreeRegressor()),\n",
    "#    ('KNN',KNeighborsRegressor())\n",
    "#]\n",
    "#vote_reg = VotingRegressor(vote_model)"
   ]
  },
  {
   "cell_type": "code",
   "execution_count": 109,
   "id": "b883f06b",
   "metadata": {},
   "outputs": [],
   "source": [
    "stck_rgr = StackingRegressor(stck_estimator,final_estimator=LinearRegression(),n_jobs=-1,verbose=2)"
   ]
  },
  {
   "cell_type": "code",
   "execution_count": 110,
   "id": "2dfc3d78",
   "metadata": {},
   "outputs": [
    {
     "data": {
      "text/plain": [
       "StackingRegressor(estimators=[('Random',\n",
       "                               RandomForestRegressor(max_depth=5000,\n",
       "                                                     max_features=None,\n",
       "                                                     min_samples_leaf=2,\n",
       "                                                     min_samples_split=3)),\n",
       "                              ('Bagging',\n",
       "                               BaggingRegressor(n_estimators=50,\n",
       "                                                warm_start=True)),\n",
       "                              ('Gradient',\n",
       "                               GradientBoostingRegressor(warm_start=True))],\n",
       "                  final_estimator=LinearRegression(), n_jobs=-1, verbose=2)"
      ]
     },
     "execution_count": 110,
     "metadata": {},
     "output_type": "execute_result"
    }
   ],
   "source": [
    "stck_rgr.fit(x_train1,y_train1)"
   ]
  },
  {
   "cell_type": "code",
   "execution_count": 111,
   "id": "61d2e121",
   "metadata": {},
   "outputs": [],
   "source": [
    "y_pred_stck = stck_rgr.predict(x_test1)"
   ]
  },
  {
   "cell_type": "code",
   "execution_count": 112,
   "id": "b76a5baf",
   "metadata": {},
   "outputs": [
    {
     "name": "stdout",
     "output_type": "stream",
     "text": [
      "0.7798225813730759\n"
     ]
    },
    {
     "data": {
      "text/plain": [
       "107.18328141802351"
      ]
     },
     "execution_count": 112,
     "metadata": {},
     "output_type": "execute_result"
    }
   ],
   "source": [
    "score=r2_score(y_test1,y_pred_stck)\n",
    "print(score)\n",
    "mse=mean_squared_error(y_test1,y_pred_stck,squared=False)\n",
    "mse"
   ]
  },
  {
   "cell_type": "markdown",
   "id": "c32408d0",
   "metadata": {},
   "source": [
    "Using Stacking model in Kaggle dataset so far getting 109 score"
   ]
  },
  {
   "cell_type": "code",
   "execution_count": null,
   "id": "6a467006",
   "metadata": {},
   "outputs": [],
   "source": [
    "stck_rgr.fit(x_train,y_train)\n",
    "y_pred = stck_rgr.predict(x_test)"
   ]
  },
  {
   "cell_type": "code",
   "execution_count": null,
   "id": "d3c391bc",
   "metadata": {},
   "outputs": [],
   "source": [
    "df_new['rating']=y_pred_stck\n",
    "df= df_new[['game_id','rating']]\n",
    "df.to_csv(\"C:/Users/ankro/OneDrive/Desktop/scrabble.csv\",index=False)"
   ]
  },
  {
   "cell_type": "markdown",
   "id": "137d77d0",
   "metadata": {},
   "source": [
    "Multi-Level ensemble Stacking"
   ]
  },
  {
   "cell_type": "code",
   "execution_count": null,
   "id": "484aa034",
   "metadata": {},
   "outputs": [],
   "source": []
  }
 ],
 "metadata": {
  "kernelspec": {
   "display_name": "Python 3 (ipykernel)",
   "language": "python",
   "name": "python3"
  },
  "language_info": {
   "codemirror_mode": {
    "name": "ipython",
    "version": 3
   },
   "file_extension": ".py",
   "mimetype": "text/x-python",
   "name": "python",
   "nbconvert_exporter": "python",
   "pygments_lexer": "ipython3",
   "version": "3.9.7"
  }
 },
 "nbformat": 4,
 "nbformat_minor": 5
}
